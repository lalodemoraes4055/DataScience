{
  "nbformat": 4,
  "nbformat_minor": 0,
  "metadata": {
    "colab": {
      "provenance": []
    },
    "kernelspec": {
      "name": "python3",
      "display_name": "Python 3"
    },
    "language_info": {
      "name": "python"
    }
  },
  "cells": [
    {
      "cell_type": "markdown",
      "source": [
        "**MAESTRÍA EN INTELIGENCIA ARTIFICIAL APLICADA**\n",
        "\n",
        "**Curso: TC4029 - Ciencia y analítica de datos**\n",
        "\n",
        "Tecnológico de Monterrey\n",
        "\n",
        "Prof Grettel Barceló Alonso\n",
        "\n",
        "**Semana 2**\n",
        "Pandas para el análisis de datos en Python\n",
        "\n",
        "---"
      ],
      "metadata": {
        "id": "SML-04QQLd9l"
      }
    },
    {
      "cell_type": "markdown",
      "source": [
        "*   NOMBRE: José Eduardo De Moraes López\n",
        "*   MATRÍCULA: A01634782\n"
      ],
      "metadata": {
        "id": "6q35__bSBB3G"
      }
    },
    {
      "cell_type": "markdown",
      "source": [
        "---"
      ],
      "metadata": {
        "id": "AepY3wwtDXkc"
      }
    },
    {
      "cell_type": "markdown",
      "source": [
        "En esta actividad usarás el archivo de datos `LaqnData.csv`. Cada fila de este conjunto de datos muestra un registro de medición, por hora, de uno de los siguientes cinco contaminantes del aire:\n",
        "\n",
        "*   `NO` (óxido nítrico)\n",
        "*   `NO2` (dióxido de nitrógeno)\n",
        "*   `NOX` (óxidos nitrosos)\n",
        "*   `PM10` (partículas suspendidas con un diámetro aerodinámico igual o menor a 10 micrómetros)\n",
        "*   `PM2.5` (partículas suspendidas con un diámetro aerodinámico igual o menor a 2.5 micrómetros)\n",
        "\n",
        "Los datos se recopilaron en una ubicación de Londres durante todo el año 2017.\n",
        "\n",
        "**NOTA IMPORTANTE:** Asegúrate de responder *explícitamente* todos los cuestionamientos.\n"
      ],
      "metadata": {
        "id": "BumCtObqBqGr"
      }
    },
    {
      "cell_type": "markdown",
      "source": [
        "1.\tDescarga el archivo: `LaqnData.csv` y guarda, en un dataframe (`air_df`), todos sus registros.\n",
        "*   Observa la estructura y contenido del dataframe con los atributos y métodos estudiados (`shape`, `columns`, `head()`, `tail()`, `dtypes`)\n",
        "*   Calcula el porcentaje de valores faltantes por columna."
      ],
      "metadata": {
        "id": "mqtTwAL3Mr44"
      }
    },
    {
      "cell_type": "code",
      "execution_count": 111,
      "metadata": {
        "id": "F5JognteLaJV",
        "colab": {
          "base_uri": "https://localhost:8080/",
          "height": 441
        },
        "outputId": "8bd0e36b-e37f-4cfe-f44d-02920c91e00f"
      },
      "outputs": [
        {
          "output_type": "stream",
          "name": "stdout",
          "text": [
            "Drive already mounted at /content/drive; to attempt to forcibly remount, call drive.mount(\"/content/drive\", force_remount=True).\n"
          ]
        },
        {
          "output_type": "execute_result",
          "data": {
            "text/plain": [
              "      Site Species   ReadingDateTime  Value   Units Provisional or Ratified\n",
              "0      CT3      NO  01/01/2017 00:00    3.5  ug m-3                       R\n",
              "1      CT3      NO  01/01/2017 01:00    3.6  ug m-3                       R\n",
              "2      CT3      NO  01/01/2017 02:00    2.2  ug m-3                       R\n",
              "3      CT3      NO  01/01/2017 03:00    2.1  ug m-3                       R\n",
              "4      CT3      NO  01/01/2017 04:00    3.3  ug m-3                       R\n",
              "...    ...     ...               ...    ...     ...                     ...\n",
              "43795  CT3   PM2.5  31/12/2017 19:00   -2.0  ug m-3                       R\n",
              "43796  CT3   PM2.5  31/12/2017 20:00    6.0  ug m-3                       R\n",
              "43797  CT3   PM2.5  31/12/2017 21:00    5.0  ug m-3                       R\n",
              "43798  CT3   PM2.5  31/12/2017 22:00    5.0  ug m-3                       R\n",
              "43799  CT3   PM2.5  31/12/2017 23:00    6.0  ug m-3                       R\n",
              "\n",
              "[43800 rows x 6 columns]"
            ],
            "text/html": [
              "\n",
              "  <div id=\"df-f10c4dc0-063f-42c7-9615-3956b1d7c720\" class=\"colab-df-container\">\n",
              "    <div>\n",
              "<style scoped>\n",
              "    .dataframe tbody tr th:only-of-type {\n",
              "        vertical-align: middle;\n",
              "    }\n",
              "\n",
              "    .dataframe tbody tr th {\n",
              "        vertical-align: top;\n",
              "    }\n",
              "\n",
              "    .dataframe thead th {\n",
              "        text-align: right;\n",
              "    }\n",
              "</style>\n",
              "<table border=\"1\" class=\"dataframe\">\n",
              "  <thead>\n",
              "    <tr style=\"text-align: right;\">\n",
              "      <th></th>\n",
              "      <th>Site</th>\n",
              "      <th>Species</th>\n",
              "      <th>ReadingDateTime</th>\n",
              "      <th>Value</th>\n",
              "      <th>Units</th>\n",
              "      <th>Provisional or Ratified</th>\n",
              "    </tr>\n",
              "  </thead>\n",
              "  <tbody>\n",
              "    <tr>\n",
              "      <th>0</th>\n",
              "      <td>CT3</td>\n",
              "      <td>NO</td>\n",
              "      <td>01/01/2017 00:00</td>\n",
              "      <td>3.5</td>\n",
              "      <td>ug m-3</td>\n",
              "      <td>R</td>\n",
              "    </tr>\n",
              "    <tr>\n",
              "      <th>1</th>\n",
              "      <td>CT3</td>\n",
              "      <td>NO</td>\n",
              "      <td>01/01/2017 01:00</td>\n",
              "      <td>3.6</td>\n",
              "      <td>ug m-3</td>\n",
              "      <td>R</td>\n",
              "    </tr>\n",
              "    <tr>\n",
              "      <th>2</th>\n",
              "      <td>CT3</td>\n",
              "      <td>NO</td>\n",
              "      <td>01/01/2017 02:00</td>\n",
              "      <td>2.2</td>\n",
              "      <td>ug m-3</td>\n",
              "      <td>R</td>\n",
              "    </tr>\n",
              "    <tr>\n",
              "      <th>3</th>\n",
              "      <td>CT3</td>\n",
              "      <td>NO</td>\n",
              "      <td>01/01/2017 03:00</td>\n",
              "      <td>2.1</td>\n",
              "      <td>ug m-3</td>\n",
              "      <td>R</td>\n",
              "    </tr>\n",
              "    <tr>\n",
              "      <th>4</th>\n",
              "      <td>CT3</td>\n",
              "      <td>NO</td>\n",
              "      <td>01/01/2017 04:00</td>\n",
              "      <td>3.3</td>\n",
              "      <td>ug m-3</td>\n",
              "      <td>R</td>\n",
              "    </tr>\n",
              "    <tr>\n",
              "      <th>...</th>\n",
              "      <td>...</td>\n",
              "      <td>...</td>\n",
              "      <td>...</td>\n",
              "      <td>...</td>\n",
              "      <td>...</td>\n",
              "      <td>...</td>\n",
              "    </tr>\n",
              "    <tr>\n",
              "      <th>43795</th>\n",
              "      <td>CT3</td>\n",
              "      <td>PM2.5</td>\n",
              "      <td>31/12/2017 19:00</td>\n",
              "      <td>-2.0</td>\n",
              "      <td>ug m-3</td>\n",
              "      <td>R</td>\n",
              "    </tr>\n",
              "    <tr>\n",
              "      <th>43796</th>\n",
              "      <td>CT3</td>\n",
              "      <td>PM2.5</td>\n",
              "      <td>31/12/2017 20:00</td>\n",
              "      <td>6.0</td>\n",
              "      <td>ug m-3</td>\n",
              "      <td>R</td>\n",
              "    </tr>\n",
              "    <tr>\n",
              "      <th>43797</th>\n",
              "      <td>CT3</td>\n",
              "      <td>PM2.5</td>\n",
              "      <td>31/12/2017 21:00</td>\n",
              "      <td>5.0</td>\n",
              "      <td>ug m-3</td>\n",
              "      <td>R</td>\n",
              "    </tr>\n",
              "    <tr>\n",
              "      <th>43798</th>\n",
              "      <td>CT3</td>\n",
              "      <td>PM2.5</td>\n",
              "      <td>31/12/2017 22:00</td>\n",
              "      <td>5.0</td>\n",
              "      <td>ug m-3</td>\n",
              "      <td>R</td>\n",
              "    </tr>\n",
              "    <tr>\n",
              "      <th>43799</th>\n",
              "      <td>CT3</td>\n",
              "      <td>PM2.5</td>\n",
              "      <td>31/12/2017 23:00</td>\n",
              "      <td>6.0</td>\n",
              "      <td>ug m-3</td>\n",
              "      <td>R</td>\n",
              "    </tr>\n",
              "  </tbody>\n",
              "</table>\n",
              "<p>43800 rows × 6 columns</p>\n",
              "</div>\n",
              "    <div class=\"colab-df-buttons\">\n",
              "\n",
              "  <div class=\"colab-df-container\">\n",
              "    <button class=\"colab-df-convert\" onclick=\"convertToInteractive('df-f10c4dc0-063f-42c7-9615-3956b1d7c720')\"\n",
              "            title=\"Convert this dataframe to an interactive table.\"\n",
              "            style=\"display:none;\">\n",
              "\n",
              "  <svg xmlns=\"http://www.w3.org/2000/svg\" height=\"24px\" viewBox=\"0 -960 960 960\">\n",
              "    <path d=\"M120-120v-720h720v720H120Zm60-500h600v-160H180v160Zm220 220h160v-160H400v160Zm0 220h160v-160H400v160ZM180-400h160v-160H180v160Zm440 0h160v-160H620v160ZM180-180h160v-160H180v160Zm440 0h160v-160H620v160Z\"/>\n",
              "  </svg>\n",
              "    </button>\n",
              "\n",
              "  <style>\n",
              "    .colab-df-container {\n",
              "      display:flex;\n",
              "      gap: 12px;\n",
              "    }\n",
              "\n",
              "    .colab-df-convert {\n",
              "      background-color: #E8F0FE;\n",
              "      border: none;\n",
              "      border-radius: 50%;\n",
              "      cursor: pointer;\n",
              "      display: none;\n",
              "      fill: #1967D2;\n",
              "      height: 32px;\n",
              "      padding: 0 0 0 0;\n",
              "      width: 32px;\n",
              "    }\n",
              "\n",
              "    .colab-df-convert:hover {\n",
              "      background-color: #E2EBFA;\n",
              "      box-shadow: 0px 1px 2px rgba(60, 64, 67, 0.3), 0px 1px 3px 1px rgba(60, 64, 67, 0.15);\n",
              "      fill: #174EA6;\n",
              "    }\n",
              "\n",
              "    .colab-df-buttons div {\n",
              "      margin-bottom: 4px;\n",
              "    }\n",
              "\n",
              "    [theme=dark] .colab-df-convert {\n",
              "      background-color: #3B4455;\n",
              "      fill: #D2E3FC;\n",
              "    }\n",
              "\n",
              "    [theme=dark] .colab-df-convert:hover {\n",
              "      background-color: #434B5C;\n",
              "      box-shadow: 0px 1px 3px 1px rgba(0, 0, 0, 0.15);\n",
              "      filter: drop-shadow(0px 1px 2px rgba(0, 0, 0, 0.3));\n",
              "      fill: #FFFFFF;\n",
              "    }\n",
              "  </style>\n",
              "\n",
              "    <script>\n",
              "      const buttonEl =\n",
              "        document.querySelector('#df-f10c4dc0-063f-42c7-9615-3956b1d7c720 button.colab-df-convert');\n",
              "      buttonEl.style.display =\n",
              "        google.colab.kernel.accessAllowed ? 'block' : 'none';\n",
              "\n",
              "      async function convertToInteractive(key) {\n",
              "        const element = document.querySelector('#df-f10c4dc0-063f-42c7-9615-3956b1d7c720');\n",
              "        const dataTable =\n",
              "          await google.colab.kernel.invokeFunction('convertToInteractive',\n",
              "                                                    [key], {});\n",
              "        if (!dataTable) return;\n",
              "\n",
              "        const docLinkHtml = 'Like what you see? Visit the ' +\n",
              "          '<a target=\"_blank\" href=https://colab.research.google.com/notebooks/data_table.ipynb>data table notebook</a>'\n",
              "          + ' to learn more about interactive tables.';\n",
              "        element.innerHTML = '';\n",
              "        dataTable['output_type'] = 'display_data';\n",
              "        await google.colab.output.renderOutput(dataTable, element);\n",
              "        const docLink = document.createElement('div');\n",
              "        docLink.innerHTML = docLinkHtml;\n",
              "        element.appendChild(docLink);\n",
              "      }\n",
              "    </script>\n",
              "  </div>\n",
              "\n",
              "\n",
              "<div id=\"df-65aed654-38ea-4027-8d66-f99cd05479a3\">\n",
              "  <button class=\"colab-df-quickchart\" onclick=\"quickchart('df-65aed654-38ea-4027-8d66-f99cd05479a3')\"\n",
              "            title=\"Suggest charts\"\n",
              "            style=\"display:none;\">\n",
              "\n",
              "<svg xmlns=\"http://www.w3.org/2000/svg\" height=\"24px\"viewBox=\"0 0 24 24\"\n",
              "     width=\"24px\">\n",
              "    <g>\n",
              "        <path d=\"M19 3H5c-1.1 0-2 .9-2 2v14c0 1.1.9 2 2 2h14c1.1 0 2-.9 2-2V5c0-1.1-.9-2-2-2zM9 17H7v-7h2v7zm4 0h-2V7h2v10zm4 0h-2v-4h2v4z\"/>\n",
              "    </g>\n",
              "</svg>\n",
              "  </button>\n",
              "\n",
              "<style>\n",
              "  .colab-df-quickchart {\n",
              "      --bg-color: #E8F0FE;\n",
              "      --fill-color: #1967D2;\n",
              "      --hover-bg-color: #E2EBFA;\n",
              "      --hover-fill-color: #174EA6;\n",
              "      --disabled-fill-color: #AAA;\n",
              "      --disabled-bg-color: #DDD;\n",
              "  }\n",
              "\n",
              "  [theme=dark] .colab-df-quickchart {\n",
              "      --bg-color: #3B4455;\n",
              "      --fill-color: #D2E3FC;\n",
              "      --hover-bg-color: #434B5C;\n",
              "      --hover-fill-color: #FFFFFF;\n",
              "      --disabled-bg-color: #3B4455;\n",
              "      --disabled-fill-color: #666;\n",
              "  }\n",
              "\n",
              "  .colab-df-quickchart {\n",
              "    background-color: var(--bg-color);\n",
              "    border: none;\n",
              "    border-radius: 50%;\n",
              "    cursor: pointer;\n",
              "    display: none;\n",
              "    fill: var(--fill-color);\n",
              "    height: 32px;\n",
              "    padding: 0;\n",
              "    width: 32px;\n",
              "  }\n",
              "\n",
              "  .colab-df-quickchart:hover {\n",
              "    background-color: var(--hover-bg-color);\n",
              "    box-shadow: 0 1px 2px rgba(60, 64, 67, 0.3), 0 1px 3px 1px rgba(60, 64, 67, 0.15);\n",
              "    fill: var(--button-hover-fill-color);\n",
              "  }\n",
              "\n",
              "  .colab-df-quickchart-complete:disabled,\n",
              "  .colab-df-quickchart-complete:disabled:hover {\n",
              "    background-color: var(--disabled-bg-color);\n",
              "    fill: var(--disabled-fill-color);\n",
              "    box-shadow: none;\n",
              "  }\n",
              "\n",
              "  .colab-df-spinner {\n",
              "    border: 2px solid var(--fill-color);\n",
              "    border-color: transparent;\n",
              "    border-bottom-color: var(--fill-color);\n",
              "    animation:\n",
              "      spin 1s steps(1) infinite;\n",
              "  }\n",
              "\n",
              "  @keyframes spin {\n",
              "    0% {\n",
              "      border-color: transparent;\n",
              "      border-bottom-color: var(--fill-color);\n",
              "      border-left-color: var(--fill-color);\n",
              "    }\n",
              "    20% {\n",
              "      border-color: transparent;\n",
              "      border-left-color: var(--fill-color);\n",
              "      border-top-color: var(--fill-color);\n",
              "    }\n",
              "    30% {\n",
              "      border-color: transparent;\n",
              "      border-left-color: var(--fill-color);\n",
              "      border-top-color: var(--fill-color);\n",
              "      border-right-color: var(--fill-color);\n",
              "    }\n",
              "    40% {\n",
              "      border-color: transparent;\n",
              "      border-right-color: var(--fill-color);\n",
              "      border-top-color: var(--fill-color);\n",
              "    }\n",
              "    60% {\n",
              "      border-color: transparent;\n",
              "      border-right-color: var(--fill-color);\n",
              "    }\n",
              "    80% {\n",
              "      border-color: transparent;\n",
              "      border-right-color: var(--fill-color);\n",
              "      border-bottom-color: var(--fill-color);\n",
              "    }\n",
              "    90% {\n",
              "      border-color: transparent;\n",
              "      border-bottom-color: var(--fill-color);\n",
              "    }\n",
              "  }\n",
              "</style>\n",
              "\n",
              "  <script>\n",
              "    async function quickchart(key) {\n",
              "      const quickchartButtonEl =\n",
              "        document.querySelector('#' + key + ' button');\n",
              "      quickchartButtonEl.disabled = true;  // To prevent multiple clicks.\n",
              "      quickchartButtonEl.classList.add('colab-df-spinner');\n",
              "      try {\n",
              "        const charts = await google.colab.kernel.invokeFunction(\n",
              "            'suggestCharts', [key], {});\n",
              "      } catch (error) {\n",
              "        console.error('Error during call to suggestCharts:', error);\n",
              "      }\n",
              "      quickchartButtonEl.classList.remove('colab-df-spinner');\n",
              "      quickchartButtonEl.classList.add('colab-df-quickchart-complete');\n",
              "    }\n",
              "    (() => {\n",
              "      let quickchartButtonEl =\n",
              "        document.querySelector('#df-65aed654-38ea-4027-8d66-f99cd05479a3 button');\n",
              "      quickchartButtonEl.style.display =\n",
              "        google.colab.kernel.accessAllowed ? 'block' : 'none';\n",
              "    })();\n",
              "  </script>\n",
              "</div>\n",
              "\n",
              "  <div id=\"id_9651ceef-0c6e-4f97-89ac-a8b783d7c967\">\n",
              "    <style>\n",
              "      .colab-df-generate {\n",
              "        background-color: #E8F0FE;\n",
              "        border: none;\n",
              "        border-radius: 50%;\n",
              "        cursor: pointer;\n",
              "        display: none;\n",
              "        fill: #1967D2;\n",
              "        height: 32px;\n",
              "        padding: 0 0 0 0;\n",
              "        width: 32px;\n",
              "      }\n",
              "\n",
              "      .colab-df-generate:hover {\n",
              "        background-color: #E2EBFA;\n",
              "        box-shadow: 0px 1px 2px rgba(60, 64, 67, 0.3), 0px 1px 3px 1px rgba(60, 64, 67, 0.15);\n",
              "        fill: #174EA6;\n",
              "      }\n",
              "\n",
              "      [theme=dark] .colab-df-generate {\n",
              "        background-color: #3B4455;\n",
              "        fill: #D2E3FC;\n",
              "      }\n",
              "\n",
              "      [theme=dark] .colab-df-generate:hover {\n",
              "        background-color: #434B5C;\n",
              "        box-shadow: 0px 1px 3px 1px rgba(0, 0, 0, 0.15);\n",
              "        filter: drop-shadow(0px 1px 2px rgba(0, 0, 0, 0.3));\n",
              "        fill: #FFFFFF;\n",
              "      }\n",
              "    </style>\n",
              "    <button class=\"colab-df-generate\" onclick=\"generateWithVariable('air_df')\"\n",
              "            title=\"Generate code using this dataframe.\"\n",
              "            style=\"display:none;\">\n",
              "\n",
              "  <svg xmlns=\"http://www.w3.org/2000/svg\" height=\"24px\"viewBox=\"0 0 24 24\"\n",
              "       width=\"24px\">\n",
              "    <path d=\"M7,19H8.4L18.45,9,17,7.55,7,17.6ZM5,21V16.75L18.45,3.32a2,2,0,0,1,2.83,0l1.4,1.43a1.91,1.91,0,0,1,.58,1.4,1.91,1.91,0,0,1-.58,1.4L9.25,21ZM18.45,9,17,7.55Zm-12,3A5.31,5.31,0,0,0,4.9,8.1,5.31,5.31,0,0,0,1,6.5,5.31,5.31,0,0,0,4.9,4.9,5.31,5.31,0,0,0,6.5,1,5.31,5.31,0,0,0,8.1,4.9,5.31,5.31,0,0,0,12,6.5,5.46,5.46,0,0,0,6.5,12Z\"/>\n",
              "  </svg>\n",
              "    </button>\n",
              "    <script>\n",
              "      (() => {\n",
              "      const buttonEl =\n",
              "        document.querySelector('#id_9651ceef-0c6e-4f97-89ac-a8b783d7c967 button.colab-df-generate');\n",
              "      buttonEl.style.display =\n",
              "        google.colab.kernel.accessAllowed ? 'block' : 'none';\n",
              "\n",
              "      buttonEl.onclick = () => {\n",
              "        google.colab.notebook.generateWithVariable('air_df');\n",
              "      }\n",
              "      })();\n",
              "    </script>\n",
              "  </div>\n",
              "\n",
              "    </div>\n",
              "  </div>\n"
            ],
            "application/vnd.google.colaboratory.intrinsic+json": {
              "type": "dataframe",
              "variable_name": "air_df",
              "summary": "{\n  \"name\": \"air_df\",\n  \"rows\": 43800,\n  \"fields\": [\n    {\n      \"column\": \"Site\",\n      \"properties\": {\n        \"dtype\": \"category\",\n        \"num_unique_values\": 1,\n        \"samples\": [\n          \"CT3\"\n        ],\n        \"semantic_type\": \"\",\n        \"description\": \"\"\n      }\n    },\n    {\n      \"column\": \"Species\",\n      \"properties\": {\n        \"dtype\": \"category\",\n        \"num_unique_values\": 5,\n        \"samples\": [\n          \"NO2\"\n        ],\n        \"semantic_type\": \"\",\n        \"description\": \"\"\n      }\n    },\n    {\n      \"column\": \"ReadingDateTime\",\n      \"properties\": {\n        \"dtype\": \"category\",\n        \"num_unique_values\": 8760,\n        \"samples\": [\n          \"10/09/2017 08:00\"\n        ],\n        \"semantic_type\": \"\",\n        \"description\": \"\"\n      }\n    },\n    {\n      \"column\": \"Value\",\n      \"properties\": {\n        \"dtype\": \"number\",\n        \"std\": 35.343362051548915,\n        \"min\": -8.0,\n        \"max\": 734.29999,\n        \"num_unique_values\": 1847,\n        \"samples\": [\n          143.10001\n        ],\n        \"semantic_type\": \"\",\n        \"description\": \"\"\n      }\n    },\n    {\n      \"column\": \"Units\",\n      \"properties\": {\n        \"dtype\": \"category\",\n        \"num_unique_values\": 3,\n        \"samples\": [\n          \"ug m-3\"\n        ],\n        \"semantic_type\": \"\",\n        \"description\": \"\"\n      }\n    },\n    {\n      \"column\": \"Provisional or Ratified\",\n      \"properties\": {\n        \"dtype\": \"category\",\n        \"num_unique_values\": 1,\n        \"samples\": [\n          \"R\"\n        ],\n        \"semantic_type\": \"\",\n        \"description\": \"\"\n      }\n    }\n  ]\n}"
            }
          },
          "metadata": {},
          "execution_count": 111
        }
      ],
      "source": [
        "from google.colab import drive\n",
        "drive.mount('/content/drive')\n",
        "import pandas as pd\n",
        "import matplotlib.pyplot as plt\n",
        "import numpy as np\n",
        "import seaborn as sns\n",
        "air_df = pd.read_csv('/content/drive/MyDrive/Maestría/DS/LaqnData.csv')\n",
        "air_df"
      ]
    },
    {
      "cell_type": "code",
      "source": [
        "#Estructura y contenido del dataframe\n",
        "print(\"Tamaño del DataFrame:\", air_df.shape)          #Tamaño del DataFrame\n",
        "print(\"Columnas del DataFrame:\", air_df.columns)    #Nombres de las columnas\n",
        "print(\"Primeras 5 filas del DataFrame:\\n\", air_df.head())  #Primeras 5 filas\n",
        "print(\"Últimas 5 filas del DataFrame:\\n\", air_df.tail())   #Últimas 5 filas\n",
        "print(\"Tipos de datos:\\n\", air_df.dtypes)      #Tipos de datos"
      ],
      "metadata": {
        "colab": {
          "base_uri": "https://localhost:8080/"
        },
        "id": "Qmh_NYfxAeDX",
        "outputId": "093b3a5d-fd25-42b9-be57-3d28b5160a39"
      },
      "execution_count": 112,
      "outputs": [
        {
          "output_type": "stream",
          "name": "stdout",
          "text": [
            "Tamaño del DataFrame: (43800, 6)\n",
            "Columnas del DataFrame: Index(['Site', 'Species', 'ReadingDateTime', 'Value', 'Units',\n",
            "       'Provisional or Ratified'],\n",
            "      dtype='object')\n",
            "Primeras 5 filas del DataFrame:\n",
            "   Site Species   ReadingDateTime  Value   Units Provisional or Ratified\n",
            "0  CT3      NO  01/01/2017 00:00    3.5  ug m-3                       R\n",
            "1  CT3      NO  01/01/2017 01:00    3.6  ug m-3                       R\n",
            "2  CT3      NO  01/01/2017 02:00    2.2  ug m-3                       R\n",
            "3  CT3      NO  01/01/2017 03:00    2.1  ug m-3                       R\n",
            "4  CT3      NO  01/01/2017 04:00    3.3  ug m-3                       R\n",
            "Últimas 5 filas del DataFrame:\n",
            "       Site Species   ReadingDateTime  Value   Units Provisional or Ratified\n",
            "43795  CT3   PM2.5  31/12/2017 19:00   -2.0  ug m-3                       R\n",
            "43796  CT3   PM2.5  31/12/2017 20:00    6.0  ug m-3                       R\n",
            "43797  CT3   PM2.5  31/12/2017 21:00    5.0  ug m-3                       R\n",
            "43798  CT3   PM2.5  31/12/2017 22:00    5.0  ug m-3                       R\n",
            "43799  CT3   PM2.5  31/12/2017 23:00    6.0  ug m-3                       R\n",
            "Tipos de datos:\n",
            " Site                        object\n",
            "Species                     object\n",
            "ReadingDateTime             object\n",
            "Value                      float64\n",
            "Units                       object\n",
            "Provisional or Ratified     object\n",
            "dtype: object\n"
          ]
        }
      ]
    },
    {
      "cell_type": "code",
      "source": [
        "#Porcentaje de valores faltantes por columna\n",
        "porcentaje_faltante = air_df.isnull().mean() * 100\n",
        "print(\"Porcentaje de valores faltantes por columna\", porcentaje_faltante)"
      ],
      "metadata": {
        "colab": {
          "base_uri": "https://localhost:8080/"
        },
        "id": "m4J8-MiDAzXN",
        "outputId": "6f9d2d04-1d44-48d5-b5fb-8d85d16a5fd6"
      },
      "execution_count": 113,
      "outputs": [
        {
          "output_type": "stream",
          "name": "stdout",
          "text": [
            "Porcentaje de valores faltantes por columna Site                       0.000000\n",
            "Species                    0.000000\n",
            "ReadingDateTime            0.000000\n",
            "Value                      7.374429\n",
            "Units                      0.000000\n",
            "Provisional or Ratified    0.000000\n",
            "dtype: float64\n"
          ]
        }
      ]
    },
    {
      "cell_type": "markdown",
      "source": [
        "2.\tObtén la cantidad de valores únicos por columna (`nunique()`) para responder:\n",
        "\n",
        "\n",
        "*   ¿Cuántas mediciones se hicieron?\n",
        "*   ¿Cuántos contaminantes del aire (`Species`) se analizaron?\n",
        "*   ¿Qué columnas no agregan ningún valor informativo porque el mismo valor en todo el conjunto de datos? Elimínalas del dataframe.\n",
        "*   La columna `Units` tampoco posee valor informativo. Verifícalo con la función `unique()` y elimínala del dataframe."
      ],
      "metadata": {
        "id": "APrlS185Cw-K"
      }
    },
    {
      "cell_type": "code",
      "source": [
        "#Cantidad de valores únicos por columna\n",
        "unique_counts = air_df.nunique()\n",
        "print(\"Cantidad de valores únicos por columna:\\n\", unique_counts)"
      ],
      "metadata": {
        "id": "Ke0EGLVaCwm6",
        "colab": {
          "base_uri": "https://localhost:8080/"
        },
        "outputId": "41ecca2a-db66-4394-ce81-98f6d3a9ca28"
      },
      "execution_count": 114,
      "outputs": [
        {
          "output_type": "stream",
          "name": "stdout",
          "text": [
            "Cantidad de valores únicos por columna:\n",
            " Site                          1\n",
            "Species                       5\n",
            "ReadingDateTime            8760\n",
            "Value                      1847\n",
            "Units                         3\n",
            "Provisional or Ratified       1\n",
            "dtype: int64\n"
          ]
        }
      ]
    },
    {
      "cell_type": "code",
      "source": [
        "#Total de mediciones\n",
        "mediciones = unique_counts['ReadingDateTime']  # Total de mediciones\n",
        "print(f\"¿Cuántas mediciones se hicieron? {mediciones}\")"
      ],
      "metadata": {
        "colab": {
          "base_uri": "https://localhost:8080/"
        },
        "id": "toBNLoZsdc6Y",
        "outputId": "89907d43-f0fb-43d0-b526-e58d999392e5"
      },
      "execution_count": 115,
      "outputs": [
        {
          "output_type": "stream",
          "name": "stdout",
          "text": [
            "¿Cuántas mediciones se hicieron? 8760\n"
          ]
        }
      ]
    },
    {
      "cell_type": "code",
      "source": [
        "#Contaminantes únicos analizados\n",
        "contaminantes = unique_counts['Species']        # Total de contaminantes\n",
        "print(f\"¿Cuántos contaminantes del aire (Species) se analizaron? {contaminantes}\")"
      ],
      "metadata": {
        "colab": {
          "base_uri": "https://localhost:8080/"
        },
        "id": "2zywUS5RdrdX",
        "outputId": "ce1de43f-c014-4af6-f4c8-4674e4a09761"
      },
      "execution_count": 116,
      "outputs": [
        {
          "output_type": "stream",
          "name": "stdout",
          "text": [
            "¿Cuántos contaminantes del aire (Species) se analizaron? 5\n"
          ]
        }
      ]
    },
    {
      "cell_type": "code",
      "source": [
        "#Identificar columnas que no agregan valor informativo\n",
        "non_informative_columns = unique_counts[unique_counts <= 1].index.tolist()\n",
        "print(\"Columnas no informativas:\\n\", non_informative_columns)\n",
        "\n",
        "#Eliminar columnas no informativas del DataFrame\n",
        "air_df = air_df.drop(columns=non_informative_columns)"
      ],
      "metadata": {
        "colab": {
          "base_uri": "https://localhost:8080/"
        },
        "id": "9HkZ4rtRdzO4",
        "outputId": "8c5170ed-c668-4b9c-dacd-f0e828668655"
      },
      "execution_count": 117,
      "outputs": [
        {
          "output_type": "stream",
          "name": "stdout",
          "text": [
            "Columnas no informativas:\n",
            " ['Site', 'Provisional or Ratified']\n"
          ]
        }
      ]
    },
    {
      "cell_type": "code",
      "source": [
        "#Verificar la columna 'Units' y eliminarla\n",
        "print(\"Valores únicos en 'Units':\", air_df['Units'].unique())\n",
        "air_df = air_df.drop(columns=['Units'])"
      ],
      "metadata": {
        "colab": {
          "base_uri": "https://localhost:8080/"
        },
        "id": "JiJqzBjqeDWo",
        "outputId": "83f1549b-9aee-477c-ed9d-75e7d6a790c3"
      },
      "execution_count": 118,
      "outputs": [
        {
          "output_type": "stream",
          "name": "stdout",
          "text": [
            "Valores únicos en 'Units': ['ug m-3' 'ug m-3 as NO2' 'ug/m3']\n"
          ]
        }
      ]
    },
    {
      "cell_type": "code",
      "source": [
        "#Mostrar el DataFrame resultante\n",
        "print(\"Head de DataFrame después de eliminar columnas no informativas:\\n\", air_df.head())"
      ],
      "metadata": {
        "colab": {
          "base_uri": "https://localhost:8080/"
        },
        "id": "eFwhZyeMeQZn",
        "outputId": "981520aa-c5e6-4ce2-ad71-38cbdad3751c"
      },
      "execution_count": 119,
      "outputs": [
        {
          "output_type": "stream",
          "name": "stdout",
          "text": [
            "Head de DataFrame después de eliminar columnas no informativas:\n",
            "   Species   ReadingDateTime  Value\n",
            "0      NO  01/01/2017 00:00    3.5\n",
            "1      NO  01/01/2017 01:00    3.6\n",
            "2      NO  01/01/2017 02:00    2.2\n",
            "3      NO  01/01/2017 03:00    2.1\n",
            "4      NO  01/01/2017 04:00    3.3\n"
          ]
        }
      ]
    },
    {
      "cell_type": "markdown",
      "source": [
        "3.\tRealiza el conteo de valores por categoría (`value_counts()`) para la columna `Species` y determina si las lecturas de cada contaminante coincide con el total de mediciones."
      ],
      "metadata": {
        "id": "zEddCwHWEJZ7"
      }
    },
    {
      "cell_type": "code",
      "source": [
        "#Contar valores por categoría en la columna 'Species'\n",
        "species_counts = air_df['Species'].value_counts()\n",
        "print(\"Conteo de valores por categoría en 'Species':\\n\", species_counts)\n",
        "\n",
        "#Total de mediciones\n",
        "total_mediciones = air_df['ReadingDateTime'].nunique()\n",
        "print(f\"Total de mediciones: {total_mediciones}\")\n",
        "\n",
        "#Verificar si la suma de las lecturas por contaminante coincide con el total de mediciones\n",
        "#Se puede hacer sumando los valores de species_counts\n",
        "total_species_readings = species_counts.sum()\n",
        "\n",
        "print(f\"Suma de lecturas por contaminante: {total_species_readings}\")\n",
        "\n",
        "if total_species_readings == total_mediciones:\n",
        "    print(\"Las lecturas de cada contaminante coinciden con el total de mediciones.\")\n",
        "else:\n",
        "    print(\"Las lecturas de cada contaminante NO coinciden con el total de mediciones.\")"
      ],
      "metadata": {
        "id": "inCKasmZEPsv",
        "colab": {
          "base_uri": "https://localhost:8080/"
        },
        "outputId": "24e911b4-3efe-410f-8d09-53a070a450d6"
      },
      "execution_count": 120,
      "outputs": [
        {
          "output_type": "stream",
          "name": "stdout",
          "text": [
            "Conteo de valores por categoría en 'Species':\n",
            " Species\n",
            "NO       8760\n",
            "NO2      8760\n",
            "NOX      8760\n",
            "PM10     8760\n",
            "PM2.5    8760\n",
            "Name: count, dtype: int64\n",
            "Total de mediciones: 8760\n",
            "Suma de lecturas por contaminante: 43800\n",
            "Las lecturas de cada contaminante NO coinciden con el total de mediciones.\n"
          ]
        }
      ]
    },
    {
      "cell_type": "markdown",
      "source": [
        "43800 son el total de todas las lecturas, no el total de momentos de tiempo únicos. Por lo que las lecturas de cada contaminante NO coinciden con el total de mediciones."
      ],
      "metadata": {
        "id": "Dk5UoifVfW7Q"
      }
    },
    {
      "cell_type": "markdown",
      "source": [
        "4.\tUtiliza la función `groupby()` para determinar el promedio del valor por contaminante."
      ],
      "metadata": {
        "id": "zhJM6l1vETfI"
      }
    },
    {
      "cell_type": "code",
      "source": [
        "#Calcular el promedio del valor por contaminante\n",
        "promedio_por_contaminante = air_df.groupby('Species')['Value'].mean()\n",
        "\n",
        "#Mostrar el resultado\n",
        "print(\"Promedio del valor por contaminante:\\n\", promedio_por_contaminante)"
      ],
      "metadata": {
        "id": "zstyHahSETJK",
        "colab": {
          "base_uri": "https://localhost:8080/"
        },
        "outputId": "0c859276-2d0a-44d3-d1b0-8fc2e9ce4087"
      },
      "execution_count": 121,
      "outputs": [
        {
          "output_type": "stream",
          "name": "stdout",
          "text": [
            "Promedio del valor por contaminante:\n",
            " Species\n",
            "NO       15.045115\n",
            "NO2      38.010185\n",
            "NOX      61.078661\n",
            "PM10     22.551704\n",
            "PM2.5    14.999831\n",
            "Name: Value, dtype: float64\n"
          ]
        }
      ]
    },
    {
      "cell_type": "markdown",
      "source": [
        "5.\tEl conjunto de datos está en un formato largo. Aplique la función apropiada para cambiarlo al formato ancho (`ReadingDateTime` como índice y cada contaminante en una columna). Nombre el dataframe resultante como `pvt_df`."
      ],
      "metadata": {
        "id": "GY2ux-Q_EV7J"
      }
    },
    {
      "cell_type": "code",
      "source": [
        "#Cambiar el formato de largo a ancho\n",
        "pvt_df = air_df.pivot_table(index='ReadingDateTime', columns='Species', values='Value', aggfunc='mean')\n",
        "\n",
        "#Reiniciar el índice para que 'ReadingDateTime' vuelva a ser una columna\n",
        "pvt_df.reset_index(inplace=True)\n",
        "\n",
        "#Mostrar el DataFrame resultante\n",
        "print(\"DataFrame en formato ancho (pvt_df):\\n\", pvt_df.head())"
      ],
      "metadata": {
        "id": "1IETxb9vFIF-",
        "colab": {
          "base_uri": "https://localhost:8080/"
        },
        "outputId": "74932707-5f05-4694-dc20-98ebbe001c21"
      },
      "execution_count": 122,
      "outputs": [
        {
          "output_type": "stream",
          "name": "stdout",
          "text": [
            "DataFrame en formato ancho (pvt_df):\n",
            " Species   ReadingDateTime   NO   NO2   NOX  PM10  PM2.5\n",
            "0        01/01/2017 00:00  3.5  30.8  36.2  35.7    NaN\n",
            "1        01/01/2017 01:00  3.6  31.5  37.0  28.5    NaN\n",
            "2        01/01/2017 02:00  2.2  27.3  30.7  22.7    NaN\n",
            "3        01/01/2017 03:00  2.1  23.5  26.8  20.5    NaN\n",
            "4        01/01/2017 04:00  3.3  28.0  33.0  22.1    NaN\n"
          ]
        }
      ]
    },
    {
      "cell_type": "markdown",
      "source": [
        "6.\tA través de la función `describe()` responde:\n",
        "\n",
        "*   ¿Cuál es el mayor valor de `NO2` registrado? ¿A qué día pertenece?\n",
        "*   ¿Cuál es el menor valor de `PM10` registrado?¿A qué día pertenece?\n",
        "*   ¿Cuál es la mediana del `NO`? ¿Cómo se interpreta?\n",
        "*   ¿Cuál es el primer cuartil de `PM2.5`? ¿Qué significa?"
      ],
      "metadata": {
        "id": "JmbiBXqFFIZx"
      }
    },
    {
      "cell_type": "code",
      "source": [
        "#Usar describe() para obtener estadísticas descriptivas\n",
        "stats = pvt_df.describe()\n",
        "print(stats)"
      ],
      "metadata": {
        "id": "_qWYoEx3Fbod",
        "colab": {
          "base_uri": "https://localhost:8080/"
        },
        "outputId": "31de61ef-7602-4888-de67-742d32d5b572"
      },
      "execution_count": 123,
      "outputs": [
        {
          "output_type": "stream",
          "name": "stdout",
          "text": [
            "Species           NO          NO2          NOX         PM10        PM2.5\n",
            "count    8660.000000  8660.000000  8660.000000  8657.000000  5933.000000\n",
            "mean       15.045115    38.010185    61.078661    22.551704    14.999831\n",
            "std        26.678565    18.580841    54.584805    15.344755    13.558588\n",
            "min        -2.000000     2.800000     1.000000    -5.600000    -8.000000\n",
            "25%         3.100000    23.800000    30.300000    13.900000     7.000000\n",
            "50%         7.100000    35.300000    46.900000    19.500000    11.000000\n",
            "75%        15.500000    49.900000    73.800000    27.300000    18.000000\n",
            "max       401.799990   120.200000   734.299990   633.099980   128.000000\n"
          ]
        }
      ]
    },
    {
      "cell_type": "code",
      "source": [
        "#Obtener el mayor valor de NO2 y el día correspondiente\n",
        "max_no2 = pvt_df['NO2'].max()\n",
        "max_no2_day = pvt_df.loc[pvt_df['NO2'] == max_no2, 'ReadingDateTime'].values[0]\n",
        "print(f\"El mayor valor de NO2 registrado: {max_no2}, pertenece al día: {max_no2_day}\")"
      ],
      "metadata": {
        "colab": {
          "base_uri": "https://localhost:8080/"
        },
        "id": "UUfe-qxpglmB",
        "outputId": "c5ce3fe1-9375-48a4-ea96-22109cbe5711"
      },
      "execution_count": 124,
      "outputs": [
        {
          "output_type": "stream",
          "name": "stdout",
          "text": [
            "El mayor valor de NO2 registrado: 120.2, pertenece al día: 24/01/2017 19:00\n"
          ]
        }
      ]
    },
    {
      "cell_type": "code",
      "source": [
        "#Obtener el menor valor de PM10 y el día correspondiente\n",
        "min_pm10 = pvt_df['PM10'].min()\n",
        "min_pm10_day = pvt_df.loc[pvt_df['PM10'] == min_pm10, 'ReadingDateTime'].values[0]\n",
        "print(f\"El menor valor de PM10 registrado: {min_pm10}, pertenece al día: {min_pm10_day}\")"
      ],
      "metadata": {
        "colab": {
          "base_uri": "https://localhost:8080/"
        },
        "id": "ZvfUEabegmSR",
        "outputId": "8a0d56e2-3d0f-44d9-b3dd-6e57f06bb14a"
      },
      "execution_count": 125,
      "outputs": [
        {
          "output_type": "stream",
          "name": "stdout",
          "text": [
            "El menor valor de PM10 registrado: -5.6, pertenece al día: 12/09/2017 23:00\n"
          ]
        }
      ]
    },
    {
      "cell_type": "code",
      "source": [
        "#Obtener la mediana de NO\n",
        "median_no = pvt_df['NO'].median()\n",
        "print(f\"La mediana del NO es: {median_no}. Esto significa que el 50% de las mediciones de NO son menores o iguales a este valor.\")"
      ],
      "metadata": {
        "colab": {
          "base_uri": "https://localhost:8080/"
        },
        "id": "m52Ss5dagq8p",
        "outputId": "cab86c33-54a1-4ea1-fc10-a5719d29289b"
      },
      "execution_count": 126,
      "outputs": [
        {
          "output_type": "stream",
          "name": "stdout",
          "text": [
            "La mediana del NO es: 7.1. Esto significa que el 50% de las mediciones de NO son menores o iguales a este valor.\n"
          ]
        }
      ]
    },
    {
      "cell_type": "code",
      "source": [
        "#Obtener el primer cuartil de PM2.5\n",
        "first_quartile_pm25 = pvt_df['PM2.5'].quantile(0.25)\n",
        "print(f\"El primer cuartil de PM2.5 es: {first_quartile_pm25}.\")"
      ],
      "metadata": {
        "colab": {
          "base_uri": "https://localhost:8080/"
        },
        "id": "9oEXffdOguKI",
        "outputId": "22699b3a-58ae-4ece-885f-0aff77170fa1"
      },
      "execution_count": 127,
      "outputs": [
        {
          "output_type": "stream",
          "name": "stdout",
          "text": [
            "El primer cuartil de PM2.5 es: 7.0.\n"
          ]
        }
      ]
    },
    {
      "cell_type": "markdown",
      "source": [
        " Esto significa que el 25% de las mediciones de PM2.5 son menores o iguales a este valor."
      ],
      "metadata": {
        "id": "hOGyIKQsg7mw"
      }
    },
    {
      "cell_type": "markdown",
      "source": [
        "![image.png](data:image/png;base64,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)"
      ],
      "metadata": {
        "id": "qjh1bvVVhJEY"
      }
    },
    {
      "cell_type": "markdown",
      "source": [
        "7.\tDibuja un histograma para cada columna de `pvt_df`. ¿Qué contaminante tiene mayor variabilidad?"
      ],
      "metadata": {
        "id": "Rki16hYaFd9p"
      }
    },
    {
      "cell_type": "code",
      "source": [
        "#Configuración de la figura para los histogramas\n",
        "plt.figure(figsize=(15, 10))\n",
        "\n",
        "#Filtrar solo columnas numéricas\n",
        "numeric_columns = pvt_df.select_dtypes(include=['float64', 'int64']).columns\n",
        "\n",
        "#Dibujar histogramas para cada columna numérica de pvt_df\n",
        "for i, column in enumerate(numeric_columns, start=1):\n",
        "    plt.subplot(2, 3, i)  # Ajustar el número de filas y columnas según sea necesario\n",
        "    pvt_df[column].plot.hist(bins=30, edgecolor='black')  #Usar plot.hist()\n",
        "    plt.title(column)\n",
        "    plt.xlabel('Valor')\n",
        "    plt.ylabel('Frecuencia')\n",
        "\n",
        "plt.tight_layout()\n",
        "plt.show()\n",
        "\n",
        "#Calcular la variabilidad (desviación estándar) de cada contaminante\n",
        "variabilidad = pvt_df[numeric_columns].std()\n",
        "max_variabilidad = variabilidad.idxmax()\n",
        "max_variabilidad_value = variabilidad.max()\n",
        "\n",
        "#Calcular la desviación estándar de cada columna numérica en pvt_df\n",
        "variabilidad = pvt_df.select_dtypes(include=['float64', 'int64']).std()\n",
        "\n",
        "#Mostrar las desviaciones estándar\n",
        "print(\"Desviaciones estándar de cada contaminante:\\n\")\n",
        "print(variabilidad)\n",
        "print(f\"El contaminante con mayor variabilidad es: {max_variabilidad} con una desviación estándar de: {max_variabilidad_value}\")"
      ],
      "metadata": {
        "id": "NaGkunSeFfn8",
        "colab": {
          "base_uri": "https://localhost:8080/",
          "height": 1000
        },
        "outputId": "fc2b3508-3ed3-4104-cb61-c362ee69193b"
      },
      "execution_count": 128,
      "outputs": [
        {
          "output_type": "display_data",
          "data": {
            "text/plain": [
              "<Figure size 1500x1000 with 5 Axes>"
            ],
            "image/png": "[encoded data removed]"
          },
          "metadata": {}
        },
        {
          "output_type": "stream",
          "name": "stdout",
          "text": [
            "Desviaciones estándar de cada contaminante:\n",
            "\n",
            "Species\n",
            "NO       26.678565\n",
            "NO2      18.580841\n",
            "NOX      54.584805\n",
            "PM10     15.344755\n",
            "PM2.5    13.558588\n",
            "dtype: float64\n",
            "El contaminante con mayor variabilidad es: NOX con una desviación estándar de: 54.584805082983586\n"
          ]
        }
      ]
    },
    {
      "cell_type": "markdown",
      "source": [
        "Es muy importante ver las escalas que tiene cada histograma y utilizar la desviación estandar como principal atributo para identificar una mayor variación."
      ],
      "metadata": {
        "id": "FJ68XlHuiMPS"
      }
    },
    {
      "cell_type": "markdown",
      "source": [
        "8.\tEjecuta el siguiente código y comenta qué hace cada línea:"
      ],
      "metadata": {
        "id": "2hJ4LzP3fgvy"
      }
    },
    {
      "cell_type": "code",
      "source": [
        "#Separar la columna ReadingDateTime en Date y Time\n",
        "datetime_df = air_df.ReadingDateTime.str.split(' ',expand=True)  #Divide en dos columnas\n",
        "datetime_df.columns = ['Date','Time'] #Asigna nombres a las columnas\n",
        "datetime_df\n",
        "#Separar la fecha en Day, Month y Year\n",
        "date_df = datetime_df.Date.str.split('/',expand=True) #Divide la columna Date en Day, Month y Year\n",
        "date_df.columns = ['Day','Month','Year'] #Asignar nombre a las columnas\n",
        "date_df\n",
        "#Unir las nuevas columnas al DataFrame original y eliminar columnas innecesarias\n",
        "air_df = air_df.join(date_df).join(datetime_df.Time).drop(columns=['ReadingDateTime','Year']) #Une el DataFrame con la nueva información de fecha y tambien elimina las columnas innecesarias\n",
        "air_df = air_df.set_index(['Month','Day','Time','Species']) #Establece un índice multinivel\n",
        "air_df"
      ],
      "metadata": {
        "id": "goQuWzNVfomA",
        "colab": {
          "base_uri": "https://localhost:8080/",
          "height": 455
        },
        "outputId": "4a5a4626-bf0d-432f-e873-345ceb80a26f"
      },
      "execution_count": 129,
      "outputs": [
        {
          "output_type": "execute_result",
          "data": {
            "text/plain": [
              "                         Value\n",
              "Month Day Time  Species       \n",
              "01    01  00:00 NO         3.5\n",
              "          01:00 NO         3.6\n",
              "          02:00 NO         2.2\n",
              "          03:00 NO         2.1\n",
              "          04:00 NO         3.3\n",
              "...                        ...\n",
              "12    31  19:00 PM2.5     -2.0\n",
              "          20:00 PM2.5      6.0\n",
              "          21:00 PM2.5      5.0\n",
              "          22:00 PM2.5      5.0\n",
              "          23:00 PM2.5      6.0\n",
              "\n",
              "[43800 rows x 1 columns]"
            ],
            "text/html": [
              "\n",
              "  <div id=\"df-cb501755-757e-4b7e-99dc-b34bf0d73e6c\" class=\"colab-df-container\">\n",
              "    <div>\n",
              "<style scoped>\n",
              "    .dataframe tbody tr th:only-of-type {\n",
              "        vertical-align: middle;\n",
              "    }\n",
              "\n",
              "    .dataframe tbody tr th {\n",
              "        vertical-align: top;\n",
              "    }\n",
              "\n",
              "    .dataframe thead th {\n",
              "        text-align: right;\n",
              "    }\n",
              "</style>\n",
              "<table border=\"1\" class=\"dataframe\">\n",
              "  <thead>\n",
              "    <tr style=\"text-align: right;\">\n",
              "      <th></th>\n",
              "      <th></th>\n",
              "      <th></th>\n",
              "      <th></th>\n",
              "      <th>Value</th>\n",
              "    </tr>\n",
              "    <tr>\n",
              "      <th>Month</th>\n",
              "      <th>Day</th>\n",
              "      <th>Time</th>\n",
              "      <th>Species</th>\n",
              "      <th></th>\n",
              "    </tr>\n",
              "  </thead>\n",
              "  <tbody>\n",
              "    <tr>\n",
              "      <th rowspan=\"5\" valign=\"top\">01</th>\n",
              "      <th rowspan=\"5\" valign=\"top\">01</th>\n",
              "      <th>00:00</th>\n",
              "      <th>NO</th>\n",
              "      <td>3.5</td>\n",
              "    </tr>\n",
              "    <tr>\n",
              "      <th>01:00</th>\n",
              "      <th>NO</th>\n",
              "      <td>3.6</td>\n",
              "    </tr>\n",
              "    <tr>\n",
              "      <th>02:00</th>\n",
              "      <th>NO</th>\n",
              "      <td>2.2</td>\n",
              "    </tr>\n",
              "    <tr>\n",
              "      <th>03:00</th>\n",
              "      <th>NO</th>\n",
              "      <td>2.1</td>\n",
              "    </tr>\n",
              "    <tr>\n",
              "      <th>04:00</th>\n",
              "      <th>NO</th>\n",
              "      <td>3.3</td>\n",
              "    </tr>\n",
              "    <tr>\n",
              "      <th>...</th>\n",
              "      <th>...</th>\n",
              "      <th>...</th>\n",
              "      <th>...</th>\n",
              "      <td>...</td>\n",
              "    </tr>\n",
              "    <tr>\n",
              "      <th rowspan=\"5\" valign=\"top\">12</th>\n",
              "      <th rowspan=\"5\" valign=\"top\">31</th>\n",
              "      <th>19:00</th>\n",
              "      <th>PM2.5</th>\n",
              "      <td>-2.0</td>\n",
              "    </tr>\n",
              "    <tr>\n",
              "      <th>20:00</th>\n",
              "      <th>PM2.5</th>\n",
              "      <td>6.0</td>\n",
              "    </tr>\n",
              "    <tr>\n",
              "      <th>21:00</th>\n",
              "      <th>PM2.5</th>\n",
              "      <td>5.0</td>\n",
              "    </tr>\n",
              "    <tr>\n",
              "      <th>22:00</th>\n",
              "      <th>PM2.5</th>\n",
              "      <td>5.0</td>\n",
              "    </tr>\n",
              "    <tr>\n",
              "      <th>23:00</th>\n",
              "      <th>PM2.5</th>\n",
              "      <td>6.0</td>\n",
              "    </tr>\n",
              "  </tbody>\n",
              "</table>\n",
              "<p>43800 rows × 1 columns</p>\n",
              "</div>\n",
              "    <div class=\"colab-df-buttons\">\n",
              "\n",
              "  <div class=\"colab-df-container\">\n",
              "    <button class=\"colab-df-convert\" onclick=\"convertToInteractive('df-cb501755-757e-4b7e-99dc-b34bf0d73e6c')\"\n",
              "            title=\"Convert this dataframe to an interactive table.\"\n",
              "            style=\"display:none;\">\n",
              "\n",
              "  <svg xmlns=\"http://www.w3.org/2000/svg\" height=\"24px\" viewBox=\"0 -960 960 960\">\n",
              "    <path d=\"M120-120v-720h720v720H120Zm60-500h600v-160H180v160Zm220 220h160v-160H400v160Zm0 220h160v-160H400v160ZM180-400h160v-160H180v160Zm440 0h160v-160H620v160ZM180-180h160v-160H180v160Zm440 0h160v-160H620v160Z\"/>\n",
              "  </svg>\n",
              "    </button>\n",
              "\n",
              "  <style>\n",
              "    .colab-df-container {\n",
              "      display:flex;\n",
              "      gap: 12px;\n",
              "    }\n",
              "\n",
              "    .colab-df-convert {\n",
              "      background-color: #E8F0FE;\n",
              "      border: none;\n",
              "      border-radius: 50%;\n",
              "      cursor: pointer;\n",
              "      display: none;\n",
              "      fill: #1967D2;\n",
              "      height: 32px;\n",
              "      padding: 0 0 0 0;\n",
              "      width: 32px;\n",
              "    }\n",
              "\n",
              "    .colab-df-convert:hover {\n",
              "      background-color: #E2EBFA;\n",
              "      box-shadow: 0px 1px 2px rgba(60, 64, 67, 0.3), 0px 1px 3px 1px rgba(60, 64, 67, 0.15);\n",
              "      fill: #174EA6;\n",
              "    }\n",
              "\n",
              "    .colab-df-buttons div {\n",
              "      margin-bottom: 4px;\n",
              "    }\n",
              "\n",
              "    [theme=dark] .colab-df-convert {\n",
              "      background-color: #3B4455;\n",
              "      fill: #D2E3FC;\n",
              "    }\n",
              "\n",
              "    [theme=dark] .colab-df-convert:hover {\n",
              "      background-color: #434B5C;\n",
              "      box-shadow: 0px 1px 3px 1px rgba(0, 0, 0, 0.15);\n",
              "      filter: drop-shadow(0px 1px 2px rgba(0, 0, 0, 0.3));\n",
              "      fill: #FFFFFF;\n",
              "    }\n",
              "  </style>\n",
              "\n",
              "    <script>\n",
              "      const buttonEl =\n",
              "        document.querySelector('#df-cb501755-757e-4b7e-99dc-b34bf0d73e6c button.colab-df-convert');\n",
              "      buttonEl.style.display =\n",
              "        google.colab.kernel.accessAllowed ? 'block' : 'none';\n",
              "\n",
              "      async function convertToInteractive(key) {\n",
              "        const element = document.querySelector('#df-cb501755-757e-4b7e-99dc-b34bf0d73e6c');\n",
              "        const dataTable =\n",
              "          await google.colab.kernel.invokeFunction('convertToInteractive',\n",
              "                                                    [key], {});\n",
              "        if (!dataTable) return;\n",
              "\n",
              "        const docLinkHtml = 'Like what you see? Visit the ' +\n",
              "          '<a target=\"_blank\" href=https://colab.research.google.com/notebooks/data_table.ipynb>data table notebook</a>'\n",
              "          + ' to learn more about interactive tables.';\n",
              "        element.innerHTML = '';\n",
              "        dataTable['output_type'] = 'display_data';\n",
              "        await google.colab.output.renderOutput(dataTable, element);\n",
              "        const docLink = document.createElement('div');\n",
              "        docLink.innerHTML = docLinkHtml;\n",
              "        element.appendChild(docLink);\n",
              "      }\n",
              "    </script>\n",
              "  </div>\n",
              "\n",
              "\n",
              "<div id=\"df-d5a4edb8-bee0-4bac-94b0-5149671a716e\">\n",
              "  <button class=\"colab-df-quickchart\" onclick=\"quickchart('df-d5a4edb8-bee0-4bac-94b0-5149671a716e')\"\n",
              "            title=\"Suggest charts\"\n",
              "            style=\"display:none;\">\n",
              "\n",
              "<svg xmlns=\"http://www.w3.org/2000/svg\" height=\"24px\"viewBox=\"0 0 24 24\"\n",
              "     width=\"24px\">\n",
              "    <g>\n",
              "        <path d=\"M19 3H5c-1.1 0-2 .9-2 2v14c0 1.1.9 2 2 2h14c1.1 0 2-.9 2-2V5c0-1.1-.9-2-2-2zM9 17H7v-7h2v7zm4 0h-2V7h2v10zm4 0h-2v-4h2v4z\"/>\n",
              "    </g>\n",
              "</svg>\n",
              "  </button>\n",
              "\n",
              "<style>\n",
              "  .colab-df-quickchart {\n",
              "      --bg-color: #E8F0FE;\n",
              "      --fill-color: #1967D2;\n",
              "      --hover-bg-color: #E2EBFA;\n",
              "      --hover-fill-color: #174EA6;\n",
              "      --disabled-fill-color: #AAA;\n",
              "      --disabled-bg-color: #DDD;\n",
              "  }\n",
              "\n",
              "  [theme=dark] .colab-df-quickchart {\n",
              "      --bg-color: #3B4455;\n",
              "      --fill-color: #D2E3FC;\n",
              "      --hover-bg-color: #434B5C;\n",
              "      --hover-fill-color: #FFFFFF;\n",
              "      --disabled-bg-color: #3B4455;\n",
              "      --disabled-fill-color: #666;\n",
              "  }\n",
              "\n",
              "  .colab-df-quickchart {\n",
              "    background-color: var(--bg-color);\n",
              "    border: none;\n",
              "    border-radius: 50%;\n",
              "    cursor: pointer;\n",
              "    display: none;\n",
              "    fill: var(--fill-color);\n",
              "    height: 32px;\n",
              "    padding: 0;\n",
              "    width: 32px;\n",
              "  }\n",
              "\n",
              "  .colab-df-quickchart:hover {\n",
              "    background-color: var(--hover-bg-color);\n",
              "    box-shadow: 0 1px 2px rgba(60, 64, 67, 0.3), 0 1px 3px 1px rgba(60, 64, 67, 0.15);\n",
              "    fill: var(--button-hover-fill-color);\n",
              "  }\n",
              "\n",
              "  .colab-df-quickchart-complete:disabled,\n",
              "  .colab-df-quickchart-complete:disabled:hover {\n",
              "    background-color: var(--disabled-bg-color);\n",
              "    fill: var(--disabled-fill-color);\n",
              "    box-shadow: none;\n",
              "  }\n",
              "\n",
              "  .colab-df-spinner {\n",
              "    border: 2px solid var(--fill-color);\n",
              "    border-color: transparent;\n",
              "    border-bottom-color: var(--fill-color);\n",
              "    animation:\n",
              "      spin 1s steps(1) infinite;\n",
              "  }\n",
              "\n",
              "  @keyframes spin {\n",
              "    0% {\n",
              "      border-color: transparent;\n",
              "      border-bottom-color: var(--fill-color);\n",
              "      border-left-color: var(--fill-color);\n",
              "    }\n",
              "    20% {\n",
              "      border-color: transparent;\n",
              "      border-left-color: var(--fill-color);\n",
              "      border-top-color: var(--fill-color);\n",
              "    }\n",
              "    30% {\n",
              "      border-color: transparent;\n",
              "      border-left-color: var(--fill-color);\n",
              "      border-top-color: var(--fill-color);\n",
              "      border-right-color: var(--fill-color);\n",
              "    }\n",
              "    40% {\n",
              "      border-color: transparent;\n",
              "      border-right-color: var(--fill-color);\n",
              "      border-top-color: var(--fill-color);\n",
              "    }\n",
              "    60% {\n",
              "      border-color: transparent;\n",
              "      border-right-color: var(--fill-color);\n",
              "    }\n",
              "    80% {\n",
              "      border-color: transparent;\n",
              "      border-right-color: var(--fill-color);\n",
              "      border-bottom-color: var(--fill-color);\n",
              "    }\n",
              "    90% {\n",
              "      border-color: transparent;\n",
              "      border-bottom-color: var(--fill-color);\n",
              "    }\n",
              "  }\n",
              "</style>\n",
              "\n",
              "  <script>\n",
              "    async function quickchart(key) {\n",
              "      const quickchartButtonEl =\n",
              "        document.querySelector('#' + key + ' button');\n",
              "      quickchartButtonEl.disabled = true;  // To prevent multiple clicks.\n",
              "      quickchartButtonEl.classList.add('colab-df-spinner');\n",
              "      try {\n",
              "        const charts = await google.colab.kernel.invokeFunction(\n",
              "            'suggestCharts', [key], {});\n",
              "      } catch (error) {\n",
              "        console.error('Error during call to suggestCharts:', error);\n",
              "      }\n",
              "      quickchartButtonEl.classList.remove('colab-df-spinner');\n",
              "      quickchartButtonEl.classList.add('colab-df-quickchart-complete');\n",
              "    }\n",
              "    (() => {\n",
              "      let quickchartButtonEl =\n",
              "        document.querySelector('#df-d5a4edb8-bee0-4bac-94b0-5149671a716e button');\n",
              "      quickchartButtonEl.style.display =\n",
              "        google.colab.kernel.accessAllowed ? 'block' : 'none';\n",
              "    })();\n",
              "  </script>\n",
              "</div>\n",
              "\n",
              "  <div id=\"id_eb68a8dd-c761-4915-ba0a-6d2801c0bbc7\">\n",
              "    <style>\n",
              "      .colab-df-generate {\n",
              "        background-color: #E8F0FE;\n",
              "        border: none;\n",
              "        border-radius: 50%;\n",
              "        cursor: pointer;\n",
              "        display: none;\n",
              "        fill: #1967D2;\n",
              "        height: 32px;\n",
              "        padding: 0 0 0 0;\n",
              "        width: 32px;\n",
              "      }\n",
              "\n",
              "      .colab-df-generate:hover {\n",
              "        background-color: #E2EBFA;\n",
              "        box-shadow: 0px 1px 2px rgba(60, 64, 67, 0.3), 0px 1px 3px 1px rgba(60, 64, 67, 0.15);\n",
              "        fill: #174EA6;\n",
              "      }\n",
              "\n",
              "      [theme=dark] .colab-df-generate {\n",
              "        background-color: #3B4455;\n",
              "        fill: #D2E3FC;\n",
              "      }\n",
              "\n",
              "      [theme=dark] .colab-df-generate:hover {\n",
              "        background-color: #434B5C;\n",
              "        box-shadow: 0px 1px 3px 1px rgba(0, 0, 0, 0.15);\n",
              "        filter: drop-shadow(0px 1px 2px rgba(0, 0, 0, 0.3));\n",
              "        fill: #FFFFFF;\n",
              "      }\n",
              "    </style>\n",
              "    <button class=\"colab-df-generate\" onclick=\"generateWithVariable('air_df')\"\n",
              "            title=\"Generate code using this dataframe.\"\n",
              "            style=\"display:none;\">\n",
              "\n",
              "  <svg xmlns=\"http://www.w3.org/2000/svg\" height=\"24px\"viewBox=\"0 0 24 24\"\n",
              "       width=\"24px\">\n",
              "    <path d=\"M7,19H8.4L18.45,9,17,7.55,7,17.6ZM5,21V16.75L18.45,3.32a2,2,0,0,1,2.83,0l1.4,1.43a1.91,1.91,0,0,1,.58,1.4,1.91,1.91,0,0,1-.58,1.4L9.25,21ZM18.45,9,17,7.55Zm-12,3A5.31,5.31,0,0,0,4.9,8.1,5.31,5.31,0,0,0,1,6.5,5.31,5.31,0,0,0,4.9,4.9,5.31,5.31,0,0,0,6.5,1,5.31,5.31,0,0,0,8.1,4.9,5.31,5.31,0,0,0,12,6.5,5.46,5.46,0,0,0,6.5,12Z\"/>\n",
              "  </svg>\n",
              "    </button>\n",
              "    <script>\n",
              "      (() => {\n",
              "      const buttonEl =\n",
              "        document.querySelector('#id_eb68a8dd-c761-4915-ba0a-6d2801c0bbc7 button.colab-df-generate');\n",
              "      buttonEl.style.display =\n",
              "        google.colab.kernel.accessAllowed ? 'block' : 'none';\n",
              "\n",
              "      buttonEl.onclick = () => {\n",
              "        google.colab.notebook.generateWithVariable('air_df');\n",
              "      }\n",
              "      })();\n",
              "    </script>\n",
              "  </div>\n",
              "\n",
              "    </div>\n",
              "  </div>\n"
            ],
            "application/vnd.google.colaboratory.intrinsic+json": {
              "type": "dataframe",
              "variable_name": "air_df",
              "summary": "{\n  \"name\": \"air_df\",\n  \"rows\": 43800,\n  \"fields\": [\n    {\n      \"column\": \"Value\",\n      \"properties\": {\n        \"dtype\": \"number\",\n        \"std\": 35.343362051548915,\n        \"min\": -8.0,\n        \"max\": 734.29999,\n        \"num_unique_values\": 1847,\n        \"samples\": [\n          143.10001,\n          220.5,\n          116.2\n        ],\n        \"semantic_type\": \"\",\n        \"description\": \"\"\n      }\n    }\n  ]\n}"
            }
          },
          "metadata": {},
          "execution_count": 129
        }
      ]
    },
    {
      "cell_type": "markdown",
      "source": [
        "9. Ejecuta la siguiente instrucción y compara su salida con la del código anterior (ejercicio 8). ¿Son iguales?"
      ],
      "metadata": {
        "id": "37E3dol8fpik"
      }
    },
    {
      "cell_type": "code",
      "source": [
        "air_df.unstack()"
      ],
      "metadata": {
        "id": "cgbAxJrvfweW",
        "colab": {
          "base_uri": "https://localhost:8080/",
          "height": 486
        },
        "outputId": "c1d79b86-c1b6-4834-b65c-86c998187a2d"
      },
      "execution_count": 130,
      "outputs": [
        {
          "output_type": "execute_result",
          "data": {
            "text/plain": [
              "                Value                        \n",
              "Species            NO   NO2   NOX  PM10 PM2.5\n",
              "Month Day Time                               \n",
              "01    01  00:00   3.5  30.8  36.2  35.7   NaN\n",
              "          01:00   3.6  31.5  37.0  28.5   NaN\n",
              "          02:00   2.2  27.3  30.7  22.7   NaN\n",
              "          03:00   2.1  23.5  26.8  20.5   NaN\n",
              "          04:00   3.3  28.0  33.0  22.1   NaN\n",
              "...               ...   ...   ...   ...   ...\n",
              "12    31  19:00   0.7  17.5  18.5  16.3  -2.0\n",
              "          20:00   0.7  17.5  18.6  14.5   6.0\n",
              "          21:00   0.7  14.1  15.1   8.6   5.0\n",
              "          22:00   1.1  22.0  23.6  12.5   5.0\n",
              "          23:00   0.9  19.4  20.7  10.4   6.0\n",
              "\n",
              "[8760 rows x 5 columns]"
            ],
            "text/html": [
              "\n",
              "  <div id=\"df-98359506-b606-4d03-9e76-f01d81cc9d60\" class=\"colab-df-container\">\n",
              "    <div>\n",
              "<style scoped>\n",
              "    .dataframe tbody tr th:only-of-type {\n",
              "        vertical-align: middle;\n",
              "    }\n",
              "\n",
              "    .dataframe tbody tr th {\n",
              "        vertical-align: top;\n",
              "    }\n",
              "\n",
              "    .dataframe thead tr th {\n",
              "        text-align: left;\n",
              "    }\n",
              "\n",
              "    .dataframe thead tr:last-of-type th {\n",
              "        text-align: right;\n",
              "    }\n",
              "</style>\n",
              "<table border=\"1\" class=\"dataframe\">\n",
              "  <thead>\n",
              "    <tr>\n",
              "      <th></th>\n",
              "      <th></th>\n",
              "      <th></th>\n",
              "      <th colspan=\"5\" halign=\"left\">Value</th>\n",
              "    </tr>\n",
              "    <tr>\n",
              "      <th></th>\n",
              "      <th></th>\n",
              "      <th>Species</th>\n",
              "      <th>NO</th>\n",
              "      <th>NO2</th>\n",
              "      <th>NOX</th>\n",
              "      <th>PM10</th>\n",
              "      <th>PM2.5</th>\n",
              "    </tr>\n",
              "    <tr>\n",
              "      <th>Month</th>\n",
              "      <th>Day</th>\n",
              "      <th>Time</th>\n",
              "      <th></th>\n",
              "      <th></th>\n",
              "      <th></th>\n",
              "      <th></th>\n",
              "      <th></th>\n",
              "    </tr>\n",
              "  </thead>\n",
              "  <tbody>\n",
              "    <tr>\n",
              "      <th rowspan=\"5\" valign=\"top\">01</th>\n",
              "      <th rowspan=\"5\" valign=\"top\">01</th>\n",
              "      <th>00:00</th>\n",
              "      <td>3.5</td>\n",
              "      <td>30.8</td>\n",
              "      <td>36.2</td>\n",
              "      <td>35.7</td>\n",
              "      <td>NaN</td>\n",
              "    </tr>\n",
              "    <tr>\n",
              "      <th>01:00</th>\n",
              "      <td>3.6</td>\n",
              "      <td>31.5</td>\n",
              "      <td>37.0</td>\n",
              "      <td>28.5</td>\n",
              "      <td>NaN</td>\n",
              "    </tr>\n",
              "    <tr>\n",
              "      <th>02:00</th>\n",
              "      <td>2.2</td>\n",
              "      <td>27.3</td>\n",
              "      <td>30.7</td>\n",
              "      <td>22.7</td>\n",
              "      <td>NaN</td>\n",
              "    </tr>\n",
              "    <tr>\n",
              "      <th>03:00</th>\n",
              "      <td>2.1</td>\n",
              "      <td>23.5</td>\n",
              "      <td>26.8</td>\n",
              "      <td>20.5</td>\n",
              "      <td>NaN</td>\n",
              "    </tr>\n",
              "    <tr>\n",
              "      <th>04:00</th>\n",
              "      <td>3.3</td>\n",
              "      <td>28.0</td>\n",
              "      <td>33.0</td>\n",
              "      <td>22.1</td>\n",
              "      <td>NaN</td>\n",
              "    </tr>\n",
              "    <tr>\n",
              "      <th>...</th>\n",
              "      <th>...</th>\n",
              "      <th>...</th>\n",
              "      <td>...</td>\n",
              "      <td>...</td>\n",
              "      <td>...</td>\n",
              "      <td>...</td>\n",
              "      <td>...</td>\n",
              "    </tr>\n",
              "    <tr>\n",
              "      <th rowspan=\"5\" valign=\"top\">12</th>\n",
              "      <th rowspan=\"5\" valign=\"top\">31</th>\n",
              "      <th>19:00</th>\n",
              "      <td>0.7</td>\n",
              "      <td>17.5</td>\n",
              "      <td>18.5</td>\n",
              "      <td>16.3</td>\n",
              "      <td>-2.0</td>\n",
              "    </tr>\n",
              "    <tr>\n",
              "      <th>20:00</th>\n",
              "      <td>0.7</td>\n",
              "      <td>17.5</td>\n",
              "      <td>18.6</td>\n",
              "      <td>14.5</td>\n",
              "      <td>6.0</td>\n",
              "    </tr>\n",
              "    <tr>\n",
              "      <th>21:00</th>\n",
              "      <td>0.7</td>\n",
              "      <td>14.1</td>\n",
              "      <td>15.1</td>\n",
              "      <td>8.6</td>\n",
              "      <td>5.0</td>\n",
              "    </tr>\n",
              "    <tr>\n",
              "      <th>22:00</th>\n",
              "      <td>1.1</td>\n",
              "      <td>22.0</td>\n",
              "      <td>23.6</td>\n",
              "      <td>12.5</td>\n",
              "      <td>5.0</td>\n",
              "    </tr>\n",
              "    <tr>\n",
              "      <th>23:00</th>\n",
              "      <td>0.9</td>\n",
              "      <td>19.4</td>\n",
              "      <td>20.7</td>\n",
              "      <td>10.4</td>\n",
              "      <td>6.0</td>\n",
              "    </tr>\n",
              "  </tbody>\n",
              "</table>\n",
              "<p>8760 rows × 5 columns</p>\n",
              "</div>\n",
              "    <div class=\"colab-df-buttons\">\n",
              "\n",
              "  <div class=\"colab-df-container\">\n",
              "    <button class=\"colab-df-convert\" onclick=\"convertToInteractive('df-98359506-b606-4d03-9e76-f01d81cc9d60')\"\n",
              "            title=\"Convert this dataframe to an interactive table.\"\n",
              "            style=\"display:none;\">\n",
              "\n",
              "  <svg xmlns=\"http://www.w3.org/2000/svg\" height=\"24px\" viewBox=\"0 -960 960 960\">\n",
              "    <path d=\"M120-120v-720h720v720H120Zm60-500h600v-160H180v160Zm220 220h160v-160H400v160Zm0 220h160v-160H400v160ZM180-400h160v-160H180v160Zm440 0h160v-160H620v160ZM180-180h160v-160H180v160Zm440 0h160v-160H620v160Z\"/>\n",
              "  </svg>\n",
              "    </button>\n",
              "\n",
              "  <style>\n",
              "    .colab-df-container {\n",
              "      display:flex;\n",
              "      gap: 12px;\n",
              "    }\n",
              "\n",
              "    .colab-df-convert {\n",
              "      background-color: #E8F0FE;\n",
              "      border: none;\n",
              "      border-radius: 50%;\n",
              "      cursor: pointer;\n",
              "      display: none;\n",
              "      fill: #1967D2;\n",
              "      height: 32px;\n",
              "      padding: 0 0 0 0;\n",
              "      width: 32px;\n",
              "    }\n",
              "\n",
              "    .colab-df-convert:hover {\n",
              "      background-color: #E2EBFA;\n",
              "      box-shadow: 0px 1px 2px rgba(60, 64, 67, 0.3), 0px 1px 3px 1px rgba(60, 64, 67, 0.15);\n",
              "      fill: #174EA6;\n",
              "    }\n",
              "\n",
              "    .colab-df-buttons div {\n",
              "      margin-bottom: 4px;\n",
              "    }\n",
              "\n",
              "    [theme=dark] .colab-df-convert {\n",
              "      background-color: #3B4455;\n",
              "      fill: #D2E3FC;\n",
              "    }\n",
              "\n",
              "    [theme=dark] .colab-df-convert:hover {\n",
              "      background-color: #434B5C;\n",
              "      box-shadow: 0px 1px 3px 1px rgba(0, 0, 0, 0.15);\n",
              "      filter: drop-shadow(0px 1px 2px rgba(0, 0, 0, 0.3));\n",
              "      fill: #FFFFFF;\n",
              "    }\n",
              "  </style>\n",
              "\n",
              "    <script>\n",
              "      const buttonEl =\n",
              "        document.querySelector('#df-98359506-b606-4d03-9e76-f01d81cc9d60 button.colab-df-convert');\n",
              "      buttonEl.style.display =\n",
              "        google.colab.kernel.accessAllowed ? 'block' : 'none';\n",
              "\n",
              "      async function convertToInteractive(key) {\n",
              "        const element = document.querySelector('#df-98359506-b606-4d03-9e76-f01d81cc9d60');\n",
              "        const dataTable =\n",
              "          await google.colab.kernel.invokeFunction('convertToInteractive',\n",
              "                                                    [key], {});\n",
              "        if (!dataTable) return;\n",
              "\n",
              "        const docLinkHtml = 'Like what you see? Visit the ' +\n",
              "          '<a target=\"_blank\" href=https://colab.research.google.com/notebooks/data_table.ipynb>data table notebook</a>'\n",
              "          + ' to learn more about interactive tables.';\n",
              "        element.innerHTML = '';\n",
              "        dataTable['output_type'] = 'display_data';\n",
              "        await google.colab.output.renderOutput(dataTable, element);\n",
              "        const docLink = document.createElement('div');\n",
              "        docLink.innerHTML = docLinkHtml;\n",
              "        element.appendChild(docLink);\n",
              "      }\n",
              "    </script>\n",
              "  </div>\n",
              "\n",
              "\n",
              "<div id=\"df-b2cc4857-d947-4b14-b7e0-3062ce1179fb\">\n",
              "  <button class=\"colab-df-quickchart\" onclick=\"quickchart('df-b2cc4857-d947-4b14-b7e0-3062ce1179fb')\"\n",
              "            title=\"Suggest charts\"\n",
              "            style=\"display:none;\">\n",
              "\n",
              "<svg xmlns=\"http://www.w3.org/2000/svg\" height=\"24px\"viewBox=\"0 0 24 24\"\n",
              "     width=\"24px\">\n",
              "    <g>\n",
              "        <path d=\"M19 3H5c-1.1 0-2 .9-2 2v14c0 1.1.9 2 2 2h14c1.1 0 2-.9 2-2V5c0-1.1-.9-2-2-2zM9 17H7v-7h2v7zm4 0h-2V7h2v10zm4 0h-2v-4h2v4z\"/>\n",
              "    </g>\n",
              "</svg>\n",
              "  </button>\n",
              "\n",
              "<style>\n",
              "  .colab-df-quickchart {\n",
              "      --bg-color: #E8F0FE;\n",
              "      --fill-color: #1967D2;\n",
              "      --hover-bg-color: #E2EBFA;\n",
              "      --hover-fill-color: #174EA6;\n",
              "      --disabled-fill-color: #AAA;\n",
              "      --disabled-bg-color: #DDD;\n",
              "  }\n",
              "\n",
              "  [theme=dark] .colab-df-quickchart {\n",
              "      --bg-color: #3B4455;\n",
              "      --fill-color: #D2E3FC;\n",
              "      --hover-bg-color: #434B5C;\n",
              "      --hover-fill-color: #FFFFFF;\n",
              "      --disabled-bg-color: #3B4455;\n",
              "      --disabled-fill-color: #666;\n",
              "  }\n",
              "\n",
              "  .colab-df-quickchart {\n",
              "    background-color: var(--bg-color);\n",
              "    border: none;\n",
              "    border-radius: 50%;\n",
              "    cursor: pointer;\n",
              "    display: none;\n",
              "    fill: var(--fill-color);\n",
              "    height: 32px;\n",
              "    padding: 0;\n",
              "    width: 32px;\n",
              "  }\n",
              "\n",
              "  .colab-df-quickchart:hover {\n",
              "    background-color: var(--hover-bg-color);\n",
              "    box-shadow: 0 1px 2px rgba(60, 64, 67, 0.3), 0 1px 3px 1px rgba(60, 64, 67, 0.15);\n",
              "    fill: var(--button-hover-fill-color);\n",
              "  }\n",
              "\n",
              "  .colab-df-quickchart-complete:disabled,\n",
              "  .colab-df-quickchart-complete:disabled:hover {\n",
              "    background-color: var(--disabled-bg-color);\n",
              "    fill: var(--disabled-fill-color);\n",
              "    box-shadow: none;\n",
              "  }\n",
              "\n",
              "  .colab-df-spinner {\n",
              "    border: 2px solid var(--fill-color);\n",
              "    border-color: transparent;\n",
              "    border-bottom-color: var(--fill-color);\n",
              "    animation:\n",
              "      spin 1s steps(1) infinite;\n",
              "  }\n",
              "\n",
              "  @keyframes spin {\n",
              "    0% {\n",
              "      border-color: transparent;\n",
              "      border-bottom-color: var(--fill-color);\n",
              "      border-left-color: var(--fill-color);\n",
              "    }\n",
              "    20% {\n",
              "      border-color: transparent;\n",
              "      border-left-color: var(--fill-color);\n",
              "      border-top-color: var(--fill-color);\n",
              "    }\n",
              "    30% {\n",
              "      border-color: transparent;\n",
              "      border-left-color: var(--fill-color);\n",
              "      border-top-color: var(--fill-color);\n",
              "      border-right-color: var(--fill-color);\n",
              "    }\n",
              "    40% {\n",
              "      border-color: transparent;\n",
              "      border-right-color: var(--fill-color);\n",
              "      border-top-color: var(--fill-color);\n",
              "    }\n",
              "    60% {\n",
              "      border-color: transparent;\n",
              "      border-right-color: var(--fill-color);\n",
              "    }\n",
              "    80% {\n",
              "      border-color: transparent;\n",
              "      border-right-color: var(--fill-color);\n",
              "      border-bottom-color: var(--fill-color);\n",
              "    }\n",
              "    90% {\n",
              "      border-color: transparent;\n",
              "      border-bottom-color: var(--fill-color);\n",
              "    }\n",
              "  }\n",
              "</style>\n",
              "\n",
              "  <script>\n",
              "    async function quickchart(key) {\n",
              "      const quickchartButtonEl =\n",
              "        document.querySelector('#' + key + ' button');\n",
              "      quickchartButtonEl.disabled = true;  // To prevent multiple clicks.\n",
              "      quickchartButtonEl.classList.add('colab-df-spinner');\n",
              "      try {\n",
              "        const charts = await google.colab.kernel.invokeFunction(\n",
              "            'suggestCharts', [key], {});\n",
              "      } catch (error) {\n",
              "        console.error('Error during call to suggestCharts:', error);\n",
              "      }\n",
              "      quickchartButtonEl.classList.remove('colab-df-spinner');\n",
              "      quickchartButtonEl.classList.add('colab-df-quickchart-complete');\n",
              "    }\n",
              "    (() => {\n",
              "      let quickchartButtonEl =\n",
              "        document.querySelector('#df-b2cc4857-d947-4b14-b7e0-3062ce1179fb button');\n",
              "      quickchartButtonEl.style.display =\n",
              "        google.colab.kernel.accessAllowed ? 'block' : 'none';\n",
              "    })();\n",
              "  </script>\n",
              "</div>\n",
              "\n",
              "    </div>\n",
              "  </div>\n"
            ],
            "application/vnd.google.colaboratory.intrinsic+json": {
              "type": "dataframe",
              "summary": "{\n  \"name\": \"air_df\",\n  \"rows\": 8760,\n  \"fields\": [\n    {\n      \"column\": [\n        \"Value\",\n        \"NO\"\n      ],\n      \"properties\": {\n        \"dtype\": \"number\",\n        \"std\": 26.678565292077764,\n        \"min\": -2.0,\n        \"max\": 401.79999,\n        \"num_unique_values\": 884,\n        \"samples\": [\n          21.5,\n          186.8,\n          85.1\n        ],\n        \"semantic_type\": \"\",\n        \"description\": \"\"\n      }\n    },\n    {\n      \"column\": [\n        \"Value\",\n        \"NO2\"\n      ],\n      \"properties\": {\n        \"dtype\": \"number\",\n        \"std\": 18.580841313012183,\n        \"min\": 2.8,\n        \"max\": 120.2,\n        \"num_unique_values\": 883,\n        \"samples\": [\n          63.6,\n          81.6,\n          8.9\n        ],\n        \"semantic_type\": \"\",\n        \"description\": \"\"\n      }\n    },\n    {\n      \"column\": [\n        \"Value\",\n        \"NOX\"\n      ],\n      \"properties\": {\n        \"dtype\": \"number\",\n        \"std\": 54.584805082983586,\n        \"min\": 1.0,\n        \"max\": 734.29999,\n        \"num_unique_values\": 1684,\n        \"samples\": [\n          82.8,\n          97.6,\n          45.3\n        ],\n        \"semantic_type\": \"\",\n        \"description\": \"\"\n      }\n    },\n    {\n      \"column\": [\n        \"Value\",\n        \"PM10\"\n      ],\n      \"properties\": {\n        \"dtype\": \"number\",\n        \"std\": 15.344754992403102,\n        \"min\": -5.6,\n        \"max\": 633.09998,\n        \"num_unique_values\": 423,\n        \"samples\": [\n          37.4,\n          9.0,\n          53.4\n        ],\n        \"semantic_type\": \"\",\n        \"description\": \"\"\n      }\n    },\n    {\n      \"column\": [\n        \"Value\",\n        \"PM2.5\"\n      ],\n      \"properties\": {\n        \"dtype\": \"number\",\n        \"std\": 13.558587686002454,\n        \"min\": -8.0,\n        \"max\": 128.0,\n        \"num_unique_values\": 112,\n        \"samples\": [\n          44.0,\n          92.0,\n          21.0\n        ],\n        \"semantic_type\": \"\",\n        \"description\": \"\"\n      }\n    }\n  ]\n}"
            }
          },
          "metadata": {},
          "execution_count": 130
        }
      ]
    },
    {
      "cell_type": "markdown",
      "source": [
        "Ambos metodos  reorganizan los datos de manera comparable y pueden llegar a tener un formato similar en su representación final pero las salidas no son estrictamente iguales, contienen exactamente el mismo contenido pero hay un cambio con las dimensiones de la matriz del dataset, podemos ver como una es de 43800 filas y otro de 8760, esto es importante ya que dependiendo de que información se quiera extraer o utilizar la localización de los datos cambia."
      ],
      "metadata": {
        "id": "vghs1q2rSbwW"
      }
    },
    {
      "cell_type": "markdown",
      "source": [
        "10.\tExplica cuáles son las diferencias y similitudes entre el par `melt()/pivot()` y el par `stack()/unstack()`. Si tuvieras que elegir una contraparte para `melt()` entre `stack()/unstack()`, ¿cuál elegirías? ¿Por qué?"
      ],
      "metadata": {
        "id": "K1vWLX2ffxHV"
      }
    },
    {
      "cell_type": "markdown",
      "source": [
        "Ambos están diseñados para cambiar el formato de los datos entre largo y ancho, pero llevan a cabo la función contraria al otro.\n",
        "\n",
        "melt() convierte un DataFrame del formato ancho al formato largo. Resulta en un DataFrame más vertical, donde las columnas se convierten en filas.\n",
        "\n",
        "pivot() hace el proceso inverso: convierte un DataFrame del formato largo al ancho. Reorganiza los datos usando valores de una columna como encabezados de nuevas columnas.\n",
        "\n",
        "\n"
      ],
      "metadata": {
        "id": "L0EtgOVIfzRd"
      }
    },
    {
      "cell_type": "markdown",
      "source": [
        "Ambos están orientados a trabajar con MultiIndex y niveles de índice en el DataFrame, cambiando la estructura entre columnas y filas. Es basicamente el mismo concepto que melt y pivot.\n",
        "\n",
        "stack() convierte un DataFrame ancho a largo agrupando múltiples columnas en niveles de índice adicionales (MultiIndex) y transformando los nombres de las columnas en filas.\n",
        "\n",
        "unstack() convierte un DataFrame del formato largo a ancho, moviendo los niveles del índice hacia las columnas. Es el inverso de stack().\n"
      ],
      "metadata": {
        "id": "iUkWZevvsAXn"
      }
    },
    {
      "cell_type": "markdown",
      "source": [
        "Para elegir una contraparte para melt() entre stack()/unstack() solo hay que razonar un poco en las definiciones pasadas, melt generá el dataframe vertical, generando muchas iteraciones de nuevas filas, en el caso de stack()/unstack() stack() es el que es más similar ya que ambos trabajan en la conversión hacia un formato más largo o vertical, teniendo una mayo cantidad de filas."
      ],
      "metadata": {
        "id": "A0mlmg9OsYEu"
      }
    }
  ]
}
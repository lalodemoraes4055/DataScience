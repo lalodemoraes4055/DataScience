{
  "cells": [
    {
      "cell_type": "markdown",
      "metadata": {
        "id": "0v5lZjzQZTms"
      },
      "source": [
        "**MAESTRÍA EN INTELIGENCIA ARTIFICIAL APLICADA**\n",
        "\n",
        "**Curso: TC4029 - Ciencia y analítica de datos**\n",
        "\n",
        "Tecnológico de Monterrey\n",
        "\n",
        "Prof Grettel Barceló Alonso\n",
        "\n",
        "**Semana 6**\n",
        "Ingeniería de características (FE)\n",
        "\n",
        "---"
      ]
    },
    {
      "cell_type": "markdown",
      "metadata": {
        "id": "HfLoXtuKuCug"
      },
      "source": [
        "*   NOMBRE: José Eduardo De Moraes López\n",
        "*   MATRÍCULA: A01634782\n",
        "*   NOMBRE: Jorge Andrés Moya Pacheco\n",
        "*   MATRÍCULA: A00813287\n",
        "*   NOMBRE: Julio Miguel Díaz de León García\n",
        "*   MATRÍCULA: A01796215\n",
        "*   NOMBRE: Julio de Jesús Alvarez Martínez\n",
        "*   MATRÍCULA: A01374016\n"
      ]
    },
    {
      "cell_type": "code",
      "execution_count": null,
      "metadata": {
        "id": "nboaPqUVuHQc"
      },
      "outputs": [],
      "source": [
        "#from google.colab import drive\n",
        "#drive.mount('/content/drive')"
      ]
    },
    {
      "cell_type": "code",
      "execution_count": null,
      "metadata": {
        "id": "nKdwi4dUuJQG"
      },
      "outputs": [],
      "source": [
        "import os\n",
        "#DIR = \"/content/drive/MyDrive/Equipo43DS\"\n",
        "#os.chdir(DIR)"
      ]
    },
    {
      "cell_type": "code",
      "execution_count": null,
      "metadata": {
        "id": "7Qc1oYLeZTmu"
      },
      "outputs": [],
      "source": [
        "import pandas as pd\n",
        "import numpy as np\n",
        "import matplotlib.pyplot as plt\n",
        "import seaborn as sns\n",
        "import scipy.stats as stats\n",
        "from sklearn.preprocessing import PowerTransformer, MinMaxScaler,OneHotEncoder\n",
        "import category_encoders as ce"
      ]
    },
    {
      "cell_type": "code",
      "execution_count": null,
      "metadata": {
        "id": "4vAGfWqV5akP"
      },
      "outputs": [],
      "source": [
        "pd.set_option('display.max_columns', 170)"
      ]
    },
    {
      "cell_type": "code",
      "execution_count": null,
      "metadata": {
        "colab": {
          "base_uri": "https://localhost:8080/"
        },
        "id": "iYjoQ1D7w-Bf",
        "outputId": "4011f842-ca6b-4f27-aa17-db23a1d94237"
      },
      "outputs": [
        {
          "name": "stdout",
          "output_type": "stream",
          "text": [
            "Requirement already satisfied: category_encoders in c:\\users\\julio\\anaconda3\\lib\\site-packages (2.6.4)\n",
            "Requirement already satisfied: numpy>=1.14.0 in c:\\users\\julio\\anaconda3\\lib\\site-packages (from category_encoders) (1.21.5)\n",
            "Requirement already satisfied: scikit-learn>=0.20.0 in c:\\users\\julio\\anaconda3\\lib\\site-packages (from category_encoders) (1.0.2)\n",
            "Requirement already satisfied: scipy>=1.0.0 in c:\\users\\julio\\anaconda3\\lib\\site-packages (from category_encoders) (1.7.3)\n",
            "Requirement already satisfied: statsmodels>=0.9.0 in c:\\users\\julio\\anaconda3\\lib\\site-packages (from category_encoders) (0.13.2)\n",
            "Requirement already satisfied: pandas>=1.0.5 in c:\\users\\julio\\anaconda3\\lib\\site-packages (from category_encoders) (1.4.2)\n",
            "Requirement already satisfied: patsy>=0.5.1 in c:\\users\\julio\\anaconda3\\lib\\site-packages (from category_encoders) (0.5.2)\n",
            "Requirement already satisfied: python-dateutil>=2.8.1 in c:\\users\\julio\\anaconda3\\lib\\site-packages (from pandas>=1.0.5->category_encoders) (2.8.2)\n",
            "Requirement already satisfied: pytz>=2020.1 in c:\\users\\julio\\anaconda3\\lib\\site-packages (from pandas>=1.0.5->category_encoders) (2021.3)\n",
            "Requirement already satisfied: six in c:\\users\\julio\\anaconda3\\lib\\site-packages (from patsy>=0.5.1->category_encoders) (1.16.0)\n",
            "Requirement already satisfied: joblib>=0.11 in c:\\users\\julio\\anaconda3\\lib\\site-packages (from scikit-learn>=0.20.0->category_encoders) (1.1.0)\n",
            "Requirement already satisfied: threadpoolctl>=2.0.0 in c:\\users\\julio\\anaconda3\\lib\\site-packages (from scikit-learn>=0.20.0->category_encoders) (2.2.0)\n",
            "Requirement already satisfied: packaging>=21.3 in c:\\users\\julio\\anaconda3\\lib\\site-packages (from statsmodels>=0.9.0->category_encoders) (21.3)\n",
            "Requirement already satisfied: pyparsing!=3.0.5,>=2.0.2 in c:\\users\\julio\\anaconda3\\lib\\site-packages (from packaging>=21.3->statsmodels>=0.9.0->category_encoders) (3.0.4)\n"
          ]
        }
      ],
      "source": [
        "!pip install category_encoders"
      ]
    },
    {
      "cell_type": "code",
      "execution_count": null,
      "metadata": {
        "id": "0MvLXaSkLzjU"
      },
      "outputs": [],
      "source": [
        "#import tensorflow as tf\n",
        "#print(\"Num GPUs Available: \", len(tf.config.list_physical_devices('GPU')))"
      ]
    },
    {
      "cell_type": "code",
      "execution_count": null,
      "metadata": {
        "colab": {
          "base_uri": "https://localhost:8080/",
          "height": 738
        },
        "id": "8Z_KZl5LZTmz",
        "outputId": "b4036372-1eb5-4405-a1cb-fdc9265184ee"
      },
      "outputs": [
        {
          "data": {
            "text/html": [
              "<div>\n",
              "<style scoped>\n",
              "    .dataframe tbody tr th:only-of-type {\n",
              "        vertical-align: middle;\n",
              "    }\n",
              "\n",
              "    .dataframe tbody tr th {\n",
              "        vertical-align: top;\n",
              "    }\n",
              "\n",
              "    .dataframe thead th {\n",
              "        text-align: right;\n",
              "    }\n",
              "</style>\n",
              "<table border=\"1\" class=\"dataframe\">\n",
              "  <thead>\n",
              "    <tr style=\"text-align: right;\">\n",
              "      <th></th>\n",
              "      <th>id</th>\n",
              "      <th>url</th>\n",
              "      <th>region</th>\n",
              "      <th>region_url</th>\n",
              "      <th>price</th>\n",
              "      <th>year</th>\n",
              "      <th>manufacturer</th>\n",
              "      <th>model</th>\n",
              "      <th>condition</th>\n",
              "      <th>cylinders</th>\n",
              "      <th>fuel</th>\n",
              "      <th>odometer</th>\n",
              "      <th>title_status</th>\n",
              "      <th>transmission</th>\n",
              "      <th>VIN</th>\n",
              "      <th>drive</th>\n",
              "      <th>size</th>\n",
              "      <th>type</th>\n",
              "      <th>paint_color</th>\n",
              "      <th>image_url</th>\n",
              "      <th>description</th>\n",
              "      <th>county</th>\n",
              "      <th>state</th>\n",
              "      <th>lat</th>\n",
              "      <th>long</th>\n",
              "      <th>posting_date</th>\n",
              "    </tr>\n",
              "  </thead>\n",
              "  <tbody>\n",
              "    <tr>\n",
              "      <th>0</th>\n",
              "      <td>7222695916</td>\n",
              "      <td>https://prescott.craigslist.org/cto/d/prescott...</td>\n",
              "      <td>prescott</td>\n",
              "      <td>https://prescott.craigslist.org</td>\n",
              "      <td>6000</td>\n",
              "      <td>NaN</td>\n",
              "      <td>NaN</td>\n",
              "      <td>NaN</td>\n",
              "      <td>NaN</td>\n",
              "      <td>NaN</td>\n",
              "      <td>NaN</td>\n",
              "      <td>NaN</td>\n",
              "      <td>NaN</td>\n",
              "      <td>NaN</td>\n",
              "      <td>NaN</td>\n",
              "      <td>NaN</td>\n",
              "      <td>NaN</td>\n",
              "      <td>NaN</td>\n",
              "      <td>NaN</td>\n",
              "      <td>NaN</td>\n",
              "      <td>NaN</td>\n",
              "      <td>NaN</td>\n",
              "      <td>az</td>\n",
              "      <td>NaN</td>\n",
              "      <td>NaN</td>\n",
              "      <td>NaN</td>\n",
              "    </tr>\n",
              "    <tr>\n",
              "      <th>1</th>\n",
              "      <td>7218891961</td>\n",
              "      <td>https://fayar.craigslist.org/ctd/d/bentonville...</td>\n",
              "      <td>fayetteville</td>\n",
              "      <td>https://fayar.craigslist.org</td>\n",
              "      <td>11900</td>\n",
              "      <td>NaN</td>\n",
              "      <td>NaN</td>\n",
              "      <td>NaN</td>\n",
              "      <td>NaN</td>\n",
              "      <td>NaN</td>\n",
              "      <td>NaN</td>\n",
              "      <td>NaN</td>\n",
              "      <td>NaN</td>\n",
              "      <td>NaN</td>\n",
              "      <td>NaN</td>\n",
              "      <td>NaN</td>\n",
              "      <td>NaN</td>\n",
              "      <td>NaN</td>\n",
              "      <td>NaN</td>\n",
              "      <td>NaN</td>\n",
              "      <td>NaN</td>\n",
              "      <td>NaN</td>\n",
              "      <td>ar</td>\n",
              "      <td>NaN</td>\n",
              "      <td>NaN</td>\n",
              "      <td>NaN</td>\n",
              "    </tr>\n",
              "    <tr>\n",
              "      <th>2</th>\n",
              "      <td>7221797935</td>\n",
              "      <td>https://keys.craigslist.org/cto/d/summerland-k...</td>\n",
              "      <td>florida keys</td>\n",
              "      <td>https://keys.craigslist.org</td>\n",
              "      <td>21000</td>\n",
              "      <td>NaN</td>\n",
              "      <td>NaN</td>\n",
              "      <td>NaN</td>\n",
              "      <td>NaN</td>\n",
              "      <td>NaN</td>\n",
              "      <td>NaN</td>\n",
              "      <td>NaN</td>\n",
              "      <td>NaN</td>\n",
              "      <td>NaN</td>\n",
              "      <td>NaN</td>\n",
              "      <td>NaN</td>\n",
              "      <td>NaN</td>\n",
              "      <td>NaN</td>\n",
              "      <td>NaN</td>\n",
              "      <td>NaN</td>\n",
              "      <td>NaN</td>\n",
              "      <td>NaN</td>\n",
              "      <td>fl</td>\n",
              "      <td>NaN</td>\n",
              "      <td>NaN</td>\n",
              "      <td>NaN</td>\n",
              "    </tr>\n",
              "    <tr>\n",
              "      <th>3</th>\n",
              "      <td>7222270760</td>\n",
              "      <td>https://worcester.craigslist.org/cto/d/west-br...</td>\n",
              "      <td>worcester / central MA</td>\n",
              "      <td>https://worcester.craigslist.org</td>\n",
              "      <td>1500</td>\n",
              "      <td>NaN</td>\n",
              "      <td>NaN</td>\n",
              "      <td>NaN</td>\n",
              "      <td>NaN</td>\n",
              "      <td>NaN</td>\n",
              "      <td>NaN</td>\n",
              "      <td>NaN</td>\n",
              "      <td>NaN</td>\n",
              "      <td>NaN</td>\n",
              "      <td>NaN</td>\n",
              "      <td>NaN</td>\n",
              "      <td>NaN</td>\n",
              "      <td>NaN</td>\n",
              "      <td>NaN</td>\n",
              "      <td>NaN</td>\n",
              "      <td>NaN</td>\n",
              "      <td>NaN</td>\n",
              "      <td>ma</td>\n",
              "      <td>NaN</td>\n",
              "      <td>NaN</td>\n",
              "      <td>NaN</td>\n",
              "    </tr>\n",
              "    <tr>\n",
              "      <th>4</th>\n",
              "      <td>7210384030</td>\n",
              "      <td>https://greensboro.craigslist.org/cto/d/trinit...</td>\n",
              "      <td>greensboro</td>\n",
              "      <td>https://greensboro.craigslist.org</td>\n",
              "      <td>4900</td>\n",
              "      <td>NaN</td>\n",
              "      <td>NaN</td>\n",
              "      <td>NaN</td>\n",
              "      <td>NaN</td>\n",
              "      <td>NaN</td>\n",
              "      <td>NaN</td>\n",
              "      <td>NaN</td>\n",
              "      <td>NaN</td>\n",
              "      <td>NaN</td>\n",
              "      <td>NaN</td>\n",
              "      <td>NaN</td>\n",
              "      <td>NaN</td>\n",
              "      <td>NaN</td>\n",
              "      <td>NaN</td>\n",
              "      <td>NaN</td>\n",
              "      <td>NaN</td>\n",
              "      <td>NaN</td>\n",
              "      <td>nc</td>\n",
              "      <td>NaN</td>\n",
              "      <td>NaN</td>\n",
              "      <td>NaN</td>\n",
              "    </tr>\n",
              "    <tr>\n",
              "      <th>...</th>\n",
              "      <td>...</td>\n",
              "      <td>...</td>\n",
              "      <td>...</td>\n",
              "      <td>...</td>\n",
              "      <td>...</td>\n",
              "      <td>...</td>\n",
              "      <td>...</td>\n",
              "      <td>...</td>\n",
              "      <td>...</td>\n",
              "      <td>...</td>\n",
              "      <td>...</td>\n",
              "      <td>...</td>\n",
              "      <td>...</td>\n",
              "      <td>...</td>\n",
              "      <td>...</td>\n",
              "      <td>...</td>\n",
              "      <td>...</td>\n",
              "      <td>...</td>\n",
              "      <td>...</td>\n",
              "      <td>...</td>\n",
              "      <td>...</td>\n",
              "      <td>...</td>\n",
              "      <td>...</td>\n",
              "      <td>...</td>\n",
              "      <td>...</td>\n",
              "      <td>...</td>\n",
              "    </tr>\n",
              "    <tr>\n",
              "      <th>426875</th>\n",
              "      <td>7301591192</td>\n",
              "      <td>https://wyoming.craigslist.org/ctd/d/atlanta-2...</td>\n",
              "      <td>wyoming</td>\n",
              "      <td>https://wyoming.craigslist.org</td>\n",
              "      <td>23590</td>\n",
              "      <td>2019.0</td>\n",
              "      <td>nissan</td>\n",
              "      <td>maxima s sedan 4d</td>\n",
              "      <td>good</td>\n",
              "      <td>6 cylinders</td>\n",
              "      <td>gas</td>\n",
              "      <td>32226.0</td>\n",
              "      <td>clean</td>\n",
              "      <td>other</td>\n",
              "      <td>1N4AA6AV6KC367801</td>\n",
              "      <td>fwd</td>\n",
              "      <td>NaN</td>\n",
              "      <td>sedan</td>\n",
              "      <td>NaN</td>\n",
              "      <td>https://images.craigslist.org/00o0o_iiraFnHg8q...</td>\n",
              "      <td>Carvana is the safer way to buy a car During t...</td>\n",
              "      <td>NaN</td>\n",
              "      <td>wy</td>\n",
              "      <td>33.786500</td>\n",
              "      <td>-84.445400</td>\n",
              "      <td>2021-04-04T03:21:31-0600</td>\n",
              "    </tr>\n",
              "    <tr>\n",
              "      <th>426876</th>\n",
              "      <td>7301591187</td>\n",
              "      <td>https://wyoming.craigslist.org/ctd/d/atlanta-2...</td>\n",
              "      <td>wyoming</td>\n",
              "      <td>https://wyoming.craigslist.org</td>\n",
              "      <td>30590</td>\n",
              "      <td>2020.0</td>\n",
              "      <td>volvo</td>\n",
              "      <td>s60 t5 momentum sedan 4d</td>\n",
              "      <td>good</td>\n",
              "      <td>NaN</td>\n",
              "      <td>gas</td>\n",
              "      <td>12029.0</td>\n",
              "      <td>clean</td>\n",
              "      <td>other</td>\n",
              "      <td>7JR102FKXLG042696</td>\n",
              "      <td>fwd</td>\n",
              "      <td>NaN</td>\n",
              "      <td>sedan</td>\n",
              "      <td>red</td>\n",
              "      <td>https://images.craigslist.org/00x0x_15sbgnxCIS...</td>\n",
              "      <td>Carvana is the safer way to buy a car During t...</td>\n",
              "      <td>NaN</td>\n",
              "      <td>wy</td>\n",
              "      <td>33.786500</td>\n",
              "      <td>-84.445400</td>\n",
              "      <td>2021-04-04T03:21:29-0600</td>\n",
              "    </tr>\n",
              "    <tr>\n",
              "      <th>426877</th>\n",
              "      <td>7301591147</td>\n",
              "      <td>https://wyoming.craigslist.org/ctd/d/atlanta-2...</td>\n",
              "      <td>wyoming</td>\n",
              "      <td>https://wyoming.craigslist.org</td>\n",
              "      <td>34990</td>\n",
              "      <td>2020.0</td>\n",
              "      <td>cadillac</td>\n",
              "      <td>xt4 sport suv 4d</td>\n",
              "      <td>good</td>\n",
              "      <td>NaN</td>\n",
              "      <td>diesel</td>\n",
              "      <td>4174.0</td>\n",
              "      <td>clean</td>\n",
              "      <td>other</td>\n",
              "      <td>1GYFZFR46LF088296</td>\n",
              "      <td>NaN</td>\n",
              "      <td>NaN</td>\n",
              "      <td>hatchback</td>\n",
              "      <td>white</td>\n",
              "      <td>https://images.craigslist.org/00L0L_farM7bxnxR...</td>\n",
              "      <td>Carvana is the safer way to buy a car During t...</td>\n",
              "      <td>NaN</td>\n",
              "      <td>wy</td>\n",
              "      <td>33.779214</td>\n",
              "      <td>-84.411811</td>\n",
              "      <td>2021-04-04T03:21:17-0600</td>\n",
              "    </tr>\n",
              "    <tr>\n",
              "      <th>426878</th>\n",
              "      <td>7301591140</td>\n",
              "      <td>https://wyoming.craigslist.org/ctd/d/atlanta-2...</td>\n",
              "      <td>wyoming</td>\n",
              "      <td>https://wyoming.craigslist.org</td>\n",
              "      <td>28990</td>\n",
              "      <td>2018.0</td>\n",
              "      <td>lexus</td>\n",
              "      <td>es 350 sedan 4d</td>\n",
              "      <td>good</td>\n",
              "      <td>6 cylinders</td>\n",
              "      <td>gas</td>\n",
              "      <td>30112.0</td>\n",
              "      <td>clean</td>\n",
              "      <td>other</td>\n",
              "      <td>58ABK1GG4JU103853</td>\n",
              "      <td>fwd</td>\n",
              "      <td>NaN</td>\n",
              "      <td>sedan</td>\n",
              "      <td>silver</td>\n",
              "      <td>https://images.craigslist.org/00z0z_bKnIVGLkDT...</td>\n",
              "      <td>Carvana is the safer way to buy a car During t...</td>\n",
              "      <td>NaN</td>\n",
              "      <td>wy</td>\n",
              "      <td>33.786500</td>\n",
              "      <td>-84.445400</td>\n",
              "      <td>2021-04-04T03:21:11-0600</td>\n",
              "    </tr>\n",
              "    <tr>\n",
              "      <th>426879</th>\n",
              "      <td>7301591129</td>\n",
              "      <td>https://wyoming.craigslist.org/ctd/d/atlanta-2...</td>\n",
              "      <td>wyoming</td>\n",
              "      <td>https://wyoming.craigslist.org</td>\n",
              "      <td>30590</td>\n",
              "      <td>2019.0</td>\n",
              "      <td>bmw</td>\n",
              "      <td>4 series 430i gran coupe</td>\n",
              "      <td>good</td>\n",
              "      <td>NaN</td>\n",
              "      <td>gas</td>\n",
              "      <td>22716.0</td>\n",
              "      <td>clean</td>\n",
              "      <td>other</td>\n",
              "      <td>WBA4J1C58KBM14708</td>\n",
              "      <td>rwd</td>\n",
              "      <td>NaN</td>\n",
              "      <td>coupe</td>\n",
              "      <td>NaN</td>\n",
              "      <td>https://images.craigslist.org/00Y0Y_lEUocjyRxa...</td>\n",
              "      <td>Carvana is the safer way to buy a car During t...</td>\n",
              "      <td>NaN</td>\n",
              "      <td>wy</td>\n",
              "      <td>33.779214</td>\n",
              "      <td>-84.411811</td>\n",
              "      <td>2021-04-04T03:21:07-0600</td>\n",
              "    </tr>\n",
              "  </tbody>\n",
              "</table>\n",
              "<p>426880 rows × 26 columns</p>\n",
              "</div>"
            ],
            "text/plain": [
              "                id                                                url  \\\n",
              "0       7222695916  https://prescott.craigslist.org/cto/d/prescott...   \n",
              "1       7218891961  https://fayar.craigslist.org/ctd/d/bentonville...   \n",
              "2       7221797935  https://keys.craigslist.org/cto/d/summerland-k...   \n",
              "3       7222270760  https://worcester.craigslist.org/cto/d/west-br...   \n",
              "4       7210384030  https://greensboro.craigslist.org/cto/d/trinit...   \n",
              "...            ...                                                ...   \n",
              "426875  7301591192  https://wyoming.craigslist.org/ctd/d/atlanta-2...   \n",
              "426876  7301591187  https://wyoming.craigslist.org/ctd/d/atlanta-2...   \n",
              "426877  7301591147  https://wyoming.craigslist.org/ctd/d/atlanta-2...   \n",
              "426878  7301591140  https://wyoming.craigslist.org/ctd/d/atlanta-2...   \n",
              "426879  7301591129  https://wyoming.craigslist.org/ctd/d/atlanta-2...   \n",
              "\n",
              "                        region                         region_url  price  \\\n",
              "0                     prescott    https://prescott.craigslist.org   6000   \n",
              "1                 fayetteville       https://fayar.craigslist.org  11900   \n",
              "2                 florida keys        https://keys.craigslist.org  21000   \n",
              "3       worcester / central MA   https://worcester.craigslist.org   1500   \n",
              "4                   greensboro  https://greensboro.craigslist.org   4900   \n",
              "...                        ...                                ...    ...   \n",
              "426875                 wyoming     https://wyoming.craigslist.org  23590   \n",
              "426876                 wyoming     https://wyoming.craigslist.org  30590   \n",
              "426877                 wyoming     https://wyoming.craigslist.org  34990   \n",
              "426878                 wyoming     https://wyoming.craigslist.org  28990   \n",
              "426879                 wyoming     https://wyoming.craigslist.org  30590   \n",
              "\n",
              "          year manufacturer                     model condition    cylinders  \\\n",
              "0          NaN          NaN                       NaN       NaN          NaN   \n",
              "1          NaN          NaN                       NaN       NaN          NaN   \n",
              "2          NaN          NaN                       NaN       NaN          NaN   \n",
              "3          NaN          NaN                       NaN       NaN          NaN   \n",
              "4          NaN          NaN                       NaN       NaN          NaN   \n",
              "...        ...          ...                       ...       ...          ...   \n",
              "426875  2019.0       nissan         maxima s sedan 4d      good  6 cylinders   \n",
              "426876  2020.0        volvo  s60 t5 momentum sedan 4d      good          NaN   \n",
              "426877  2020.0     cadillac          xt4 sport suv 4d      good          NaN   \n",
              "426878  2018.0        lexus           es 350 sedan 4d      good  6 cylinders   \n",
              "426879  2019.0          bmw  4 series 430i gran coupe      good          NaN   \n",
              "\n",
              "          fuel  odometer title_status transmission                VIN drive  \\\n",
              "0          NaN       NaN          NaN          NaN                NaN   NaN   \n",
              "1          NaN       NaN          NaN          NaN                NaN   NaN   \n",
              "2          NaN       NaN          NaN          NaN                NaN   NaN   \n",
              "3          NaN       NaN          NaN          NaN                NaN   NaN   \n",
              "4          NaN       NaN          NaN          NaN                NaN   NaN   \n",
              "...        ...       ...          ...          ...                ...   ...   \n",
              "426875     gas   32226.0        clean        other  1N4AA6AV6KC367801   fwd   \n",
              "426876     gas   12029.0        clean        other  7JR102FKXLG042696   fwd   \n",
              "426877  diesel    4174.0        clean        other  1GYFZFR46LF088296   NaN   \n",
              "426878     gas   30112.0        clean        other  58ABK1GG4JU103853   fwd   \n",
              "426879     gas   22716.0        clean        other  WBA4J1C58KBM14708   rwd   \n",
              "\n",
              "       size       type paint_color  \\\n",
              "0       NaN        NaN         NaN   \n",
              "1       NaN        NaN         NaN   \n",
              "2       NaN        NaN         NaN   \n",
              "3       NaN        NaN         NaN   \n",
              "4       NaN        NaN         NaN   \n",
              "...     ...        ...         ...   \n",
              "426875  NaN      sedan         NaN   \n",
              "426876  NaN      sedan         red   \n",
              "426877  NaN  hatchback       white   \n",
              "426878  NaN      sedan      silver   \n",
              "426879  NaN      coupe         NaN   \n",
              "\n",
              "                                                image_url  \\\n",
              "0                                                     NaN   \n",
              "1                                                     NaN   \n",
              "2                                                     NaN   \n",
              "3                                                     NaN   \n",
              "4                                                     NaN   \n",
              "...                                                   ...   \n",
              "426875  https://images.craigslist.org/00o0o_iiraFnHg8q...   \n",
              "426876  https://images.craigslist.org/00x0x_15sbgnxCIS...   \n",
              "426877  https://images.craigslist.org/00L0L_farM7bxnxR...   \n",
              "426878  https://images.craigslist.org/00z0z_bKnIVGLkDT...   \n",
              "426879  https://images.craigslist.org/00Y0Y_lEUocjyRxa...   \n",
              "\n",
              "                                              description  county state  \\\n",
              "0                                                     NaN     NaN    az   \n",
              "1                                                     NaN     NaN    ar   \n",
              "2                                                     NaN     NaN    fl   \n",
              "3                                                     NaN     NaN    ma   \n",
              "4                                                     NaN     NaN    nc   \n",
              "...                                                   ...     ...   ...   \n",
              "426875  Carvana is the safer way to buy a car During t...     NaN    wy   \n",
              "426876  Carvana is the safer way to buy a car During t...     NaN    wy   \n",
              "426877  Carvana is the safer way to buy a car During t...     NaN    wy   \n",
              "426878  Carvana is the safer way to buy a car During t...     NaN    wy   \n",
              "426879  Carvana is the safer way to buy a car During t...     NaN    wy   \n",
              "\n",
              "              lat       long              posting_date  \n",
              "0             NaN        NaN                       NaN  \n",
              "1             NaN        NaN                       NaN  \n",
              "2             NaN        NaN                       NaN  \n",
              "3             NaN        NaN                       NaN  \n",
              "4             NaN        NaN                       NaN  \n",
              "...           ...        ...                       ...  \n",
              "426875  33.786500 -84.445400  2021-04-04T03:21:31-0600  \n",
              "426876  33.786500 -84.445400  2021-04-04T03:21:29-0600  \n",
              "426877  33.779214 -84.411811  2021-04-04T03:21:17-0600  \n",
              "426878  33.786500 -84.445400  2021-04-04T03:21:11-0600  \n",
              "426879  33.779214 -84.411811  2021-04-04T03:21:07-0600  \n",
              "\n",
              "[426880 rows x 26 columns]"
            ]
          },
          "execution_count": 7,
          "metadata": {},
          "output_type": "execute_result"
        }
      ],
      "source": [
        "cars_df = pd.read_csv('C:/Users/julio/Downloads/vehicles.csv')\n",
        "cars_df"
      ]
    },
    {
      "cell_type": "code",
      "execution_count": null,
      "metadata": {
        "colab": {
          "base_uri": "https://localhost:8080/"
        },
        "id": "3qh5mTR11Gea",
        "outputId": "ab2410ed-59ed-453a-c60b-acfe9c5d2ffb"
      },
      "outputs": [
        {
          "name": "stdout",
          "output_type": "stream",
          "text": [
            "<class 'pandas.core.frame.DataFrame'>\n",
            "RangeIndex: 426880 entries, 0 to 426879\n",
            "Data columns (total 26 columns):\n",
            " #   Column        Non-Null Count   Dtype  \n",
            "---  ------        --------------   -----  \n",
            " 0   id            426880 non-null  int64  \n",
            " 1   url           426880 non-null  object \n",
            " 2   region        426880 non-null  object \n",
            " 3   region_url    426880 non-null  object \n",
            " 4   price         426880 non-null  int64  \n",
            " 5   year          425675 non-null  float64\n",
            " 6   manufacturer  409234 non-null  object \n",
            " 7   model         421603 non-null  object \n",
            " 8   condition     252776 non-null  object \n",
            " 9   cylinders     249202 non-null  object \n",
            " 10  fuel          423867 non-null  object \n",
            " 11  odometer      422480 non-null  float64\n",
            " 12  title_status  418638 non-null  object \n",
            " 13  transmission  424324 non-null  object \n",
            " 14  VIN           265838 non-null  object \n",
            " 15  drive         296313 non-null  object \n",
            " 16  size          120519 non-null  object \n",
            " 17  type          334022 non-null  object \n",
            " 18  paint_color   296677 non-null  object \n",
            " 19  image_url     426812 non-null  object \n",
            " 20  description   426810 non-null  object \n",
            " 21  county        0 non-null       float64\n",
            " 22  state         426880 non-null  object \n",
            " 23  lat           420331 non-null  float64\n",
            " 24  long          420331 non-null  float64\n",
            " 25  posting_date  426812 non-null  object \n",
            "dtypes: float64(5), int64(2), object(19)\n",
            "memory usage: 84.7+ MB\n"
          ]
        }
      ],
      "source": [
        "cars_df.info()"
      ]
    },
    {
      "cell_type": "markdown",
      "metadata": {
        "id": "NCkp_IyzsN4r"
      },
      "source": [
        "# **Parte 1**. Preprocesamiento"
      ]
    },
    {
      "cell_type": "markdown",
      "metadata": {
        "id": "OegZ-_zmsjLf"
      },
      "source": [
        "1a)    Elimina las columnas que no serán relevantes para esta actividad: `id`, `VIN`, `url`, `image_url`, `description`, `posting_date`, `lat`, `long`.\n"
      ]
    },
    {
      "cell_type": "code",
      "execution_count": null,
      "metadata": {
        "id": "RC5jdEpJ7fYk"
      },
      "outputs": [],
      "source": [
        "columns_to_drop = ['id', 'VIN', 'url', 'image_url', 'description', 'posting_date', 'lat', 'long']\n",
        "cars_df.drop(columns=columns_to_drop, inplace=True)"
      ]
    },
    {
      "cell_type": "markdown",
      "metadata": {
        "id": "SKlWlKM3sa0o"
      },
      "source": [
        "1b) Almacena en una variable la cantidad de observaciones o registros del dataframe y en otra el número de columnas (después del borrado) para análisis posteriores."
      ]
    },
    {
      "cell_type": "code",
      "execution_count": null,
      "metadata": {
        "colab": {
          "base_uri": "https://localhost:8080/"
        },
        "id": "cqo7IbVAVGJk",
        "outputId": "9cd2f0d0-74bb-4ef7-83a9-f2bc89c7d1c1"
      },
      "outputs": [
        {
          "name": "stdout",
          "output_type": "stream",
          "text": [
            "Cantidad de observaciones: 426880\n",
            "Número de columnas después de borrar: 18\n",
            "<class 'pandas.core.frame.DataFrame'>\n",
            "RangeIndex: 426880 entries, 0 to 426879\n",
            "Data columns (total 18 columns):\n",
            " #   Column        Non-Null Count   Dtype  \n",
            "---  ------        --------------   -----  \n",
            " 0   region        426880 non-null  object \n",
            " 1   region_url    426880 non-null  object \n",
            " 2   price         426880 non-null  int64  \n",
            " 3   year          425675 non-null  float64\n",
            " 4   manufacturer  409234 non-null  object \n",
            " 5   model         421603 non-null  object \n",
            " 6   condition     252776 non-null  object \n",
            " 7   cylinders     249202 non-null  object \n",
            " 8   fuel          423867 non-null  object \n",
            " 9   odometer      422480 non-null  float64\n",
            " 10  title_status  418638 non-null  object \n",
            " 11  transmission  424324 non-null  object \n",
            " 12  drive         296313 non-null  object \n",
            " 13  size          120519 non-null  object \n",
            " 14  type          334022 non-null  object \n",
            " 15  paint_color   296677 non-null  object \n",
            " 16  county        0 non-null       float64\n",
            " 17  state         426880 non-null  object \n",
            "dtypes: float64(3), int64(1), object(14)\n",
            "memory usage: 58.6+ MB\n"
          ]
        }
      ],
      "source": [
        "num_observations = cars_df.shape[0]  # Cantidad de observaciones o registros\n",
        "num_columns = cars_df.shape[1]       # Número de columnas después del borrado\n",
        "\n",
        "# Mostrar las cantidades\n",
        "print(f\"Cantidad de observaciones: {num_observations}\")\n",
        "print(f\"Número de columnas después de borrar: {num_columns}\")\n",
        "\n",
        "cars_df.info()"
      ]
    },
    {
      "cell_type": "markdown",
      "metadata": {
        "id": "Oy9NansLCKIC"
      },
      "source": [
        "## Valores faltantes"
      ]
    },
    {
      "cell_type": "markdown",
      "metadata": {
        "id": "Lxx7KHBZtJPV"
      },
      "source": [
        "Cuando la cantidad de valores faltantes en una columna es lo suficientemente grande (aproximadamente más del 25%), estimar e ingresar los valores faltantes no tiene sentido, y eliminar el atributo es mejor que estimar los valores faltantes. https://learning.oreilly.com/library/view/hands-on-data-preprocessing/9781801072137/B17397_11_Final_NM_ePub.xhtml#_idParaDest-188\n",
        "\n",
        "Sin embargo, esto no es una regla aplicable a todos los escenarios y hay muchas discusiones en torno a ello. https://www.quora.com/How-much-missing-data-is-too-much-1\n",
        "\n",
        "Para esta actividad  utilizaremos un umbral de 0.70 de la cantidad de registros (aquellas columnas que tengan 70% de valores no nulos). Considera además que estamos asumiendo que dichas variables son MCAR o MAR sin ninguna método gráfico o estadístico."
      ]
    },
    {
      "cell_type": "markdown",
      "metadata": {
        "id": "SI-uWA9cs0TZ"
      },
      "source": [
        "2a) Determina el porcentaje de valores faltantes por columna y elimina aquellas que posean el 30% o más de valores perdidos. Para ello utiliza el parámetro `thresh` de la función `dropna()` ¿Cuántas columnas se eliminaron?\n"
      ]
    },
    {
      "cell_type": "code",
      "execution_count": null,
      "metadata": {
        "colab": {
          "base_uri": "https://localhost:8080/"
        },
        "id": "0tjIBAFABiz4",
        "outputId": "0c2e7f89-7178-41fb-d7dc-cb5cba2f5c2e"
      },
      "outputs": [
        {
          "name": "stdout",
          "output_type": "stream",
          "text": [
            "Porcentaje de valores faltantes por columna:\n",
            "region            0.000000\n",
            "region_url        0.000000\n",
            "price             0.000000\n",
            "year              0.282281\n",
            "manufacturer      4.133714\n",
            "model             1.236179\n",
            "condition        40.785232\n",
            "cylinders        41.622470\n",
            "fuel              0.705819\n",
            "odometer          1.030735\n",
            "title_status      1.930753\n",
            "transmission      0.598763\n",
            "drive            30.586347\n",
            "size             71.767476\n",
            "type             21.752717\n",
            "paint_color      30.501078\n",
            "county          100.000000\n",
            "state             0.000000\n",
            "dtype: float64\n"
          ]
        }
      ],
      "source": [
        "missing_percentages = cars_df.isnull().mean() * 100\n",
        "\n",
        "# Mostrar los porcentajes\n",
        "print(\"Porcentaje de valores faltantes por columna:\")\n",
        "print(missing_percentages)"
      ]
    },
    {
      "cell_type": "code",
      "execution_count": null,
      "metadata": {
        "colab": {
          "base_uri": "https://localhost:8080/"
        },
        "id": "pNiSZv9dCjr0",
        "outputId": "a5f4f186-43eb-48e6-caad-9ca3cd8b7cde"
      },
      "outputs": [
        {
          "name": "stdout",
          "output_type": "stream",
          "text": [
            "Columnas eliminadas: ['condition', 'cylinders', 'drive', 'size', 'paint_color', 'county']\n"
          ]
        }
      ],
      "source": [
        "missing_percentages = cars_df.isnull().mean() * 100\n",
        "\n",
        "threshold = 0.70 * cars_df.shape[0]  # Umbral del 30% de valores faltantes\n",
        "cars_df.dropna(thresh=threshold, axis=1, inplace=True)\n",
        "\n",
        "# Contar cuántas columnas se eliminaron\n",
        "print(f\"Columnas eliminadas: {missing_percentages[missing_percentages >= 30].index.tolist()}\")"
      ]
    },
    {
      "cell_type": "markdown",
      "metadata": {
        "id": "5hJ5oM825akR"
      },
      "source": [
        "Se eliminaron 6 columnas"
      ]
    },
    {
      "cell_type": "markdown",
      "metadata": {
        "id": "TP9PRQdu92td"
      },
      "source": [
        "Además, cuando tenemos grandes conjuntos de datos, podemos eliminar filas que contienen valores nulos. Aunque, no se recomienda si el porcentaje de valores faltantes en el conjunto de datos es superior al 30%\n",
        "https://medium.com/analytics-vidhya/how-to-deal-with-missing-values-in-data-set-8e8f70ecf155"
      ]
    },
    {
      "cell_type": "markdown",
      "metadata": {
        "id": "R7lZuQncu4F6"
      },
      "source": [
        "2b) Borra los registros que contengan `NaN` en las columnas con menos del 5% de valores faltantes empleando el parámetro subset ¿Qué porcentaje de los registros iniciales se eliminaron?\n"
      ]
    },
    {
      "cell_type": "code",
      "execution_count": null,
      "metadata": {
        "colab": {
          "base_uri": "https://localhost:8080/"
        },
        "id": "9OWIHf2xzKMO",
        "outputId": "cdc04031-4584-43dd-d2fa-04411f637e4c"
      },
      "outputs": [
        {
          "name": "stdout",
          "output_type": "stream",
          "text": [
            "Porcentaje de registros eliminados: 8.73%\n"
          ]
        }
      ],
      "source": [
        "columns_to_clean = missing_percentages[missing_percentages < 5].index\n",
        "initial_rows = cars_df.shape[0]\n",
        "cars_df.dropna(subset=columns_to_clean, inplace=True)\n",
        "\n",
        "# Calcular el porcentaje de registros eliminados\n",
        "rows_dropped = initial_rows - cars_df.shape[0]\n",
        "percentage_rows_dropped = (rows_dropped / initial_rows) * 100\n",
        "\n",
        "print(f\"Porcentaje de registros eliminados: {percentage_rows_dropped:.2f}%\")"
      ]
    },
    {
      "cell_type": "code",
      "execution_count": null,
      "metadata": {
        "id": "8WWD_6PT5akR"
      },
      "outputs": [],
      "source": [
        "num_records_end=len( cars_df) #registros tras la limpieza (se usará más adelante)"
      ]
    },
    {
      "cell_type": "markdown",
      "metadata": {
        "id": "nLkHFRaM0J3m"
      },
      "source": [
        "2c) Si hay variables que aún poseen valores faltantes, utiliza el método de imputación apropiado (`mean, median, mode`)"
      ]
    },
    {
      "cell_type": "code",
      "execution_count": null,
      "metadata": {
        "id": "GJ0h-JrO5akR",
        "outputId": "018b339f-8c14-41cf-9bcc-6ab3bcd716b1"
      },
      "outputs": [
        {
          "data": {
            "text/plain": [
              "region           0.000000\n",
              "region_url       0.000000\n",
              "price            0.000000\n",
              "year             0.000000\n",
              "manufacturer     0.000000\n",
              "model            0.000000\n",
              "fuel             0.000000\n",
              "odometer         0.000000\n",
              "title_status     0.000000\n",
              "transmission     0.000000\n",
              "type            21.208201\n",
              "state            0.000000\n",
              "dtype: float64"
            ]
          },
          "execution_count": 15,
          "metadata": {},
          "output_type": "execute_result"
        }
      ],
      "source": [
        "cars_df.isna().mean() * 100"
      ]
    },
    {
      "cell_type": "markdown",
      "metadata": {
        "id": "9ztm3fT45akS"
      },
      "source": [
        "Solo tenemos valores NaN en `type` que no es una variable numérica, por lo que se hará imputación con la moda en esa variable"
      ]
    },
    {
      "cell_type": "code",
      "execution_count": null,
      "metadata": {
        "id": "QXNQv4VhO6sq"
      },
      "outputs": [],
      "source": [
        "for column in cars_df.columns:\n",
        "    if cars_df[column].isnull().sum() > 0:\n",
        "        if cars_df[column].dtype in ['float64', 'int64']: #Si es num mediana\n",
        "            median_value = cars_df[column].median()\n",
        "            cars_df[column] = cars_df[column].fillna(median_value)\n",
        "        else:\n",
        "            mode_value = cars_df[column].mode()[0]\n",
        "            cars_df[column] = cars_df[column].fillna(mode_value) #Si es cat moda"
      ]
    },
    {
      "cell_type": "code",
      "execution_count": null,
      "metadata": {
        "colab": {
          "base_uri": "https://localhost:8080/",
          "height": 536
        },
        "id": "cnlfkw_HDojC",
        "outputId": "01adf1d4-ccf3-490a-bb85-3467f813dc9d"
      },
      "outputs": [
        {
          "name": "stdout",
          "output_type": "stream",
          "text": [
            "<class 'pandas.core.frame.DataFrame'>\n",
            "Int64Index: 389604 entries, 27 to 426879\n",
            "Data columns (total 12 columns):\n",
            " #   Column        Non-Null Count   Dtype  \n",
            "---  ------        --------------   -----  \n",
            " 0   region        389604 non-null  object \n",
            " 1   region_url    389604 non-null  object \n",
            " 2   price         389604 non-null  int64  \n",
            " 3   year          389604 non-null  float64\n",
            " 4   manufacturer  389604 non-null  object \n",
            " 5   model         389604 non-null  object \n",
            " 6   fuel          389604 non-null  object \n",
            " 7   odometer      389604 non-null  float64\n",
            " 8   title_status  389604 non-null  object \n",
            " 9   transmission  389604 non-null  object \n",
            " 10  type          389604 non-null  object \n",
            " 11  state         389604 non-null  object \n",
            "dtypes: float64(2), int64(1), object(9)\n",
            "memory usage: 38.6+ MB\n"
          ]
        },
        {
          "data": {
            "text/html": [
              "<div>\n",
              "<style scoped>\n",
              "    .dataframe tbody tr th:only-of-type {\n",
              "        vertical-align: middle;\n",
              "    }\n",
              "\n",
              "    .dataframe tbody tr th {\n",
              "        vertical-align: top;\n",
              "    }\n",
              "\n",
              "    .dataframe thead th {\n",
              "        text-align: right;\n",
              "    }\n",
              "</style>\n",
              "<table border=\"1\" class=\"dataframe\">\n",
              "  <thead>\n",
              "    <tr style=\"text-align: right;\">\n",
              "      <th></th>\n",
              "      <th>region</th>\n",
              "      <th>region_url</th>\n",
              "      <th>price</th>\n",
              "      <th>year</th>\n",
              "      <th>manufacturer</th>\n",
              "      <th>model</th>\n",
              "      <th>fuel</th>\n",
              "      <th>odometer</th>\n",
              "      <th>title_status</th>\n",
              "      <th>transmission</th>\n",
              "      <th>type</th>\n",
              "      <th>state</th>\n",
              "    </tr>\n",
              "  </thead>\n",
              "  <tbody>\n",
              "    <tr>\n",
              "      <th>27</th>\n",
              "      <td>auburn</td>\n",
              "      <td>https://auburn.craigslist.org</td>\n",
              "      <td>33590</td>\n",
              "      <td>2014.0</td>\n",
              "      <td>gmc</td>\n",
              "      <td>sierra 1500 crew cab slt</td>\n",
              "      <td>gas</td>\n",
              "      <td>57923.0</td>\n",
              "      <td>clean</td>\n",
              "      <td>other</td>\n",
              "      <td>pickup</td>\n",
              "      <td>al</td>\n",
              "    </tr>\n",
              "    <tr>\n",
              "      <th>28</th>\n",
              "      <td>auburn</td>\n",
              "      <td>https://auburn.craigslist.org</td>\n",
              "      <td>22590</td>\n",
              "      <td>2010.0</td>\n",
              "      <td>chevrolet</td>\n",
              "      <td>silverado 1500</td>\n",
              "      <td>gas</td>\n",
              "      <td>71229.0</td>\n",
              "      <td>clean</td>\n",
              "      <td>other</td>\n",
              "      <td>pickup</td>\n",
              "      <td>al</td>\n",
              "    </tr>\n",
              "    <tr>\n",
              "      <th>29</th>\n",
              "      <td>auburn</td>\n",
              "      <td>https://auburn.craigslist.org</td>\n",
              "      <td>39590</td>\n",
              "      <td>2020.0</td>\n",
              "      <td>chevrolet</td>\n",
              "      <td>silverado 1500 crew</td>\n",
              "      <td>gas</td>\n",
              "      <td>19160.0</td>\n",
              "      <td>clean</td>\n",
              "      <td>other</td>\n",
              "      <td>pickup</td>\n",
              "      <td>al</td>\n",
              "    </tr>\n",
              "    <tr>\n",
              "      <th>30</th>\n",
              "      <td>auburn</td>\n",
              "      <td>https://auburn.craigslist.org</td>\n",
              "      <td>30990</td>\n",
              "      <td>2017.0</td>\n",
              "      <td>toyota</td>\n",
              "      <td>tundra double cab sr</td>\n",
              "      <td>gas</td>\n",
              "      <td>41124.0</td>\n",
              "      <td>clean</td>\n",
              "      <td>other</td>\n",
              "      <td>pickup</td>\n",
              "      <td>al</td>\n",
              "    </tr>\n",
              "    <tr>\n",
              "      <th>31</th>\n",
              "      <td>auburn</td>\n",
              "      <td>https://auburn.craigslist.org</td>\n",
              "      <td>15000</td>\n",
              "      <td>2013.0</td>\n",
              "      <td>ford</td>\n",
              "      <td>f-150 xlt</td>\n",
              "      <td>gas</td>\n",
              "      <td>128000.0</td>\n",
              "      <td>clean</td>\n",
              "      <td>automatic</td>\n",
              "      <td>truck</td>\n",
              "      <td>al</td>\n",
              "    </tr>\n",
              "  </tbody>\n",
              "</table>\n",
              "</div>"
            ],
            "text/plain": [
              "    region                     region_url  price    year manufacturer  \\\n",
              "27  auburn  https://auburn.craigslist.org  33590  2014.0          gmc   \n",
              "28  auburn  https://auburn.craigslist.org  22590  2010.0    chevrolet   \n",
              "29  auburn  https://auburn.craigslist.org  39590  2020.0    chevrolet   \n",
              "30  auburn  https://auburn.craigslist.org  30990  2017.0       toyota   \n",
              "31  auburn  https://auburn.craigslist.org  15000  2013.0         ford   \n",
              "\n",
              "                       model fuel  odometer title_status transmission    type  \\\n",
              "27  sierra 1500 crew cab slt  gas   57923.0        clean        other  pickup   \n",
              "28            silverado 1500  gas   71229.0        clean        other  pickup   \n",
              "29       silverado 1500 crew  gas   19160.0        clean        other  pickup   \n",
              "30      tundra double cab sr  gas   41124.0        clean        other  pickup   \n",
              "31                 f-150 xlt  gas  128000.0        clean    automatic   truck   \n",
              "\n",
              "   state  \n",
              "27    al  \n",
              "28    al  \n",
              "29    al  \n",
              "30    al  \n",
              "31    al  "
            ]
          },
          "execution_count": 17,
          "metadata": {},
          "output_type": "execute_result"
        }
      ],
      "source": [
        "cars_df.info()\n",
        "cars_df.head()"
      ]
    },
    {
      "cell_type": "code",
      "execution_count": null,
      "metadata": {
        "id": "6AYicC5s5akS",
        "outputId": "cd795467-ca5f-414a-d02a-68d59169ac0a"
      },
      "outputs": [
        {
          "data": {
            "text/plain": [
              "sedan          163604\n",
              "SUV             71578\n",
              "pickup          40934\n",
              "truck           32035\n",
              "other           19442\n",
              "coupe           17109\n",
              "hatchback       14998\n",
              "wagon           10095\n",
              "van              7518\n",
              "convertible      6884\n",
              "mini-van         4553\n",
              "offroad           549\n",
              "bus               305\n",
              "Name: type, dtype: int64"
            ]
          },
          "execution_count": 18,
          "metadata": {},
          "output_type": "execute_result"
        }
      ],
      "source": [
        "cars_df['type'].value_counts()"
      ]
    },
    {
      "cell_type": "markdown",
      "metadata": {
        "id": "JUnSpPktCqZy"
      },
      "source": [
        "## Valores atípicos"
      ]
    },
    {
      "cell_type": "markdown",
      "metadata": {
        "id": "JzbnXqgG0k6-"
      },
      "source": [
        "3a) Obtén el histograma de las variables `price`, `year` y `odometer` para observar su distribución."
      ]
    },
    {
      "cell_type": "code",
      "execution_count": null,
      "metadata": {
        "id": "ykcr8weE5akS",
        "outputId": "e3596217-2fc9-4cc5-fdb1-42fc83540b6e"
      },
      "outputs": [
        {
          "data": {
            "text/html": [
              "<div>\n",
              "<style scoped>\n",
              "    .dataframe tbody tr th:only-of-type {\n",
              "        vertical-align: middle;\n",
              "    }\n",
              "\n",
              "    .dataframe tbody tr th {\n",
              "        vertical-align: top;\n",
              "    }\n",
              "\n",
              "    .dataframe thead th {\n",
              "        text-align: right;\n",
              "    }\n",
              "</style>\n",
              "<table border=\"1\" class=\"dataframe\">\n",
              "  <thead>\n",
              "    <tr style=\"text-align: right;\">\n",
              "      <th></th>\n",
              "      <th>count</th>\n",
              "      <th>mean</th>\n",
              "      <th>std</th>\n",
              "      <th>min</th>\n",
              "      <th>25%</th>\n",
              "      <th>50%</th>\n",
              "      <th>75%</th>\n",
              "      <th>max</th>\n",
              "    </tr>\n",
              "  </thead>\n",
              "  <tbody>\n",
              "    <tr>\n",
              "      <th>price</th>\n",
              "      <td>389604.0</td>\n",
              "      <td>63955.275919</td>\n",
              "      <td>1.144865e+07</td>\n",
              "      <td>0.0</td>\n",
              "      <td>5995.0</td>\n",
              "      <td>13995.0</td>\n",
              "      <td>26590.0</td>\n",
              "      <td>3.736929e+09</td>\n",
              "    </tr>\n",
              "    <tr>\n",
              "      <th>year</th>\n",
              "      <td>389604.0</td>\n",
              "      <td>2011.605338</td>\n",
              "      <td>8.639863e+00</td>\n",
              "      <td>1900.0</td>\n",
              "      <td>2009.0</td>\n",
              "      <td>2014.0</td>\n",
              "      <td>2017.0</td>\n",
              "      <td>2.022000e+03</td>\n",
              "    </tr>\n",
              "    <tr>\n",
              "      <th>odometer</th>\n",
              "      <td>389604.0</td>\n",
              "      <td>96352.396487</td>\n",
              "      <td>1.914181e+05</td>\n",
              "      <td>0.0</td>\n",
              "      <td>38093.0</td>\n",
              "      <td>85753.0</td>\n",
              "      <td>133315.0</td>\n",
              "      <td>1.000000e+07</td>\n",
              "    </tr>\n",
              "  </tbody>\n",
              "</table>\n",
              "</div>"
            ],
            "text/plain": [
              "             count          mean           std     min      25%      50%  \\\n",
              "price     389604.0  63955.275919  1.144865e+07     0.0   5995.0  13995.0   \n",
              "year      389604.0   2011.605338  8.639863e+00  1900.0   2009.0   2014.0   \n",
              "odometer  389604.0  96352.396487  1.914181e+05     0.0  38093.0  85753.0   \n",
              "\n",
              "               75%           max  \n",
              "price      26590.0  3.736929e+09  \n",
              "year        2017.0  2.022000e+03  \n",
              "odometer  133315.0  1.000000e+07  "
            ]
          },
          "execution_count": 19,
          "metadata": {},
          "output_type": "execute_result"
        }
      ],
      "source": [
        "cars_df.describe().T"
      ]
    },
    {
      "cell_type": "code",
      "execution_count": null,
      "metadata": {
        "colab": {
          "base_uri": "https://localhost:8080/",
          "height": 769
        },
        "id": "PMmRujGu8aQS",
        "outputId": "a0d25070-5644-4fb7-a0bf-eec87b318dbe"
      },
      "outputs": [
        {
          "data": {
            "text/plain": [
              "array([[<AxesSubplot:title={'center':'price'}>,\n",
              "        <AxesSubplot:title={'center':'year'}>],\n",
              "       [<AxesSubplot:title={'center':'odometer'}>, <AxesSubplot:>]],\n",
              "      dtype=object)"
            ]
          },
          "execution_count": 20,
          "metadata": {},
          "output_type": "execute_result"
        },
        {
          "data": {
            "image/png": "[encoded data removed]",
            "text/plain": [
              "<Figure size 864x576 with 4 Axes>"
            ]
          },
          "metadata": {
            "needs_background": "light"
          },
          "output_type": "display_data"
        }
      ],
      "source": [
        "cars_df[['price', 'year', 'odometer']].hist(figsize=(12, 8))"
      ]
    },
    {
      "cell_type": "markdown",
      "metadata": {
        "id": "kP24u7B00qhW"
      },
      "source": [
        "3b) Añade la columna `age`, calculada a partir de `year`, para determinar los años del vehículo y una vez obtenida, elimina la columna `year`. Genera el histograma de la nueva variable."
      ]
    },
    {
      "cell_type": "code",
      "execution_count": null,
      "metadata": {
        "colab": {
          "base_uri": "https://localhost:8080/",
          "height": 385
        },
        "id": "G62AWWYeJyBh",
        "outputId": "116b0f71-db2a-44cd-b962-df1d3a495ff7"
      },
      "outputs": [
        {
          "data": {
            "text/plain": [
              "<AxesSubplot:>"
            ]
          },
          "execution_count": 21,
          "metadata": {},
          "output_type": "execute_result"
        },
        {
          "data": {
            "image/png": "[encoded data removed]",
            "text/plain": [
              "<Figure size 432x288 with 1 Axes>"
            ]
          },
          "metadata": {
            "needs_background": "light"
          },
          "output_type": "display_data"
        }
      ],
      "source": [
        "current_year = 2024\n",
        "cars_df['age'] = current_year - cars_df['year']\n",
        "\n",
        "# Eliminar la columna year\n",
        "cars_df.drop(columns='year', inplace=True)\n",
        "\n",
        "# Generar el histograma de la nueva variable age\n",
        "cars_df['age'].hist(figsize=(6, 4), bins=30, grid=False)"
      ]
    },
    {
      "cell_type": "markdown",
      "metadata": {
        "id": "CnpwE1Fd03gE"
      },
      "source": [
        "4a) Para visualizar si hay valores atípicos, genera gráficos de box plot para las tres variables (`price, age, odometer`)"
      ]
    },
    {
      "cell_type": "markdown",
      "metadata": {
        "id": "3GR-12rr5akT"
      },
      "source": [
        "* Boxplot price"
      ]
    },
    {
      "cell_type": "code",
      "execution_count": null,
      "metadata": {
        "id": "tG2EHwD25akV",
        "outputId": "32cc1dfc-62e0-46fe-a534-127c3806cf35"
      },
      "outputs": [
        {
          "data": {
            "image/png": "[encoded data removed]",
            "text/plain": [
              "<Figure size 720x432 with 1 Axes>"
            ]
          },
          "metadata": {
            "needs_background": "light"
          },
          "output_type": "display_data"
        }
      ],
      "source": [
        "# Crear el boxplot de la columna \"price\"\n",
        "plt.figure(figsize=(10, 6))\n",
        "sns.boxplot(data=cars_df, y='price')\n",
        "\n",
        "# Personalizar el gráfico\n",
        "plt.title('Boxplot de Price')\n",
        "plt.ylabel('Price')\n",
        "plt.grid(True)\n",
        "plt.show()"
      ]
    },
    {
      "cell_type": "markdown",
      "metadata": {
        "id": "Waw9XECL5akV"
      },
      "source": [
        "* Boxplot age"
      ]
    },
    {
      "cell_type": "code",
      "execution_count": null,
      "metadata": {
        "id": "LSybSWxt5akV",
        "outputId": "a77a3c3e-75d4-4463-afe3-7e8a8578141b"
      },
      "outputs": [
        {
          "data": {
            "image/png": "[encoded data removed]",
            "text/plain": [
              "<Figure size 720x432 with 1 Axes>"
            ]
          },
          "metadata": {
            "needs_background": "light"
          },
          "output_type": "display_data"
        }
      ],
      "source": [
        "# Crear el boxplot de la columna \"age\"\n",
        "plt.figure(figsize=(10, 6))\n",
        "sns.boxplot(data=cars_df, y='age')\n",
        "\n",
        "# Personalizar el gráfico\n",
        "plt.title('Boxplot de age')\n",
        "plt.ylabel('age')\n",
        "plt.grid(True)\n",
        "plt.show()"
      ]
    },
    {
      "cell_type": "markdown",
      "metadata": {
        "id": "-w6Zb6Hk5akV"
      },
      "source": [
        "* Boxplot odometer"
      ]
    },
    {
      "cell_type": "code",
      "execution_count": null,
      "metadata": {
        "id": "SRfTPisN5akW",
        "outputId": "de52460b-81d3-4f14-fe72-e5e93cd821de"
      },
      "outputs": [
        {
          "data": {
            "image/png": "[encoded data removed]",
            "text/plain": [
              "<Figure size 720x432 with 1 Axes>"
            ]
          },
          "metadata": {
            "needs_background": "light"
          },
          "output_type": "display_data"
        }
      ],
      "source": [
        "# Crear el boxplot de la columna \"odometer\"\n",
        "plt.figure(figsize=(10, 6))\n",
        "sns.boxplot(data=cars_df, y='odometer')\n",
        "\n",
        "# Personalizar el gráfico\n",
        "plt.title('Boxplot de odometer')\n",
        "plt.ylabel('odometer')\n",
        "plt.grid(True)\n",
        "plt.show()"
      ]
    },
    {
      "cell_type": "markdown",
      "metadata": {
        "id": "cSLCXXoFDmJz"
      },
      "source": [
        "Si el conjunto de outliers es “relativamente grande” (aunque sabemos que deben andar alrededor de un 5% del conjunto total de datos), realizar una investigación particular sobre ellos que permita tomar mejores decisiones."
      ]
    },
    {
      "cell_type": "markdown",
      "metadata": {
        "id": "JFiE-daA1Ist"
      },
      "source": [
        "4b) Calcula, para cada variable, el porcentaje de sus valores atípicos y elimínalos del dataframe ¿Qué porcentaje de los registros iniciales se han eliminado en total hasta ahora?"
      ]
    },
    {
      "cell_type": "markdown",
      "metadata": {
        "id": "URJClpJs5akW"
      },
      "source": [
        "Hay dos enfoques posibles para resolver esta pregunta:\n",
        "1. Ir variable a variable: Calculando el porcentaje de valores atipicos y eliminandolos del dataframe para una variable antes de pasar a la siguiente\n",
        "2. Todas a la vez: Calcular primero los porcentajes de valores atípicos de todas las variables y después eliminarlos del dataframe"
      ]
    },
    {
      "cell_type": "markdown",
      "metadata": {
        "id": "MOMR_S0Z5akW"
      },
      "source": [
        "1. Ir variable a variable"
      ]
    },
    {
      "cell_type": "markdown",
      "metadata": {
        "id": "K7MfrIcE5akW"
      },
      "source": [
        "El resultado con este enfoque dependera del orden de aplicación en las variables, aqui haremos 2 ejercicios con las variables en orden distinto para ilustrarlo"
      ]
    },
    {
      "cell_type": "code",
      "execution_count": null,
      "metadata": {
        "id": "il9LLaVE5akW"
      },
      "outputs": [],
      "source": [
        "num_records=num_observations"
      ]
    },
    {
      "cell_type": "code",
      "execution_count": null,
      "metadata": {
        "id": "zOip4rnY5akW",
        "outputId": "aeca98ea-a2ee-455f-f794-63db6423db11"
      },
      "outputs": [
        {
          "data": {
            "text/plain": [
              "389604"
            ]
          },
          "execution_count": 26,
          "metadata": {},
          "output_type": "execute_result"
        }
      ],
      "source": [
        "num_records_end"
      ]
    },
    {
      "cell_type": "code",
      "execution_count": null,
      "metadata": {
        "id": "YxXGlP_65akW"
      },
      "outputs": [],
      "source": [
        "# Calcula el IQR y los outliers y después los elimina del dataframe\n",
        "def calculate_iqr_outliers(df, column, num_records_end, num_records):\n",
        "    percentile_25 = df[column].quantile(0.25)\n",
        "    percentile_75 = df[column].quantile(0.75)\n",
        "    iqr = percentile_75 - percentile_25\n",
        "    upper_limit = percentile_75 + 1.5 * iqr\n",
        "    lower_limit = percentile_25 - 1.5 * iqr\n",
        "\n",
        "    IQR_outliers = df[(df[column] < lower_limit) | (df[column] > upper_limit)]\n",
        "    outliers_count = len(IQR_outliers)\n",
        "    df=df[(df[column] >= lower_limit) & (df[column] <= upper_limit)]\n",
        "\n",
        "    print(f\"El porcentaje de outliers (vs dataframe tras limpieza en ejercicios previos) en {column} es: {(outliers_count/num_records_end)*100:.3f}%\")\n",
        "    print(f\"El porcentaje de outliers (vs inicial) en {column} es: {(outliers_count/num_records)*100:.3f}%\")\n",
        "\n",
        "    return df"
      ]
    },
    {
      "cell_type": "markdown",
      "metadata": {
        "id": "-hDplPcl5akW"
      },
      "source": [
        "* Aplicamos en el orden: price, age y odometer"
      ]
    },
    {
      "cell_type": "code",
      "execution_count": null,
      "metadata": {
        "id": "i_hDdxgs5akW"
      },
      "outputs": [],
      "source": [
        "cars_df_copy=cars_df"
      ]
    },
    {
      "cell_type": "code",
      "execution_count": null,
      "metadata": {
        "id": "ecjnh1Jb5akW",
        "outputId": "6233a500-6ca9-444c-9199-edf84d45682a"
      },
      "outputs": [
        {
          "name": "stdout",
          "output_type": "stream",
          "text": [
            "El porcentaje de outliers (vs dataframe tras limpieza en ejercicios previos) en price es: 1.708%\n",
            "El porcentaje de outliers (vs inicial) en price es: 1.559%\n",
            "El porcentaje de outliers (vs dataframe tras limpieza en ejercicios previos) en age es: 3.016%\n",
            "El porcentaje de outliers (vs inicial) en age es: 2.753%\n",
            "El porcentaje de outliers (vs dataframe tras limpieza en ejercicios previos) en odometer es: 0.709%\n",
            "El porcentaje de outliers (vs inicial) en odometer es: 0.647%\n"
          ]
        },
        {
          "data": {
            "text/plain": [
              "'Porcentaje total de eliminados de los registros iniciales 13.692 %'"
            ]
          },
          "execution_count": 29,
          "metadata": {},
          "output_type": "execute_result"
        }
      ],
      "source": [
        "# Aplicación de la función para cada variable\n",
        "cars_df_copy=calculate_iqr_outliers(cars_df_copy, 'price', num_records_end, num_records)\n",
        "cars_df_copy=calculate_iqr_outliers(cars_df_copy, 'age', num_records_end, num_records)\n",
        "cars_df_copy=calculate_iqr_outliers(cars_df_copy, 'odometer', num_records_end, num_records)\n",
        "\n",
        "\n",
        "\n",
        "f\"Porcentaje total de eliminados de los registros iniciales {(1-cars_df_copy.shape[0]/num_records)*100:.3f} %\""
      ]
    },
    {
      "cell_type": "code",
      "execution_count": null,
      "metadata": {
        "id": "ar2DThqi5akW"
      },
      "outputs": [],
      "source": [
        "cars_df_copy_test=cars_df_copy"
      ]
    },
    {
      "cell_type": "markdown",
      "metadata": {
        "id": "N9Q3KW_P5akW"
      },
      "source": [
        "* Aplicamos en el orden: price, odometer y age"
      ]
    },
    {
      "cell_type": "code",
      "execution_count": null,
      "metadata": {
        "id": "-XVQumdB5akX"
      },
      "outputs": [],
      "source": [
        "cars_df_copy=cars_df"
      ]
    },
    {
      "cell_type": "code",
      "execution_count": null,
      "metadata": {
        "id": "bR0Mz1oI5akX",
        "outputId": "5e6007d0-ab4f-430f-da93-24b78e32f525"
      },
      "outputs": [
        {
          "name": "stdout",
          "output_type": "stream",
          "text": [
            "El porcentaje de outliers (vs dataframe tras limpieza en ejercicios previos) en price es: 1.708%\n",
            "El porcentaje de outliers (vs inicial) en price es: 1.559%\n",
            "El porcentaje de outliers (vs dataframe tras limpieza en ejercicios previos) en odometer es: 0.817%\n",
            "El porcentaje de outliers (vs inicial) en odometer es: 0.746%\n",
            "El porcentaje de outliers (vs dataframe tras limpieza en ejercicios previos) en age es: 3.443%\n",
            "El porcentaje de outliers (vs inicial) en age es: 3.143%\n"
          ]
        },
        {
          "data": {
            "text/plain": [
              "'Porcentaje total de eliminados de los registros iniciales 14.180 %'"
            ]
          },
          "execution_count": 32,
          "metadata": {},
          "output_type": "execute_result"
        }
      ],
      "source": [
        "# Aplicación de la función para cada variable\n",
        "cars_df_copy=calculate_iqr_outliers(cars_df_copy, 'price', num_records_end, num_records)\n",
        "cars_df_copy=calculate_iqr_outliers(cars_df_copy, 'odometer', num_records_end, num_records)\n",
        "cars_df_copy=calculate_iqr_outliers(cars_df_copy, 'age', num_records_end, num_records)\n",
        "\n",
        "\n",
        "f\"Porcentaje total de eliminados de los registros iniciales {(1-cars_df_copy.shape[0]/num_records)*100:.3f} %\"\n"
      ]
    },
    {
      "cell_type": "markdown",
      "metadata": {
        "id": "PWKAOWqm5akX"
      },
      "source": [
        "2. Todas a la vez"
      ]
    },
    {
      "cell_type": "markdown",
      "metadata": {
        "id": "x_S-s6Ts5akX"
      },
      "source": [
        "Primero calculamos los outliers para las 3 variables para después eliminarlos en el dataframe cars_df"
      ]
    },
    {
      "cell_type": "code",
      "execution_count": null,
      "metadata": {
        "id": "Ow_2POuh5akX"
      },
      "outputs": [],
      "source": [
        "cars_df_copy=cars_df"
      ]
    },
    {
      "cell_type": "markdown",
      "metadata": {
        "id": "rggU5c4U5akX"
      },
      "source": [
        "* Outliers Price"
      ]
    },
    {
      "cell_type": "code",
      "execution_count": null,
      "metadata": {
        "id": "ObtUojoH5akX",
        "outputId": "2e51a351-b657-4abc-c17c-d22089251512"
      },
      "outputs": [
        {
          "name": "stdout",
          "output_type": "stream",
          "text": [
            "El porcentaje de outliers (vs dataframe tras limipieza ejercicios previos) en price es:1.708%\n",
            "El porcentaje de outliers (vs inicial) en price es:1.559%\n"
          ]
        }
      ],
      "source": [
        "percentile_25 = cars_df['price'].quantile(0.25)\n",
        "percentile_75 = cars_df['price'].quantile(0.75)\n",
        "iqr = percentile_75 - percentile_25\n",
        "upper_limit_price = percentile_75 + 1.5 * iqr\n",
        "lower_limit_price = percentile_25 - 1.5 * iqr\n",
        "IQR_outliers_price= cars_df[(cars_df['price'] < lower_limit_price) | (cars_df['price'] > upper_limit_price)]\n",
        "outliers_price=len(IQR_outliers_price)\n",
        "\n",
        "print(f\"El porcentaje de outliers (vs dataframe tras limipieza ejercicios previos) en price es:{(outliers_price/num_records_end)*100:.3f}%\")\n",
        "print(f\"El porcentaje de outliers (vs inicial) en price es:{(outliers_price/num_records)*100:.3f}%\")"
      ]
    },
    {
      "cell_type": "markdown",
      "metadata": {
        "id": "2MofXQZY5akX"
      },
      "source": [
        "* Outliers age"
      ]
    },
    {
      "cell_type": "code",
      "execution_count": null,
      "metadata": {
        "id": "Y5Mxf4qt5akX",
        "outputId": "2d5868d2-2cf1-4c62-af46-ac9deffc2867"
      },
      "outputs": [
        {
          "name": "stdout",
          "output_type": "stream",
          "text": [
            "El porcentaje de outliers (vs dataframe tras limipieza ejercicios previos) en age es: 3.647%)\n",
            "El porcentaje de outliers (vs inicial) en age es: 3.329%\n"
          ]
        }
      ],
      "source": [
        "percentile_25 = cars_df['age'].quantile(0.25)\n",
        "percentile_75 = cars_df['age'].quantile(0.75)\n",
        "iqr = percentile_75 - percentile_25\n",
        "upper_limit_age = percentile_75 + 1.5 * iqr\n",
        "lower_limit_age = percentile_25 - 1.5 * iqr\n",
        "IQR_outliers_age= cars_df[(cars_df['age'] < lower_limit_age) | (cars_df['age'] > upper_limit_age)]\n",
        "outliers_age=len(IQR_outliers_age)\n",
        "\n",
        "print(f\"El porcentaje de outliers (vs dataframe tras limipieza ejercicios previos) en age es: {(outliers_age/num_records_end)*100:.3f}%)\")\n",
        "print(f\"El porcentaje de outliers (vs inicial) en age es: {(outliers_age/num_records)*100:.3f}%\")"
      ]
    },
    {
      "cell_type": "markdown",
      "metadata": {
        "id": "p19Ya9D35akX"
      },
      "source": [
        "* Outliers odometer"
      ]
    },
    {
      "cell_type": "code",
      "execution_count": null,
      "metadata": {
        "id": "8wYpYivW5akX",
        "outputId": "c6bca55c-a28c-4faf-82c9-dcc91c563613"
      },
      "outputs": [
        {
          "name": "stdout",
          "output_type": "stream",
          "text": [
            "El porcentaje de outliers (vs dataframe tras limipieza ejercicios previos) en odometer es:0.828%)\n",
            "El porcentaje de outliers (vs inicial) en odometer es:0.756%\n"
          ]
        }
      ],
      "source": [
        "percentile_25 = cars_df['odometer'].quantile(0.25)\n",
        "percentile_75 = cars_df['odometer'].quantile(0.75)\n",
        "iqr = percentile_75 - percentile_25\n",
        "upper_limit_odometer = percentile_75 + 1.5 * iqr\n",
        "lower_limit_odometer = percentile_25 - 1.5 * iqr\n",
        "IQR_outliers_odometer= cars_df[(cars_df['odometer'] < lower_limit_odometer) | (cars_df['odometer'] > upper_limit_odometer)]\n",
        "outliers_odometer=len(IQR_outliers_odometer)\n",
        "\n",
        "print(f\"El porcentaje de outliers (vs dataframe tras limipieza ejercicios previos) en odometer es:{(outliers_odometer/num_records_end)*100:.3f}%)\")\n",
        "print(f\"El porcentaje de outliers (vs inicial) en odometer es:{(outliers_odometer/num_records)*100:.3f}%\")"
      ]
    },
    {
      "cell_type": "code",
      "execution_count": null,
      "metadata": {
        "id": "VGWZ6xSX5akX"
      },
      "outputs": [],
      "source": [
        "#Eliminamos outliers price\n",
        "cars_df=cars_df[(cars_df['price'] >= lower_limit_price) & (cars_df['price'] <= upper_limit_price)]\n",
        "#Eliminamos outliers age\n",
        "cars_df=cars_df[(cars_df['age'] >= lower_limit_age) & (cars_df['age'] <= upper_limit_age)]\n",
        "#Eliminamos outliers odometer\n",
        "cars_df=cars_df[(cars_df['odometer'] >= lower_limit_odometer) & (cars_df['odometer'] <= upper_limit_odometer)]"
      ]
    },
    {
      "cell_type": "code",
      "execution_count": null,
      "metadata": {
        "id": "YnKuLX2S5akX"
      },
      "outputs": [],
      "source": [
        "num_records_2nd_clean=len(cars_df) #Registros tras quitar outliers"
      ]
    },
    {
      "cell_type": "code",
      "execution_count": null,
      "metadata": {
        "id": "bTiXCgJK5akY",
        "outputId": "9c185b05-bb33-486d-81f7-95706485756a"
      },
      "outputs": [
        {
          "data": {
            "text/plain": [
              "366328"
            ]
          },
          "execution_count": 39,
          "metadata": {},
          "output_type": "execute_result"
        }
      ],
      "source": [
        "num_records_2nd_clean"
      ]
    },
    {
      "cell_type": "code",
      "execution_count": null,
      "metadata": {
        "id": "binKlhwm5akY",
        "outputId": "816d0d19-1c5c-41c7-a546-166cb67e352e"
      },
      "outputs": [
        {
          "data": {
            "text/plain": [
              "426880"
            ]
          },
          "execution_count": 40,
          "metadata": {},
          "output_type": "execute_result"
        }
      ],
      "source": [
        "num_records"
      ]
    },
    {
      "cell_type": "code",
      "execution_count": null,
      "metadata": {
        "id": "KOMqa7gP5akY",
        "outputId": "8c5f253b-3b66-4cb5-bd81-fa5724370d6f"
      },
      "outputs": [
        {
          "name": "stdout",
          "output_type": "stream",
          "text": [
            "Porcentaje total de eliminados de los registros iniciales: 14.185%\n"
          ]
        }
      ],
      "source": [
        "print(f\"Porcentaje total de eliminados de los registros iniciales: {(1-(num_records_2nd_clean/num_records))*100:.3f}%\")"
      ]
    },
    {
      "cell_type": "markdown",
      "metadata": {
        "id": "vi4MOnby5akY"
      },
      "source": [
        "Sin importar cual de los enfoques descritos en este inciso se tome, resultará válido y solo cuestión de interpretación, nosotros nos quedaremos con los valores descritos en el primero que abordamos y será lo que consideremos en el dataframe `cars_df` para los siguientes ejercicios"
      ]
    },
    {
      "cell_type": "code",
      "execution_count": null,
      "metadata": {
        "id": "P9M9gJtI5akY"
      },
      "outputs": [],
      "source": [
        "cars_df=cars_df_copy_test"
      ]
    },
    {
      "cell_type": "markdown",
      "metadata": {
        "id": "dwCOyowi1XdX"
      },
      "source": [
        "4c) Dibuja nuevamente los histogramas para observar claramente el sesgo de las variables tras la eliminación de los outliers."
      ]
    },
    {
      "cell_type": "code",
      "execution_count": null,
      "metadata": {
        "colab": {
          "base_uri": "https://localhost:8080/",
          "height": 751
        },
        "id": "0qcrUjHpUJyZ",
        "outputId": "2ef205d1-86fc-4d46-be6f-e8cda5164d42"
      },
      "outputs": [
        {
          "data": {
            "text/plain": [
              "array([[<AxesSubplot:title={'center':'price'}>,\n",
              "        <AxesSubplot:title={'center':'age'}>],\n",
              "       [<AxesSubplot:title={'center':'odometer'}>, <AxesSubplot:>]],\n",
              "      dtype=object)"
            ]
          },
          "execution_count": 43,
          "metadata": {},
          "output_type": "execute_result"
        },
        {
          "data": {
            "image/png": "[encoded data removed]",
            "text/plain": [
              "<Figure size 864x576 with 4 Axes>"
            ]
          },
          "metadata": {
            "needs_background": "light"
          },
          "output_type": "display_data"
        }
      ],
      "source": [
        "cars_df[['price', 'age', 'odometer']].hist(figsize=(12, 8), bins=10, grid=False)"
      ]
    },
    {
      "cell_type": "markdown",
      "metadata": {
        "id": "hzzT7f53oBE3"
      },
      "source": [
        "# **Parte 2**. Ingeniería de características"
      ]
    },
    {
      "cell_type": "markdown",
      "metadata": {
        "id": "qq6Y5lvS1lNA"
      },
      "source": [
        "## Transformando variables numéricas"
      ]
    },
    {
      "cell_type": "markdown",
      "metadata": {
        "id": "EryjdcZZebJQ"
      },
      "source": [
        "La distribución de las variables determinará que método usar y en qué orden. Por ejemplo, en variables sesgadas se debe realizar primero la transformación  y luego el escalamiento, ya que el efecto deseado es \"desinclinar\" las distribuciones del eje y ese efecto se maximiza cuando aplica en el rango completo en comparación con aplicarlo en variables con una desviación estándar unitaria (por z-score) o variables en el rango [0,1] (por Min-Max).\n",
        "\n",
        "Aplicar es escalamiento antes comprimiría la mayoría de los datos en un rango estrecho. Entonces se debe iniciar con transformar la característica en Gaussiana y luego escalarla."
      ]
    },
    {
      "cell_type": "markdown",
      "metadata": {
        "id": "KWiPJ9Mr37pE"
      },
      "source": [
        "5a) Genera gráficos Q-Q de las variables `price, age, odometer` para observar las diferencias entre sus distribuciones y la normal.\n"
      ]
    },
    {
      "cell_type": "code",
      "execution_count": null,
      "metadata": {
        "colab": {
          "base_uri": "https://localhost:8080/",
          "height": 483
        },
        "id": "JK6fCovqi_8b",
        "outputId": "cc9b1dbb-f2e6-4bdd-d4b9-a25675c09f26"
      },
      "outputs": [
        {
          "data": {
            "image/png": "[encoded data removed]",
            "text/plain": [
              "<Figure size 1296x432 with 3 Axes>"
            ]
          },
          "metadata": {
            "needs_background": "light"
          },
          "output_type": "display_data"
        }
      ],
      "source": [
        "fig, axes = plt.subplots(1, 3, figsize=(18, 6))\n",
        "\n",
        "# Q-Q plot de 'price'\n",
        "stats.probplot(cars_df['price'], dist=\"norm\", plot=axes[0])\n",
        "axes[0].set_title('Q-Q plot de Price')\n",
        "\n",
        "# Q-Q plot de 'age'\n",
        "stats.probplot(cars_df['age'], dist=\"norm\", plot=axes[1])\n",
        "axes[1].set_title('Q-Q plot de Age')\n",
        "\n",
        "# Q-Q plot de 'odometer'\n",
        "stats.probplot(cars_df['odometer'], dist=\"norm\", plot=axes[2])\n",
        "axes[2].set_title('Q-Q plot de Odometer')\n",
        "\n",
        "plt.tight_layout()\n",
        "plt.show()"
      ]
    },
    {
      "cell_type": "markdown",
      "metadata": {
        "id": "0iFAddRP9d3L"
      },
      "source": [
        "Las transformaciones *Box-Cox* y *Yeo-Johnson* son generalizaciones, pues incluyen casos especiales de transformaciones: logarítmica (`λ = 0`), recíproca (`λ = -1`),  raíz cuadrada (`λ = 0.5`) y más exponentes. En *Box-Cox* se evalúan varios valores de `λ` y se selecciona aquel que arroja la mejor transformación\n",
        "\n",
        "La transformación de *Yeo-Johnson* es una extensión de la transformación de *Box-Cox* que ya no está restringida a valores positivos. En otras palabras, la transformación de *Yeo-Johnson* se puede utilizar en variables con valores cero y negativos, así como valores positivos. Cuando la variable solo tiene valores positivos, la transformación de *Yeo-Johnson* es como la transformación de *Box-Cox* de la variable más uno.\n",
        "\n",
        "En este caso, como las variables `price` y `odometer` tienen valores de 0, utilizaremos *Yeo-Johnson*.\n",
        "\n",
        "Recuerda que en `PowerTransformer()` el parámetro `standardize` por defecto es `True`. Con esto, después de hacer la transformación, el resultado se escala con *Z-score*, haciendo que la media sea 0 y la desviación estándar 1. Como en el ejercicio 6 ocuparás Min-Max para escalar, haz `standardize=False` para omitir el escalamiento en esta fase."
      ]
    },
    {
      "cell_type": "markdown",
      "metadata": {
        "id": "c2Ku4FXx4JRB"
      },
      "source": [
        "5b) Aplica la transformación Yeo-Johnson para reducir el sesgo en estas variables. Coloca el resultado en un dataframe denominado `transf_df` que contenga sólo las variables transformadas."
      ]
    },
    {
      "cell_type": "code",
      "execution_count": null,
      "metadata": {
        "id": "h3lerMMowNwp"
      },
      "outputs": [],
      "source": [
        "from sklearn.preprocessing import PowerTransformer\n",
        "yeo_transformer = PowerTransformer(method='yeo-johnson', standardize=False)\n",
        "variables_a_transformar = ['price', 'age', 'odometer']\n",
        "\n",
        "# Transformar las variables seleccionadas\n",
        "transf_df = pd.DataFrame(yeo_transformer.fit_transform(cars_df[variables_a_transformar]), columns=variables_a_transformar)"
      ]
    },
    {
      "cell_type": "markdown",
      "metadata": {
        "id": "sWTYPdle6b0y"
      },
      "source": [
        "5c) Dibuja nuevamente los gráficos Q-Q y los histogramas para observar el efecto de la transformación."
      ]
    },
    {
      "cell_type": "code",
      "execution_count": null,
      "metadata": {
        "colab": {
          "base_uri": "https://localhost:8080/",
          "height": 1000
        },
        "id": "joI93I1Jmuo5",
        "outputId": "7c5bcfef-3520-40b3-91fe-37119fd382dd"
      },
      "outputs": [
        {
          "data": {
            "image/png": "[encoded data removed]",
            "text/plain": [
              "<Figure size 1296x432 with 3 Axes>"
            ]
          },
          "metadata": {
            "needs_background": "light"
          },
          "output_type": "display_data"
        },
        {
          "data": {
            "image/png": "[encoded data removed]",
            "text/plain": [
              "<Figure size 864x576 with 4 Axes>"
            ]
          },
          "metadata": {
            "needs_background": "light"
          },
          "output_type": "display_data"
        },
        {
          "data": {
            "image/png": "[encoded data removed]",
            "text/plain": [
              "<Figure size 864x576 with 4 Axes>"
            ]
          },
          "metadata": {
            "needs_background": "light"
          },
          "output_type": "display_data"
        }
      ],
      "source": [
        "fig, axes = plt.subplots(1, 3, figsize=(18, 6))\n",
        "\n",
        "# Q-Q plot de 'price' transformado\n",
        "stats.probplot(transf_df['price'], dist=\"norm\", plot=axes[0])\n",
        "axes[0].set_title('Q-Q plot de Price (transformado)')\n",
        "\n",
        "# Q-Q plot de 'age' transformado\n",
        "stats.probplot(transf_df['age'], dist=\"norm\", plot=axes[1])\n",
        "axes[1].set_title('Q-Q plot de Age (transformado)')\n",
        "\n",
        "# Q-Q plot de 'odometer' transformado\n",
        "stats.probplot(transf_df['odometer'], dist=\"norm\", plot=axes[2])\n",
        "axes[2].set_title('Q-Q plot de Odometer (transformado)')\n",
        "\n",
        "plt.tight_layout()\n",
        "plt.show()\n",
        "\n",
        "# Histogramas\n",
        "# Histograma de las variables originales\n",
        "cars_df[['price', 'age', 'odometer']].hist(figsize=(12, 8), bins=30, grid=False)\n",
        "plt.suptitle('Histogramas de Price, Age y Odometer (Original)', fontsize=16)\n",
        "plt.tight_layout()\n",
        "plt.show()\n",
        "\n",
        "# Histograma de las variables transformadas\n",
        "transf_df[['price', 'age', 'odometer']].hist(figsize=(12, 8), bins=30, grid=False)\n",
        "plt.suptitle('Histogramas de Price, Age y Odometer (Transformado)', fontsize=16)\n",
        "plt.tight_layout()\n",
        "plt.show()"
      ]
    },
    {
      "cell_type": "markdown",
      "metadata": {
        "id": "ZCZTx1EJ6hYY"
      },
      "source": [
        "## Escalando variables numéricas"
      ]
    },
    {
      "cell_type": "markdown",
      "metadata": {
        "id": "9uCmCSTs6t88"
      },
      "source": [
        "6a) Como las tres variables poseen diferentes escalas, aplica el método Min-Max (al dataframe obtenido: `transf_df`) para que queden en el rango fijo [0 a 1]. Coloca el resultado en un dataframe denominado `minmax_df`.\n"
      ]
    },
    {
      "cell_type": "code",
      "execution_count": null,
      "metadata": {
        "colab": {
          "base_uri": "https://localhost:8080/"
        },
        "id": "0wiPtlcaYaCd",
        "outputId": "27a44f73-b1ae-4038-ca8a-dbbc4415c32a"
      },
      "outputs": [
        {
          "name": "stdout",
          "output_type": "stream",
          "text": [
            "Rango de las variables después del escalamiento Min-Max:\n",
            "               price            age       odometer\n",
            "count  368433.000000  368433.000000  368433.000000\n",
            "mean        0.522044       0.573900       0.516409\n",
            "std         0.244451       0.188187       0.212465\n",
            "min         0.000000       0.000000       0.000000\n",
            "25%         0.377517       0.426949       0.353861\n",
            "50%         0.545020       0.565257       0.540242\n",
            "75%         0.711531       0.727794       0.677899\n",
            "max         1.000000       1.000000       1.000000\n"
          ]
        }
      ],
      "source": [
        "from sklearn.preprocessing import MinMaxScaler\n",
        "scaler = MinMaxScaler()\n",
        "minmax_df = pd.DataFrame(scaler.fit_transform(transf_df), columns=transf_df.columns)\n",
        "print(\"Rango de las variables después del escalamiento Min-Max:\")\n",
        "print(minmax_df.describe())"
      ]
    },
    {
      "cell_type": "markdown",
      "metadata": {
        "id": "-qnZqBV97GWY"
      },
      "source": [
        "6b) Dibuja nuevamente los histogramas para verificar que el escalamiento no cambia la distribución."
      ]
    },
    {
      "cell_type": "code",
      "execution_count": null,
      "metadata": {
        "colab": {
          "base_uri": "https://localhost:8080/",
          "height": 805
        },
        "id": "0GV-HuS4XawC",
        "outputId": "7a2315c5-1e64-47b0-c9fc-d55da0bb22fd"
      },
      "outputs": [
        {
          "data": {
            "image/png": "[encoded data removed]",
            "text/plain": [
              "<Figure size 864x576 with 4 Axes>"
            ]
          },
          "metadata": {
            "needs_background": "light"
          },
          "output_type": "display_data"
        }
      ],
      "source": [
        "minmax_df[['price', 'age', 'odometer']].hist(figsize=(12, 8), bins=30, grid=False)\n",
        "plt.suptitle('Histogramas de Price, Age y Odometer (Escalado con Min-Max)', fontsize=16)\n",
        "plt.tight_layout()\n",
        "plt.show()"
      ]
    },
    {
      "cell_type": "markdown",
      "metadata": {
        "id": "F7fnBt2EpH8f"
      },
      "source": [
        "## Codificando variables categóricas"
      ]
    },
    {
      "cell_type": "markdown",
      "metadata": {
        "id": "L65WLdE67P2g"
      },
      "source": [
        "\n",
        "7a) Utiliza el método `describe()` para obtener el resumen de las estadísticas descriptivas en las variables categóricas."
      ]
    },
    {
      "cell_type": "code",
      "execution_count": null,
      "metadata": {
        "colab": {
          "base_uri": "https://localhost:8080/",
          "height": 175
        },
        "id": "Brq9wSlkC0wA",
        "outputId": "978cf065-abf3-4f19-e04e-3f602bdd9e11"
      },
      "outputs": [
        {
          "data": {
            "text/html": [
              "<div>\n",
              "<style scoped>\n",
              "    .dataframe tbody tr th:only-of-type {\n",
              "        vertical-align: middle;\n",
              "    }\n",
              "\n",
              "    .dataframe tbody tr th {\n",
              "        vertical-align: top;\n",
              "    }\n",
              "\n",
              "    .dataframe thead th {\n",
              "        text-align: right;\n",
              "    }\n",
              "</style>\n",
              "<table border=\"1\" class=\"dataframe\">\n",
              "  <thead>\n",
              "    <tr style=\"text-align: right;\">\n",
              "      <th></th>\n",
              "      <th>region</th>\n",
              "      <th>region_url</th>\n",
              "      <th>manufacturer</th>\n",
              "      <th>model</th>\n",
              "      <th>fuel</th>\n",
              "      <th>title_status</th>\n",
              "      <th>transmission</th>\n",
              "      <th>type</th>\n",
              "      <th>state</th>\n",
              "    </tr>\n",
              "  </thead>\n",
              "  <tbody>\n",
              "    <tr>\n",
              "      <th>count</th>\n",
              "      <td>368433</td>\n",
              "      <td>368433</td>\n",
              "      <td>368433</td>\n",
              "      <td>368433</td>\n",
              "      <td>368433</td>\n",
              "      <td>368433</td>\n",
              "      <td>368433</td>\n",
              "      <td>368433</td>\n",
              "      <td>368433</td>\n",
              "    </tr>\n",
              "    <tr>\n",
              "      <th>unique</th>\n",
              "      <td>404</td>\n",
              "      <td>413</td>\n",
              "      <td>40</td>\n",
              "      <td>19314</td>\n",
              "      <td>5</td>\n",
              "      <td>6</td>\n",
              "      <td>3</td>\n",
              "      <td>13</td>\n",
              "      <td>51</td>\n",
              "    </tr>\n",
              "    <tr>\n",
              "      <th>top</th>\n",
              "      <td>columbus</td>\n",
              "      <td>https://grandrapids.craigslist.org</td>\n",
              "      <td>ford</td>\n",
              "      <td>f-150</td>\n",
              "      <td>gas</td>\n",
              "      <td>clean</td>\n",
              "      <td>automatic</td>\n",
              "      <td>sedan</td>\n",
              "      <td>ca</td>\n",
              "    </tr>\n",
              "    <tr>\n",
              "      <th>freq</th>\n",
              "      <td>3201</td>\n",
              "      <td>2745</td>\n",
              "      <td>62162</td>\n",
              "      <td>7477</td>\n",
              "      <td>313944</td>\n",
              "      <td>356757</td>\n",
              "      <td>293338</td>\n",
              "      <td>155206</td>\n",
              "      <td>42333</td>\n",
              "    </tr>\n",
              "  </tbody>\n",
              "</table>\n",
              "</div>"
            ],
            "text/plain": [
              "          region                          region_url manufacturer   model  \\\n",
              "count     368433                              368433       368433  368433   \n",
              "unique       404                                 413           40   19314   \n",
              "top     columbus  https://grandrapids.craigslist.org         ford   f-150   \n",
              "freq        3201                                2745        62162    7477   \n",
              "\n",
              "          fuel title_status transmission    type   state  \n",
              "count   368433       368433       368433  368433  368433  \n",
              "unique       5            6            3      13      51  \n",
              "top        gas        clean    automatic   sedan      ca  \n",
              "freq    313944       356757       293338  155206   42333  "
            ]
          },
          "execution_count": 49,
          "metadata": {},
          "output_type": "execute_result"
        }
      ],
      "source": [
        "cars_df.describe(include='object')"
      ]
    },
    {
      "cell_type": "markdown",
      "metadata": {
        "id": "xFos2wk37ZPN"
      },
      "source": [
        "7b) Según la cardinalidad observada, separa en dos listas (`highly_cardinal_variables` y `few_cardinal_variables`) los nombres de las variables con alta cardinalidad y baja cardinalidad respectivamente. Una variable es considerada de alta cardinalidad cuando tiene cientos de valores únicos."
      ]
    },
    {
      "cell_type": "code",
      "execution_count": null,
      "metadata": {
        "colab": {
          "base_uri": "https://localhost:8080/"
        },
        "id": "KQrvdvce7sM7",
        "outputId": "7bf7618a-5ef6-4b1d-d89f-007e8faffe35"
      },
      "outputs": [
        {
          "name": "stdout",
          "output_type": "stream",
          "text": [
            "['region', 'region_url', 'model']\n",
            "['manufacturer', 'fuel', 'title_status', 'transmission', 'type', 'state']\n"
          ]
        }
      ],
      "source": [
        "highly_cardinal_variables = []\n",
        "few_cardinal_variables = []\n",
        "# Separar las variables en función de su cardinalidad\n",
        "for col in cars_df.select_dtypes(include='object'):\n",
        "    unique_values = cars_df[col].nunique()  # Número de valores únicos\n",
        "    if unique_values >= 100:\n",
        "        highly_cardinal_variables.append(col)\n",
        "    else:\n",
        "        few_cardinal_variables.append(col)\n",
        "print(highly_cardinal_variables)\n",
        "print(few_cardinal_variables)"
      ]
    },
    {
      "cell_type": "markdown",
      "metadata": {
        "id": "lpvDGeOe7l0l"
      },
      "source": [
        "7c) Visualiza en gráficos de barras la frecuencias de las categorías para las variables con baja cardinalidad (en `few_cardinal_variables`)"
      ]
    },
    {
      "cell_type": "code",
      "execution_count": null,
      "metadata": {
        "colab": {
          "base_uri": "https://localhost:8080/",
          "height": 1000
        },
        "id": "xsvq3cIO8nwL",
        "outputId": "8d68d9ca-8d3c-41bc-f4e9-ee5fdb697778"
      },
      "outputs": [
        {
          "data": {
            "image/png": "[encoded data removed]",
            "text/plain": [
              "<Figure size 720x432 with 1 Axes>"
            ]
          },
          "metadata": {
            "needs_background": "light"
          },
          "output_type": "display_data"
        },
        {
          "data": {
            "image/png": "[encoded data removed]",
            "text/plain": [
              "<Figure size 720x432 with 1 Axes>"
            ]
          },
          "metadata": {
            "needs_background": "light"
          },
          "output_type": "display_data"
        },
        {
          "data": {
            "image/png": "[encoded data removed]",
            "text/plain": [
              "<Figure size 720x432 with 1 Axes>"
            ]
          },
          "metadata": {
            "needs_background": "light"
          },
          "output_type": "display_data"
        },
        {
          "data": {
            "image/png": "[encoded data removed]",
            "text/plain": [
              "<Figure size 720x432 with 1 Axes>"
            ]
          },
          "metadata": {
            "needs_background": "light"
          },
          "output_type": "display_data"
        },
        {
          "data": {
            "image/png": "[encoded data removed]",
            "text/plain": [
              "<Figure size 720x432 with 1 Axes>"
            ]
          },
          "metadata": {
            "needs_background": "light"
          },
          "output_type": "display_data"
        },
        {
          "data": {
            "image/png": "[encoded data removed]",
            "text/plain": [
              "<Figure size 720x432 with 1 Axes>"
            ]
          },
          "metadata": {
            "needs_background": "light"
          },
          "output_type": "display_data"
        }
      ],
      "source": [
        "for col in few_cardinal_variables:\n",
        "    plt.figure(figsize=(10, 6))\n",
        "    cars_df[col].value_counts().plot(kind='bar')\n",
        "    plt.title(f'Frecuencia de categorías en {col}')\n",
        "    plt.xlabel('Categorías')\n",
        "    plt.ylabel('Frecuencia')\n",
        "    plt.tight_layout()\n",
        "    plt.show()"
      ]
    },
    {
      "cell_type": "markdown",
      "metadata": {
        "id": "Oh_NXLM57xm3"
      },
      "source": [
        "8. Aplica codificación *one-hot* a las variables en `few_cardinal_variables`, borrando la primera categoría (`drop='first'`). Coloca el resultado en un dataframe denominado `onehot_df`."
      ]
    },
    {
      "cell_type": "code",
      "execution_count": null,
      "metadata": {
        "colab": {
          "base_uri": "https://localhost:8080/"
        },
        "id": "1nKwY3g2qzCZ",
        "outputId": "6703be82-0eb9-46c6-bfd8-6003b94b9054"
      },
      "outputs": [
        {
          "name": "stdout",
          "output_type": "stream",
          "text": [
            "DataFrame con codificación one-hot (few_cardinal_variables):\n"
          ]
        }
      ],
      "source": [
        "onehot_df = pd.get_dummies(cars_df[few_cardinal_variables], drop_first=True)\n",
        "\n",
        "# Verificar el resultado de la codificación one-hot\n",
        "print(\"DataFrame con codificación one-hot (few_cardinal_variables):\")\n"
      ]
    },
    {
      "cell_type": "code",
      "execution_count": null,
      "metadata": {
        "id": "1Lp1M_Kk5aka",
        "outputId": "29a12d55-b9fe-49c9-bcd0-c9c28b30addc"
      },
      "outputs": [
        {
          "data": {
            "text/html": [
              "<div>\n",
              "<style scoped>\n",
              "    .dataframe tbody tr th:only-of-type {\n",
              "        vertical-align: middle;\n",
              "    }\n",
              "\n",
              "    .dataframe tbody tr th {\n",
              "        vertical-align: top;\n",
              "    }\n",
              "\n",
              "    .dataframe thead th {\n",
              "        text-align: right;\n",
              "    }\n",
              "</style>\n",
              "<table border=\"1\" class=\"dataframe\">\n",
              "  <thead>\n",
              "    <tr style=\"text-align: right;\">\n",
              "      <th></th>\n",
              "      <th>manufacturer_alfa-romeo</th>\n",
              "      <th>manufacturer_aston-martin</th>\n",
              "      <th>manufacturer_audi</th>\n",
              "      <th>manufacturer_bmw</th>\n",
              "      <th>manufacturer_buick</th>\n",
              "      <th>manufacturer_cadillac</th>\n",
              "      <th>manufacturer_chevrolet</th>\n",
              "      <th>manufacturer_chrysler</th>\n",
              "      <th>manufacturer_dodge</th>\n",
              "      <th>manufacturer_ferrari</th>\n",
              "      <th>manufacturer_fiat</th>\n",
              "      <th>manufacturer_ford</th>\n",
              "      <th>manufacturer_gmc</th>\n",
              "      <th>manufacturer_harley-davidson</th>\n",
              "      <th>manufacturer_honda</th>\n",
              "      <th>manufacturer_hyundai</th>\n",
              "      <th>manufacturer_infiniti</th>\n",
              "      <th>manufacturer_jaguar</th>\n",
              "      <th>manufacturer_jeep</th>\n",
              "      <th>manufacturer_kia</th>\n",
              "      <th>manufacturer_land rover</th>\n",
              "      <th>manufacturer_lexus</th>\n",
              "      <th>manufacturer_lincoln</th>\n",
              "      <th>manufacturer_mazda</th>\n",
              "      <th>manufacturer_mercedes-benz</th>\n",
              "      <th>manufacturer_mercury</th>\n",
              "      <th>manufacturer_mini</th>\n",
              "      <th>manufacturer_mitsubishi</th>\n",
              "      <th>manufacturer_nissan</th>\n",
              "      <th>manufacturer_pontiac</th>\n",
              "      <th>manufacturer_porsche</th>\n",
              "      <th>manufacturer_ram</th>\n",
              "      <th>manufacturer_rover</th>\n",
              "      <th>manufacturer_saturn</th>\n",
              "      <th>manufacturer_subaru</th>\n",
              "      <th>manufacturer_tesla</th>\n",
              "      <th>manufacturer_toyota</th>\n",
              "      <th>manufacturer_volkswagen</th>\n",
              "      <th>manufacturer_volvo</th>\n",
              "      <th>fuel_electric</th>\n",
              "      <th>fuel_gas</th>\n",
              "      <th>fuel_hybrid</th>\n",
              "      <th>fuel_other</th>\n",
              "      <th>title_status_lien</th>\n",
              "      <th>title_status_missing</th>\n",
              "      <th>title_status_parts only</th>\n",
              "      <th>title_status_rebuilt</th>\n",
              "      <th>title_status_salvage</th>\n",
              "      <th>transmission_manual</th>\n",
              "      <th>transmission_other</th>\n",
              "      <th>type_bus</th>\n",
              "      <th>type_convertible</th>\n",
              "      <th>type_coupe</th>\n",
              "      <th>type_hatchback</th>\n",
              "      <th>type_mini-van</th>\n",
              "      <th>type_offroad</th>\n",
              "      <th>type_other</th>\n",
              "      <th>type_pickup</th>\n",
              "      <th>type_sedan</th>\n",
              "      <th>type_truck</th>\n",
              "      <th>type_van</th>\n",
              "      <th>type_wagon</th>\n",
              "      <th>state_al</th>\n",
              "      <th>state_ar</th>\n",
              "      <th>state_az</th>\n",
              "      <th>state_ca</th>\n",
              "      <th>state_co</th>\n",
              "      <th>state_ct</th>\n",
              "      <th>state_dc</th>\n",
              "      <th>state_de</th>\n",
              "      <th>state_fl</th>\n",
              "      <th>state_ga</th>\n",
              "      <th>state_hi</th>\n",
              "      <th>state_ia</th>\n",
              "      <th>state_id</th>\n",
              "      <th>state_il</th>\n",
              "      <th>state_in</th>\n",
              "      <th>state_ks</th>\n",
              "      <th>state_ky</th>\n",
              "      <th>state_la</th>\n",
              "      <th>state_ma</th>\n",
              "      <th>state_md</th>\n",
              "      <th>state_me</th>\n",
              "      <th>state_mi</th>\n",
              "      <th>state_mn</th>\n",
              "      <th>state_mo</th>\n",
              "      <th>state_ms</th>\n",
              "      <th>state_mt</th>\n",
              "      <th>state_nc</th>\n",
              "      <th>state_nd</th>\n",
              "      <th>state_ne</th>\n",
              "      <th>state_nh</th>\n",
              "      <th>state_nj</th>\n",
              "      <th>state_nm</th>\n",
              "      <th>state_nv</th>\n",
              "      <th>state_ny</th>\n",
              "      <th>state_oh</th>\n",
              "      <th>state_ok</th>\n",
              "      <th>state_or</th>\n",
              "      <th>state_pa</th>\n",
              "      <th>state_ri</th>\n",
              "      <th>state_sc</th>\n",
              "      <th>state_sd</th>\n",
              "      <th>state_tn</th>\n",
              "      <th>state_tx</th>\n",
              "      <th>state_ut</th>\n",
              "      <th>state_va</th>\n",
              "      <th>state_vt</th>\n",
              "      <th>state_wa</th>\n",
              "      <th>state_wi</th>\n",
              "      <th>state_wv</th>\n",
              "      <th>state_wy</th>\n",
              "    </tr>\n",
              "  </thead>\n",
              "  <tbody>\n",
              "    <tr>\n",
              "      <th>27</th>\n",
              "      <td>0</td>\n",
              "      <td>0</td>\n",
              "      <td>0</td>\n",
              "      <td>0</td>\n",
              "      <td>0</td>\n",
              "      <td>0</td>\n",
              "      <td>0</td>\n",
              "      <td>0</td>\n",
              "      <td>0</td>\n",
              "      <td>0</td>\n",
              "      <td>0</td>\n",
              "      <td>0</td>\n",
              "      <td>1</td>\n",
              "      <td>0</td>\n",
              "      <td>0</td>\n",
              "      <td>0</td>\n",
              "      <td>0</td>\n",
              "      <td>0</td>\n",
              "      <td>0</td>\n",
              "      <td>0</td>\n",
              "      <td>0</td>\n",
              "      <td>0</td>\n",
              "      <td>0</td>\n",
              "      <td>0</td>\n",
              "      <td>0</td>\n",
              "      <td>0</td>\n",
              "      <td>0</td>\n",
              "      <td>0</td>\n",
              "      <td>0</td>\n",
              "      <td>0</td>\n",
              "      <td>0</td>\n",
              "      <td>0</td>\n",
              "      <td>0</td>\n",
              "      <td>0</td>\n",
              "      <td>0</td>\n",
              "      <td>0</td>\n",
              "      <td>0</td>\n",
              "      <td>0</td>\n",
              "      <td>0</td>\n",
              "      <td>0</td>\n",
              "      <td>1</td>\n",
              "      <td>0</td>\n",
              "      <td>0</td>\n",
              "      <td>0</td>\n",
              "      <td>0</td>\n",
              "      <td>0</td>\n",
              "      <td>0</td>\n",
              "      <td>0</td>\n",
              "      <td>0</td>\n",
              "      <td>1</td>\n",
              "      <td>0</td>\n",
              "      <td>0</td>\n",
              "      <td>0</td>\n",
              "      <td>0</td>\n",
              "      <td>0</td>\n",
              "      <td>0</td>\n",
              "      <td>0</td>\n",
              "      <td>1</td>\n",
              "      <td>0</td>\n",
              "      <td>0</td>\n",
              "      <td>0</td>\n",
              "      <td>0</td>\n",
              "      <td>1</td>\n",
              "      <td>0</td>\n",
              "      <td>0</td>\n",
              "      <td>0</td>\n",
              "      <td>0</td>\n",
              "      <td>0</td>\n",
              "      <td>0</td>\n",
              "      <td>0</td>\n",
              "      <td>0</td>\n",
              "      <td>0</td>\n",
              "      <td>0</td>\n",
              "      <td>0</td>\n",
              "      <td>0</td>\n",
              "      <td>0</td>\n",
              "      <td>0</td>\n",
              "      <td>0</td>\n",
              "      <td>0</td>\n",
              "      <td>0</td>\n",
              "      <td>0</td>\n",
              "      <td>0</td>\n",
              "      <td>0</td>\n",
              "      <td>0</td>\n",
              "      <td>0</td>\n",
              "      <td>0</td>\n",
              "      <td>0</td>\n",
              "      <td>0</td>\n",
              "      <td>0</td>\n",
              "      <td>0</td>\n",
              "      <td>0</td>\n",
              "      <td>0</td>\n",
              "      <td>0</td>\n",
              "      <td>0</td>\n",
              "      <td>0</td>\n",
              "      <td>0</td>\n",
              "      <td>0</td>\n",
              "      <td>0</td>\n",
              "      <td>0</td>\n",
              "      <td>0</td>\n",
              "      <td>0</td>\n",
              "      <td>0</td>\n",
              "      <td>0</td>\n",
              "      <td>0</td>\n",
              "      <td>0</td>\n",
              "      <td>0</td>\n",
              "      <td>0</td>\n",
              "      <td>0</td>\n",
              "      <td>0</td>\n",
              "      <td>0</td>\n",
              "      <td>0</td>\n",
              "      <td>0</td>\n",
              "    </tr>\n",
              "    <tr>\n",
              "      <th>28</th>\n",
              "      <td>0</td>\n",
              "      <td>0</td>\n",
              "      <td>0</td>\n",
              "      <td>0</td>\n",
              "      <td>0</td>\n",
              "      <td>0</td>\n",
              "      <td>1</td>\n",
              "      <td>0</td>\n",
              "      <td>0</td>\n",
              "      <td>0</td>\n",
              "      <td>0</td>\n",
              "      <td>0</td>\n",
              "      <td>0</td>\n",
              "      <td>0</td>\n",
              "      <td>0</td>\n",
              "      <td>0</td>\n",
              "      <td>0</td>\n",
              "      <td>0</td>\n",
              "      <td>0</td>\n",
              "      <td>0</td>\n",
              "      <td>0</td>\n",
              "      <td>0</td>\n",
              "      <td>0</td>\n",
              "      <td>0</td>\n",
              "      <td>0</td>\n",
              "      <td>0</td>\n",
              "      <td>0</td>\n",
              "      <td>0</td>\n",
              "      <td>0</td>\n",
              "      <td>0</td>\n",
              "      <td>0</td>\n",
              "      <td>0</td>\n",
              "      <td>0</td>\n",
              "      <td>0</td>\n",
              "      <td>0</td>\n",
              "      <td>0</td>\n",
              "      <td>0</td>\n",
              "      <td>0</td>\n",
              "      <td>0</td>\n",
              "      <td>0</td>\n",
              "      <td>1</td>\n",
              "      <td>0</td>\n",
              "      <td>0</td>\n",
              "      <td>0</td>\n",
              "      <td>0</td>\n",
              "      <td>0</td>\n",
              "      <td>0</td>\n",
              "      <td>0</td>\n",
              "      <td>0</td>\n",
              "      <td>1</td>\n",
              "      <td>0</td>\n",
              "      <td>0</td>\n",
              "      <td>0</td>\n",
              "      <td>0</td>\n",
              "      <td>0</td>\n",
              "      <td>0</td>\n",
              "      <td>0</td>\n",
              "      <td>1</td>\n",
              "      <td>0</td>\n",
              "      <td>0</td>\n",
              "      <td>0</td>\n",
              "      <td>0</td>\n",
              "      <td>1</td>\n",
              "      <td>0</td>\n",
              "      <td>0</td>\n",
              "      <td>0</td>\n",
              "      <td>0</td>\n",
              "      <td>0</td>\n",
              "      <td>0</td>\n",
              "      <td>0</td>\n",
              "      <td>0</td>\n",
              "      <td>0</td>\n",
              "      <td>0</td>\n",
              "      <td>0</td>\n",
              "      <td>0</td>\n",
              "      <td>0</td>\n",
              "      <td>0</td>\n",
              "      <td>0</td>\n",
              "      <td>0</td>\n",
              "      <td>0</td>\n",
              "      <td>0</td>\n",
              "      <td>0</td>\n",
              "      <td>0</td>\n",
              "      <td>0</td>\n",
              "      <td>0</td>\n",
              "      <td>0</td>\n",
              "      <td>0</td>\n",
              "      <td>0</td>\n",
              "      <td>0</td>\n",
              "      <td>0</td>\n",
              "      <td>0</td>\n",
              "      <td>0</td>\n",
              "      <td>0</td>\n",
              "      <td>0</td>\n",
              "      <td>0</td>\n",
              "      <td>0</td>\n",
              "      <td>0</td>\n",
              "      <td>0</td>\n",
              "      <td>0</td>\n",
              "      <td>0</td>\n",
              "      <td>0</td>\n",
              "      <td>0</td>\n",
              "      <td>0</td>\n",
              "      <td>0</td>\n",
              "      <td>0</td>\n",
              "      <td>0</td>\n",
              "      <td>0</td>\n",
              "      <td>0</td>\n",
              "      <td>0</td>\n",
              "      <td>0</td>\n",
              "      <td>0</td>\n",
              "      <td>0</td>\n",
              "    </tr>\n",
              "    <tr>\n",
              "      <th>29</th>\n",
              "      <td>0</td>\n",
              "      <td>0</td>\n",
              "      <td>0</td>\n",
              "      <td>0</td>\n",
              "      <td>0</td>\n",
              "      <td>0</td>\n",
              "      <td>1</td>\n",
              "      <td>0</td>\n",
              "      <td>0</td>\n",
              "      <td>0</td>\n",
              "      <td>0</td>\n",
              "      <td>0</td>\n",
              "      <td>0</td>\n",
              "      <td>0</td>\n",
              "      <td>0</td>\n",
              "      <td>0</td>\n",
              "      <td>0</td>\n",
              "      <td>0</td>\n",
              "      <td>0</td>\n",
              "      <td>0</td>\n",
              "      <td>0</td>\n",
              "      <td>0</td>\n",
              "      <td>0</td>\n",
              "      <td>0</td>\n",
              "      <td>0</td>\n",
              "      <td>0</td>\n",
              "      <td>0</td>\n",
              "      <td>0</td>\n",
              "      <td>0</td>\n",
              "      <td>0</td>\n",
              "      <td>0</td>\n",
              "      <td>0</td>\n",
              "      <td>0</td>\n",
              "      <td>0</td>\n",
              "      <td>0</td>\n",
              "      <td>0</td>\n",
              "      <td>0</td>\n",
              "      <td>0</td>\n",
              "      <td>0</td>\n",
              "      <td>0</td>\n",
              "      <td>1</td>\n",
              "      <td>0</td>\n",
              "      <td>0</td>\n",
              "      <td>0</td>\n",
              "      <td>0</td>\n",
              "      <td>0</td>\n",
              "      <td>0</td>\n",
              "      <td>0</td>\n",
              "      <td>0</td>\n",
              "      <td>1</td>\n",
              "      <td>0</td>\n",
              "      <td>0</td>\n",
              "      <td>0</td>\n",
              "      <td>0</td>\n",
              "      <td>0</td>\n",
              "      <td>0</td>\n",
              "      <td>0</td>\n",
              "      <td>1</td>\n",
              "      <td>0</td>\n",
              "      <td>0</td>\n",
              "      <td>0</td>\n",
              "      <td>0</td>\n",
              "      <td>1</td>\n",
              "      <td>0</td>\n",
              "      <td>0</td>\n",
              "      <td>0</td>\n",
              "      <td>0</td>\n",
              "      <td>0</td>\n",
              "      <td>0</td>\n",
              "      <td>0</td>\n",
              "      <td>0</td>\n",
              "      <td>0</td>\n",
              "      <td>0</td>\n",
              "      <td>0</td>\n",
              "      <td>0</td>\n",
              "      <td>0</td>\n",
              "      <td>0</td>\n",
              "      <td>0</td>\n",
              "      <td>0</td>\n",
              "      <td>0</td>\n",
              "      <td>0</td>\n",
              "      <td>0</td>\n",
              "      <td>0</td>\n",
              "      <td>0</td>\n",
              "      <td>0</td>\n",
              "      <td>0</td>\n",
              "      <td>0</td>\n",
              "      <td>0</td>\n",
              "      <td>0</td>\n",
              "      <td>0</td>\n",
              "      <td>0</td>\n",
              "      <td>0</td>\n",
              "      <td>0</td>\n",
              "      <td>0</td>\n",
              "      <td>0</td>\n",
              "      <td>0</td>\n",
              "      <td>0</td>\n",
              "      <td>0</td>\n",
              "      <td>0</td>\n",
              "      <td>0</td>\n",
              "      <td>0</td>\n",
              "      <td>0</td>\n",
              "      <td>0</td>\n",
              "      <td>0</td>\n",
              "      <td>0</td>\n",
              "      <td>0</td>\n",
              "      <td>0</td>\n",
              "      <td>0</td>\n",
              "      <td>0</td>\n",
              "      <td>0</td>\n",
              "      <td>0</td>\n",
              "      <td>0</td>\n",
              "    </tr>\n",
              "    <tr>\n",
              "      <th>30</th>\n",
              "      <td>0</td>\n",
              "      <td>0</td>\n",
              "      <td>0</td>\n",
              "      <td>0</td>\n",
              "      <td>0</td>\n",
              "      <td>0</td>\n",
              "      <td>0</td>\n",
              "      <td>0</td>\n",
              "      <td>0</td>\n",
              "      <td>0</td>\n",
              "      <td>0</td>\n",
              "      <td>0</td>\n",
              "      <td>0</td>\n",
              "      <td>0</td>\n",
              "      <td>0</td>\n",
              "      <td>0</td>\n",
              "      <td>0</td>\n",
              "      <td>0</td>\n",
              "      <td>0</td>\n",
              "      <td>0</td>\n",
              "      <td>0</td>\n",
              "      <td>0</td>\n",
              "      <td>0</td>\n",
              "      <td>0</td>\n",
              "      <td>0</td>\n",
              "      <td>0</td>\n",
              "      <td>0</td>\n",
              "      <td>0</td>\n",
              "      <td>0</td>\n",
              "      <td>0</td>\n",
              "      <td>0</td>\n",
              "      <td>0</td>\n",
              "      <td>0</td>\n",
              "      <td>0</td>\n",
              "      <td>0</td>\n",
              "      <td>0</td>\n",
              "      <td>1</td>\n",
              "      <td>0</td>\n",
              "      <td>0</td>\n",
              "      <td>0</td>\n",
              "      <td>1</td>\n",
              "      <td>0</td>\n",
              "      <td>0</td>\n",
              "      <td>0</td>\n",
              "      <td>0</td>\n",
              "      <td>0</td>\n",
              "      <td>0</td>\n",
              "      <td>0</td>\n",
              "      <td>0</td>\n",
              "      <td>1</td>\n",
              "      <td>0</td>\n",
              "      <td>0</td>\n",
              "      <td>0</td>\n",
              "      <td>0</td>\n",
              "      <td>0</td>\n",
              "      <td>0</td>\n",
              "      <td>0</td>\n",
              "      <td>1</td>\n",
              "      <td>0</td>\n",
              "      <td>0</td>\n",
              "      <td>0</td>\n",
              "      <td>0</td>\n",
              "      <td>1</td>\n",
              "      <td>0</td>\n",
              "      <td>0</td>\n",
              "      <td>0</td>\n",
              "      <td>0</td>\n",
              "      <td>0</td>\n",
              "      <td>0</td>\n",
              "      <td>0</td>\n",
              "      <td>0</td>\n",
              "      <td>0</td>\n",
              "      <td>0</td>\n",
              "      <td>0</td>\n",
              "      <td>0</td>\n",
              "      <td>0</td>\n",
              "      <td>0</td>\n",
              "      <td>0</td>\n",
              "      <td>0</td>\n",
              "      <td>0</td>\n",
              "      <td>0</td>\n",
              "      <td>0</td>\n",
              "      <td>0</td>\n",
              "      <td>0</td>\n",
              "      <td>0</td>\n",
              "      <td>0</td>\n",
              "      <td>0</td>\n",
              "      <td>0</td>\n",
              "      <td>0</td>\n",
              "      <td>0</td>\n",
              "      <td>0</td>\n",
              "      <td>0</td>\n",
              "      <td>0</td>\n",
              "      <td>0</td>\n",
              "      <td>0</td>\n",
              "      <td>0</td>\n",
              "      <td>0</td>\n",
              "      <td>0</td>\n",
              "      <td>0</td>\n",
              "      <td>0</td>\n",
              "      <td>0</td>\n",
              "      <td>0</td>\n",
              "      <td>0</td>\n",
              "      <td>0</td>\n",
              "      <td>0</td>\n",
              "      <td>0</td>\n",
              "      <td>0</td>\n",
              "      <td>0</td>\n",
              "      <td>0</td>\n",
              "      <td>0</td>\n",
              "      <td>0</td>\n",
              "      <td>0</td>\n",
              "    </tr>\n",
              "    <tr>\n",
              "      <th>31</th>\n",
              "      <td>0</td>\n",
              "      <td>0</td>\n",
              "      <td>0</td>\n",
              "      <td>0</td>\n",
              "      <td>0</td>\n",
              "      <td>0</td>\n",
              "      <td>0</td>\n",
              "      <td>0</td>\n",
              "      <td>0</td>\n",
              "      <td>0</td>\n",
              "      <td>0</td>\n",
              "      <td>1</td>\n",
              "      <td>0</td>\n",
              "      <td>0</td>\n",
              "      <td>0</td>\n",
              "      <td>0</td>\n",
              "      <td>0</td>\n",
              "      <td>0</td>\n",
              "      <td>0</td>\n",
              "      <td>0</td>\n",
              "      <td>0</td>\n",
              "      <td>0</td>\n",
              "      <td>0</td>\n",
              "      <td>0</td>\n",
              "      <td>0</td>\n",
              "      <td>0</td>\n",
              "      <td>0</td>\n",
              "      <td>0</td>\n",
              "      <td>0</td>\n",
              "      <td>0</td>\n",
              "      <td>0</td>\n",
              "      <td>0</td>\n",
              "      <td>0</td>\n",
              "      <td>0</td>\n",
              "      <td>0</td>\n",
              "      <td>0</td>\n",
              "      <td>0</td>\n",
              "      <td>0</td>\n",
              "      <td>0</td>\n",
              "      <td>0</td>\n",
              "      <td>1</td>\n",
              "      <td>0</td>\n",
              "      <td>0</td>\n",
              "      <td>0</td>\n",
              "      <td>0</td>\n",
              "      <td>0</td>\n",
              "      <td>0</td>\n",
              "      <td>0</td>\n",
              "      <td>0</td>\n",
              "      <td>0</td>\n",
              "      <td>0</td>\n",
              "      <td>0</td>\n",
              "      <td>0</td>\n",
              "      <td>0</td>\n",
              "      <td>0</td>\n",
              "      <td>0</td>\n",
              "      <td>0</td>\n",
              "      <td>0</td>\n",
              "      <td>0</td>\n",
              "      <td>1</td>\n",
              "      <td>0</td>\n",
              "      <td>0</td>\n",
              "      <td>1</td>\n",
              "      <td>0</td>\n",
              "      <td>0</td>\n",
              "      <td>0</td>\n",
              "      <td>0</td>\n",
              "      <td>0</td>\n",
              "      <td>0</td>\n",
              "      <td>0</td>\n",
              "      <td>0</td>\n",
              "      <td>0</td>\n",
              "      <td>0</td>\n",
              "      <td>0</td>\n",
              "      <td>0</td>\n",
              "      <td>0</td>\n",
              "      <td>0</td>\n",
              "      <td>0</td>\n",
              "      <td>0</td>\n",
              "      <td>0</td>\n",
              "      <td>0</td>\n",
              "      <td>0</td>\n",
              "      <td>0</td>\n",
              "      <td>0</td>\n",
              "      <td>0</td>\n",
              "      <td>0</td>\n",
              "      <td>0</td>\n",
              "      <td>0</td>\n",
              "      <td>0</td>\n",
              "      <td>0</td>\n",
              "      <td>0</td>\n",
              "      <td>0</td>\n",
              "      <td>0</td>\n",
              "      <td>0</td>\n",
              "      <td>0</td>\n",
              "      <td>0</td>\n",
              "      <td>0</td>\n",
              "      <td>0</td>\n",
              "      <td>0</td>\n",
              "      <td>0</td>\n",
              "      <td>0</td>\n",
              "      <td>0</td>\n",
              "      <td>0</td>\n",
              "      <td>0</td>\n",
              "      <td>0</td>\n",
              "      <td>0</td>\n",
              "      <td>0</td>\n",
              "      <td>0</td>\n",
              "      <td>0</td>\n",
              "      <td>0</td>\n",
              "      <td>0</td>\n",
              "      <td>0</td>\n",
              "    </tr>\n",
              "  </tbody>\n",
              "</table>\n",
              "</div>"
            ],
            "text/plain": [
              "    manufacturer_alfa-romeo  manufacturer_aston-martin  manufacturer_audi  \\\n",
              "27                        0                          0                  0   \n",
              "28                        0                          0                  0   \n",
              "29                        0                          0                  0   \n",
              "30                        0                          0                  0   \n",
              "31                        0                          0                  0   \n",
              "\n",
              "    manufacturer_bmw  manufacturer_buick  manufacturer_cadillac  \\\n",
              "27                 0                   0                      0   \n",
              "28                 0                   0                      0   \n",
              "29                 0                   0                      0   \n",
              "30                 0                   0                      0   \n",
              "31                 0                   0                      0   \n",
              "\n",
              "    manufacturer_chevrolet  manufacturer_chrysler  manufacturer_dodge  \\\n",
              "27                       0                      0                   0   \n",
              "28                       1                      0                   0   \n",
              "29                       1                      0                   0   \n",
              "30                       0                      0                   0   \n",
              "31                       0                      0                   0   \n",
              "\n",
              "    manufacturer_ferrari  manufacturer_fiat  manufacturer_ford  \\\n",
              "27                     0                  0                  0   \n",
              "28                     0                  0                  0   \n",
              "29                     0                  0                  0   \n",
              "30                     0                  0                  0   \n",
              "31                     0                  0                  1   \n",
              "\n",
              "    manufacturer_gmc  manufacturer_harley-davidson  manufacturer_honda  \\\n",
              "27                 1                             0                   0   \n",
              "28                 0                             0                   0   \n",
              "29                 0                             0                   0   \n",
              "30                 0                             0                   0   \n",
              "31                 0                             0                   0   \n",
              "\n",
              "    manufacturer_hyundai  manufacturer_infiniti  manufacturer_jaguar  \\\n",
              "27                     0                      0                    0   \n",
              "28                     0                      0                    0   \n",
              "29                     0                      0                    0   \n",
              "30                     0                      0                    0   \n",
              "31                     0                      0                    0   \n",
              "\n",
              "    manufacturer_jeep  manufacturer_kia  manufacturer_land rover  \\\n",
              "27                  0                 0                        0   \n",
              "28                  0                 0                        0   \n",
              "29                  0                 0                        0   \n",
              "30                  0                 0                        0   \n",
              "31                  0                 0                        0   \n",
              "\n",
              "    manufacturer_lexus  manufacturer_lincoln  manufacturer_mazda  \\\n",
              "27                   0                     0                   0   \n",
              "28                   0                     0                   0   \n",
              "29                   0                     0                   0   \n",
              "30                   0                     0                   0   \n",
              "31                   0                     0                   0   \n",
              "\n",
              "    manufacturer_mercedes-benz  manufacturer_mercury  manufacturer_mini  \\\n",
              "27                           0                     0                  0   \n",
              "28                           0                     0                  0   \n",
              "29                           0                     0                  0   \n",
              "30                           0                     0                  0   \n",
              "31                           0                     0                  0   \n",
              "\n",
              "    manufacturer_mitsubishi  manufacturer_nissan  manufacturer_pontiac  \\\n",
              "27                        0                    0                     0   \n",
              "28                        0                    0                     0   \n",
              "29                        0                    0                     0   \n",
              "30                        0                    0                     0   \n",
              "31                        0                    0                     0   \n",
              "\n",
              "    manufacturer_porsche  manufacturer_ram  manufacturer_rover  \\\n",
              "27                     0                 0                   0   \n",
              "28                     0                 0                   0   \n",
              "29                     0                 0                   0   \n",
              "30                     0                 0                   0   \n",
              "31                     0                 0                   0   \n",
              "\n",
              "    manufacturer_saturn  manufacturer_subaru  manufacturer_tesla  \\\n",
              "27                    0                    0                   0   \n",
              "28                    0                    0                   0   \n",
              "29                    0                    0                   0   \n",
              "30                    0                    0                   0   \n",
              "31                    0                    0                   0   \n",
              "\n",
              "    manufacturer_toyota  manufacturer_volkswagen  manufacturer_volvo  \\\n",
              "27                    0                        0                   0   \n",
              "28                    0                        0                   0   \n",
              "29                    0                        0                   0   \n",
              "30                    1                        0                   0   \n",
              "31                    0                        0                   0   \n",
              "\n",
              "    fuel_electric  fuel_gas  fuel_hybrid  fuel_other  title_status_lien  \\\n",
              "27              0         1            0           0                  0   \n",
              "28              0         1            0           0                  0   \n",
              "29              0         1            0           0                  0   \n",
              "30              0         1            0           0                  0   \n",
              "31              0         1            0           0                  0   \n",
              "\n",
              "    title_status_missing  title_status_parts only  title_status_rebuilt  \\\n",
              "27                     0                        0                     0   \n",
              "28                     0                        0                     0   \n",
              "29                     0                        0                     0   \n",
              "30                     0                        0                     0   \n",
              "31                     0                        0                     0   \n",
              "\n",
              "    title_status_salvage  transmission_manual  transmission_other  type_bus  \\\n",
              "27                     0                    0                   1         0   \n",
              "28                     0                    0                   1         0   \n",
              "29                     0                    0                   1         0   \n",
              "30                     0                    0                   1         0   \n",
              "31                     0                    0                   0         0   \n",
              "\n",
              "    type_convertible  type_coupe  type_hatchback  type_mini-van  type_offroad  \\\n",
              "27                 0           0               0              0             0   \n",
              "28                 0           0               0              0             0   \n",
              "29                 0           0               0              0             0   \n",
              "30                 0           0               0              0             0   \n",
              "31                 0           0               0              0             0   \n",
              "\n",
              "    type_other  type_pickup  type_sedan  type_truck  type_van  type_wagon  \\\n",
              "27           0            1           0           0         0           0   \n",
              "28           0            1           0           0         0           0   \n",
              "29           0            1           0           0         0           0   \n",
              "30           0            1           0           0         0           0   \n",
              "31           0            0           0           1         0           0   \n",
              "\n",
              "    state_al  state_ar  state_az  state_ca  state_co  state_ct  state_dc  \\\n",
              "27         1         0         0         0         0         0         0   \n",
              "28         1         0         0         0         0         0         0   \n",
              "29         1         0         0         0         0         0         0   \n",
              "30         1         0         0         0         0         0         0   \n",
              "31         1         0         0         0         0         0         0   \n",
              "\n",
              "    state_de  state_fl  state_ga  state_hi  state_ia  state_id  state_il  \\\n",
              "27         0         0         0         0         0         0         0   \n",
              "28         0         0         0         0         0         0         0   \n",
              "29         0         0         0         0         0         0         0   \n",
              "30         0         0         0         0         0         0         0   \n",
              "31         0         0         0         0         0         0         0   \n",
              "\n",
              "    state_in  state_ks  state_ky  state_la  state_ma  state_md  state_me  \\\n",
              "27         0         0         0         0         0         0         0   \n",
              "28         0         0         0         0         0         0         0   \n",
              "29         0         0         0         0         0         0         0   \n",
              "30         0         0         0         0         0         0         0   \n",
              "31         0         0         0         0         0         0         0   \n",
              "\n",
              "    state_mi  state_mn  state_mo  state_ms  state_mt  state_nc  state_nd  \\\n",
              "27         0         0         0         0         0         0         0   \n",
              "28         0         0         0         0         0         0         0   \n",
              "29         0         0         0         0         0         0         0   \n",
              "30         0         0         0         0         0         0         0   \n",
              "31         0         0         0         0         0         0         0   \n",
              "\n",
              "    state_ne  state_nh  state_nj  state_nm  state_nv  state_ny  state_oh  \\\n",
              "27         0         0         0         0         0         0         0   \n",
              "28         0         0         0         0         0         0         0   \n",
              "29         0         0         0         0         0         0         0   \n",
              "30         0         0         0         0         0         0         0   \n",
              "31         0         0         0         0         0         0         0   \n",
              "\n",
              "    state_ok  state_or  state_pa  state_ri  state_sc  state_sd  state_tn  \\\n",
              "27         0         0         0         0         0         0         0   \n",
              "28         0         0         0         0         0         0         0   \n",
              "29         0         0         0         0         0         0         0   \n",
              "30         0         0         0         0         0         0         0   \n",
              "31         0         0         0         0         0         0         0   \n",
              "\n",
              "    state_tx  state_ut  state_va  state_vt  state_wa  state_wi  state_wv  \\\n",
              "27         0         0         0         0         0         0         0   \n",
              "28         0         0         0         0         0         0         0   \n",
              "29         0         0         0         0         0         0         0   \n",
              "30         0         0         0         0         0         0         0   \n",
              "31         0         0         0         0         0         0         0   \n",
              "\n",
              "    state_wy  \n",
              "27         0  \n",
              "28         0  \n",
              "29         0  \n",
              "30         0  \n",
              "31         0  "
            ]
          },
          "execution_count": 53,
          "metadata": {},
          "output_type": "execute_result"
        }
      ],
      "source": [
        "onehot_df.head()"
      ]
    },
    {
      "cell_type": "code",
      "execution_count": null,
      "metadata": {
        "id": "8JL3vKOH5aka",
        "outputId": "8014333d-a35c-421f-a8ed-1e4d1a087091"
      },
      "outputs": [
        {
          "data": {
            "text/plain": [
              "(368433, 112)"
            ]
          },
          "execution_count": 54,
          "metadata": {},
          "output_type": "execute_result"
        }
      ],
      "source": [
        "onehot_df.shape"
      ]
    },
    {
      "cell_type": "markdown",
      "metadata": {
        "id": "191XmIQr7_Jj"
      },
      "source": [
        "9. Aplica codificación binaria a las variables en `highly_cardinal_variables`. Coloca el resultado en un dataframe denominado `binary_df`."
      ]
    },
    {
      "cell_type": "code",
      "execution_count": null,
      "metadata": {
        "colab": {
          "base_uri": "https://localhost:8080/"
        },
        "id": "3FXUSl64sOUi",
        "outputId": "88d0790f-0a2c-4cd3-8888-7af07187583c"
      },
      "outputs": [
        {
          "name": "stdout",
          "output_type": "stream",
          "text": [
            "Requirement already satisfied: category_encoders in c:\\users\\julio\\anaconda3\\lib\\site-packages (2.6.4)\n",
            "Requirement already satisfied: numpy>=1.14.0 in c:\\users\\julio\\anaconda3\\lib\\site-packages (from category_encoders) (1.21.5)\n",
            "Requirement already satisfied: scikit-learn>=0.20.0 in c:\\users\\julio\\anaconda3\\lib\\site-packages (from category_encoders) (1.0.2)\n",
            "Requirement already satisfied: scipy>=1.0.0 in c:\\users\\julio\\anaconda3\\lib\\site-packages (from category_encoders) (1.7.3)\n",
            "Requirement already satisfied: statsmodels>=0.9.0 in c:\\users\\julio\\anaconda3\\lib\\site-packages (from category_encoders) (0.13.2)\n",
            "Requirement already satisfied: pandas>=1.0.5 in c:\\users\\julio\\anaconda3\\lib\\site-packages (from category_encoders) (1.4.2)\n",
            "Requirement already satisfied: patsy>=0.5.1 in c:\\users\\julio\\anaconda3\\lib\\site-packages (from category_encoders) (0.5.2)\n",
            "Requirement already satisfied: python-dateutil>=2.8.1 in c:\\users\\julio\\anaconda3\\lib\\site-packages (from pandas>=1.0.5->category_encoders) (2.8.2)\n",
            "Requirement already satisfied: pytz>=2020.1 in c:\\users\\julio\\anaconda3\\lib\\site-packages (from pandas>=1.0.5->category_encoders) (2021.3)\n",
            "Requirement already satisfied: six in c:\\users\\julio\\anaconda3\\lib\\site-packages (from patsy>=0.5.1->category_encoders) (1.16.0)\n",
            "Requirement already satisfied: joblib>=0.11 in c:\\users\\julio\\anaconda3\\lib\\site-packages (from scikit-learn>=0.20.0->category_encoders) (1.1.0)\n",
            "Requirement already satisfied: threadpoolctl>=2.0.0 in c:\\users\\julio\\anaconda3\\lib\\site-packages (from scikit-learn>=0.20.0->category_encoders) (2.2.0)\n",
            "Requirement already satisfied: packaging>=21.3 in c:\\users\\julio\\anaconda3\\lib\\site-packages (from statsmodels>=0.9.0->category_encoders) (21.3)\n",
            "Requirement already satisfied: pyparsing!=3.0.5,>=2.0.2 in c:\\users\\julio\\anaconda3\\lib\\site-packages (from packaging>=21.3->statsmodels>=0.9.0->category_encoders) (3.0.4)\n",
            "DataFrame con codificación binaria (highly_cardinal_variables):\n"
          ]
        },
        {
          "data": {
            "text/html": [
              "<div>\n",
              "<style scoped>\n",
              "    .dataframe tbody tr th:only-of-type {\n",
              "        vertical-align: middle;\n",
              "    }\n",
              "\n",
              "    .dataframe tbody tr th {\n",
              "        vertical-align: top;\n",
              "    }\n",
              "\n",
              "    .dataframe thead th {\n",
              "        text-align: right;\n",
              "    }\n",
              "</style>\n",
              "<table border=\"1\" class=\"dataframe\">\n",
              "  <thead>\n",
              "    <tr style=\"text-align: right;\">\n",
              "      <th></th>\n",
              "      <th>region_0</th>\n",
              "      <th>region_1</th>\n",
              "      <th>region_2</th>\n",
              "      <th>region_3</th>\n",
              "      <th>region_4</th>\n",
              "      <th>region_5</th>\n",
              "      <th>region_6</th>\n",
              "      <th>region_7</th>\n",
              "      <th>region_8</th>\n",
              "      <th>region_url_0</th>\n",
              "      <th>region_url_1</th>\n",
              "      <th>region_url_2</th>\n",
              "      <th>region_url_3</th>\n",
              "      <th>region_url_4</th>\n",
              "      <th>region_url_5</th>\n",
              "      <th>region_url_6</th>\n",
              "      <th>region_url_7</th>\n",
              "      <th>region_url_8</th>\n",
              "      <th>model_0</th>\n",
              "      <th>model_1</th>\n",
              "      <th>model_2</th>\n",
              "      <th>model_3</th>\n",
              "      <th>model_4</th>\n",
              "      <th>model_5</th>\n",
              "      <th>model_6</th>\n",
              "      <th>model_7</th>\n",
              "      <th>model_8</th>\n",
              "      <th>model_9</th>\n",
              "      <th>model_10</th>\n",
              "      <th>model_11</th>\n",
              "      <th>model_12</th>\n",
              "      <th>model_13</th>\n",
              "      <th>model_14</th>\n",
              "    </tr>\n",
              "  </thead>\n",
              "  <tbody>\n",
              "    <tr>\n",
              "      <th>27</th>\n",
              "      <td>0</td>\n",
              "      <td>0</td>\n",
              "      <td>0</td>\n",
              "      <td>0</td>\n",
              "      <td>0</td>\n",
              "      <td>0</td>\n",
              "      <td>0</td>\n",
              "      <td>0</td>\n",
              "      <td>1</td>\n",
              "      <td>0</td>\n",
              "      <td>0</td>\n",
              "      <td>0</td>\n",
              "      <td>0</td>\n",
              "      <td>0</td>\n",
              "      <td>0</td>\n",
              "      <td>0</td>\n",
              "      <td>0</td>\n",
              "      <td>1</td>\n",
              "      <td>0</td>\n",
              "      <td>0</td>\n",
              "      <td>0</td>\n",
              "      <td>0</td>\n",
              "      <td>0</td>\n",
              "      <td>0</td>\n",
              "      <td>0</td>\n",
              "      <td>0</td>\n",
              "      <td>0</td>\n",
              "      <td>0</td>\n",
              "      <td>0</td>\n",
              "      <td>0</td>\n",
              "      <td>0</td>\n",
              "      <td>0</td>\n",
              "      <td>1</td>\n",
              "    </tr>\n",
              "    <tr>\n",
              "      <th>28</th>\n",
              "      <td>0</td>\n",
              "      <td>0</td>\n",
              "      <td>0</td>\n",
              "      <td>0</td>\n",
              "      <td>0</td>\n",
              "      <td>0</td>\n",
              "      <td>0</td>\n",
              "      <td>0</td>\n",
              "      <td>1</td>\n",
              "      <td>0</td>\n",
              "      <td>0</td>\n",
              "      <td>0</td>\n",
              "      <td>0</td>\n",
              "      <td>0</td>\n",
              "      <td>0</td>\n",
              "      <td>0</td>\n",
              "      <td>0</td>\n",
              "      <td>1</td>\n",
              "      <td>0</td>\n",
              "      <td>0</td>\n",
              "      <td>0</td>\n",
              "      <td>0</td>\n",
              "      <td>0</td>\n",
              "      <td>0</td>\n",
              "      <td>0</td>\n",
              "      <td>0</td>\n",
              "      <td>0</td>\n",
              "      <td>0</td>\n",
              "      <td>0</td>\n",
              "      <td>0</td>\n",
              "      <td>0</td>\n",
              "      <td>1</td>\n",
              "      <td>0</td>\n",
              "    </tr>\n",
              "    <tr>\n",
              "      <th>29</th>\n",
              "      <td>0</td>\n",
              "      <td>0</td>\n",
              "      <td>0</td>\n",
              "      <td>0</td>\n",
              "      <td>0</td>\n",
              "      <td>0</td>\n",
              "      <td>0</td>\n",
              "      <td>0</td>\n",
              "      <td>1</td>\n",
              "      <td>0</td>\n",
              "      <td>0</td>\n",
              "      <td>0</td>\n",
              "      <td>0</td>\n",
              "      <td>0</td>\n",
              "      <td>0</td>\n",
              "      <td>0</td>\n",
              "      <td>0</td>\n",
              "      <td>1</td>\n",
              "      <td>0</td>\n",
              "      <td>0</td>\n",
              "      <td>0</td>\n",
              "      <td>0</td>\n",
              "      <td>0</td>\n",
              "      <td>0</td>\n",
              "      <td>0</td>\n",
              "      <td>0</td>\n",
              "      <td>0</td>\n",
              "      <td>0</td>\n",
              "      <td>0</td>\n",
              "      <td>0</td>\n",
              "      <td>0</td>\n",
              "      <td>1</td>\n",
              "      <td>1</td>\n",
              "    </tr>\n",
              "    <tr>\n",
              "      <th>30</th>\n",
              "      <td>0</td>\n",
              "      <td>0</td>\n",
              "      <td>0</td>\n",
              "      <td>0</td>\n",
              "      <td>0</td>\n",
              "      <td>0</td>\n",
              "      <td>0</td>\n",
              "      <td>0</td>\n",
              "      <td>1</td>\n",
              "      <td>0</td>\n",
              "      <td>0</td>\n",
              "      <td>0</td>\n",
              "      <td>0</td>\n",
              "      <td>0</td>\n",
              "      <td>0</td>\n",
              "      <td>0</td>\n",
              "      <td>0</td>\n",
              "      <td>1</td>\n",
              "      <td>0</td>\n",
              "      <td>0</td>\n",
              "      <td>0</td>\n",
              "      <td>0</td>\n",
              "      <td>0</td>\n",
              "      <td>0</td>\n",
              "      <td>0</td>\n",
              "      <td>0</td>\n",
              "      <td>0</td>\n",
              "      <td>0</td>\n",
              "      <td>0</td>\n",
              "      <td>0</td>\n",
              "      <td>1</td>\n",
              "      <td>0</td>\n",
              "      <td>0</td>\n",
              "    </tr>\n",
              "    <tr>\n",
              "      <th>31</th>\n",
              "      <td>0</td>\n",
              "      <td>0</td>\n",
              "      <td>0</td>\n",
              "      <td>0</td>\n",
              "      <td>0</td>\n",
              "      <td>0</td>\n",
              "      <td>0</td>\n",
              "      <td>0</td>\n",
              "      <td>1</td>\n",
              "      <td>0</td>\n",
              "      <td>0</td>\n",
              "      <td>0</td>\n",
              "      <td>0</td>\n",
              "      <td>0</td>\n",
              "      <td>0</td>\n",
              "      <td>0</td>\n",
              "      <td>0</td>\n",
              "      <td>1</td>\n",
              "      <td>0</td>\n",
              "      <td>0</td>\n",
              "      <td>0</td>\n",
              "      <td>0</td>\n",
              "      <td>0</td>\n",
              "      <td>0</td>\n",
              "      <td>0</td>\n",
              "      <td>0</td>\n",
              "      <td>0</td>\n",
              "      <td>0</td>\n",
              "      <td>0</td>\n",
              "      <td>0</td>\n",
              "      <td>1</td>\n",
              "      <td>0</td>\n",
              "      <td>1</td>\n",
              "    </tr>\n",
              "  </tbody>\n",
              "</table>\n",
              "</div>"
            ],
            "text/plain": [
              "    region_0  region_1  region_2  region_3  region_4  region_5  region_6  \\\n",
              "27         0         0         0         0         0         0         0   \n",
              "28         0         0         0         0         0         0         0   \n",
              "29         0         0         0         0         0         0         0   \n",
              "30         0         0         0         0         0         0         0   \n",
              "31         0         0         0         0         0         0         0   \n",
              "\n",
              "    region_7  region_8  region_url_0  region_url_1  region_url_2  \\\n",
              "27         0         1             0             0             0   \n",
              "28         0         1             0             0             0   \n",
              "29         0         1             0             0             0   \n",
              "30         0         1             0             0             0   \n",
              "31         0         1             0             0             0   \n",
              "\n",
              "    region_url_3  region_url_4  region_url_5  region_url_6  region_url_7  \\\n",
              "27             0             0             0             0             0   \n",
              "28             0             0             0             0             0   \n",
              "29             0             0             0             0             0   \n",
              "30             0             0             0             0             0   \n",
              "31             0             0             0             0             0   \n",
              "\n",
              "    region_url_8  model_0  model_1  model_2  model_3  model_4  model_5  \\\n",
              "27             1        0        0        0        0        0        0   \n",
              "28             1        0        0        0        0        0        0   \n",
              "29             1        0        0        0        0        0        0   \n",
              "30             1        0        0        0        0        0        0   \n",
              "31             1        0        0        0        0        0        0   \n",
              "\n",
              "    model_6  model_7  model_8  model_9  model_10  model_11  model_12  \\\n",
              "27        0        0        0        0         0         0         0   \n",
              "28        0        0        0        0         0         0         0   \n",
              "29        0        0        0        0         0         0         0   \n",
              "30        0        0        0        0         0         0         1   \n",
              "31        0        0        0        0         0         0         1   \n",
              "\n",
              "    model_13  model_14  \n",
              "27         0         1  \n",
              "28         1         0  \n",
              "29         1         1  \n",
              "30         0         0  \n",
              "31         0         1  "
            ]
          },
          "execution_count": 55,
          "metadata": {},
          "output_type": "execute_result"
        }
      ],
      "source": [
        "!pip install category_encoders\n",
        "import category_encoders as ce\n",
        "\n",
        "# Aplicar codificación binaria a las variables de alta cardinalidad\n",
        "binary_encoder = ce.BinaryEncoder(cols=highly_cardinal_variables, drop_invariant=True)\n",
        "binary_df = binary_encoder.fit_transform(cars_df[highly_cardinal_variables])\n",
        "\n",
        "# Verificar el resultado de la codificación binaria\n",
        "print(\"DataFrame con codificación binaria (highly_cardinal_variables):\")\n",
        "binary_df.head()"
      ]
    },
    {
      "cell_type": "code",
      "execution_count": null,
      "metadata": {
        "id": "U1_WjIMV5aka",
        "outputId": "37111a99-8c7a-4669-c221-72c383d9bd42"
      },
      "outputs": [
        {
          "data": {
            "text/plain": [
              "(368433, 33)"
            ]
          },
          "execution_count": 56,
          "metadata": {},
          "output_type": "execute_result"
        }
      ],
      "source": [
        "binary_df.shape"
      ]
    },
    {
      "cell_type": "markdown",
      "metadata": {
        "id": "QRu3tbKA8HbQ"
      },
      "source": [
        "10. Concatena los dataframes obtenidos: `minmax_df` (cuyas variables numéricas ya están transformadas y escaladas) y las codificaciones anteriores (`onehot_df` y `binary_df`). Toma en cuenta que si los índices de los dataframes no coinciden, la concatenación no se realizará correctamente. Utiliza `reset_index(drop=True, inplace=True)` para restablecer los índices."
      ]
    },
    {
      "cell_type": "code",
      "execution_count": null,
      "metadata": {
        "colab": {
          "base_uri": "https://localhost:8080/"
        },
        "id": "svK6DO298cCf",
        "outputId": "92e47508-63a8-4b0d-ed71-affc61354771"
      },
      "outputs": [
        {
          "name": "stdout",
          "output_type": "stream",
          "text": [
            "DataFrame final después de la concatenación:\n"
          ]
        },
        {
          "data": {
            "text/html": [
              "<div>\n",
              "<style scoped>\n",
              "    .dataframe tbody tr th:only-of-type {\n",
              "        vertical-align: middle;\n",
              "    }\n",
              "\n",
              "    .dataframe tbody tr th {\n",
              "        vertical-align: top;\n",
              "    }\n",
              "\n",
              "    .dataframe thead th {\n",
              "        text-align: right;\n",
              "    }\n",
              "</style>\n",
              "<table border=\"1\" class=\"dataframe\">\n",
              "  <thead>\n",
              "    <tr style=\"text-align: right;\">\n",
              "      <th></th>\n",
              "      <th>price</th>\n",
              "      <th>age</th>\n",
              "      <th>odometer</th>\n",
              "      <th>manufacturer_alfa-romeo</th>\n",
              "      <th>manufacturer_aston-martin</th>\n",
              "      <th>manufacturer_audi</th>\n",
              "      <th>manufacturer_bmw</th>\n",
              "      <th>manufacturer_buick</th>\n",
              "      <th>manufacturer_cadillac</th>\n",
              "      <th>manufacturer_chevrolet</th>\n",
              "      <th>manufacturer_chrysler</th>\n",
              "      <th>manufacturer_dodge</th>\n",
              "      <th>manufacturer_ferrari</th>\n",
              "      <th>manufacturer_fiat</th>\n",
              "      <th>manufacturer_ford</th>\n",
              "      <th>manufacturer_gmc</th>\n",
              "      <th>manufacturer_harley-davidson</th>\n",
              "      <th>manufacturer_honda</th>\n",
              "      <th>manufacturer_hyundai</th>\n",
              "      <th>manufacturer_infiniti</th>\n",
              "      <th>manufacturer_jaguar</th>\n",
              "      <th>manufacturer_jeep</th>\n",
              "      <th>manufacturer_kia</th>\n",
              "      <th>manufacturer_land rover</th>\n",
              "      <th>manufacturer_lexus</th>\n",
              "      <th>manufacturer_lincoln</th>\n",
              "      <th>manufacturer_mazda</th>\n",
              "      <th>manufacturer_mercedes-benz</th>\n",
              "      <th>manufacturer_mercury</th>\n",
              "      <th>manufacturer_mini</th>\n",
              "      <th>manufacturer_mitsubishi</th>\n",
              "      <th>manufacturer_nissan</th>\n",
              "      <th>manufacturer_pontiac</th>\n",
              "      <th>manufacturer_porsche</th>\n",
              "      <th>manufacturer_ram</th>\n",
              "      <th>manufacturer_rover</th>\n",
              "      <th>manufacturer_saturn</th>\n",
              "      <th>manufacturer_subaru</th>\n",
              "      <th>manufacturer_tesla</th>\n",
              "      <th>manufacturer_toyota</th>\n",
              "      <th>manufacturer_volkswagen</th>\n",
              "      <th>manufacturer_volvo</th>\n",
              "      <th>fuel_electric</th>\n",
              "      <th>fuel_gas</th>\n",
              "      <th>fuel_hybrid</th>\n",
              "      <th>fuel_other</th>\n",
              "      <th>title_status_lien</th>\n",
              "      <th>title_status_missing</th>\n",
              "      <th>title_status_parts only</th>\n",
              "      <th>title_status_rebuilt</th>\n",
              "      <th>title_status_salvage</th>\n",
              "      <th>transmission_manual</th>\n",
              "      <th>transmission_other</th>\n",
              "      <th>type_bus</th>\n",
              "      <th>type_convertible</th>\n",
              "      <th>type_coupe</th>\n",
              "      <th>type_hatchback</th>\n",
              "      <th>type_mini-van</th>\n",
              "      <th>type_offroad</th>\n",
              "      <th>type_other</th>\n",
              "      <th>type_pickup</th>\n",
              "      <th>type_sedan</th>\n",
              "      <th>type_truck</th>\n",
              "      <th>type_van</th>\n",
              "      <th>type_wagon</th>\n",
              "      <th>state_al</th>\n",
              "      <th>state_ar</th>\n",
              "      <th>state_az</th>\n",
              "      <th>state_ca</th>\n",
              "      <th>state_co</th>\n",
              "      <th>state_ct</th>\n",
              "      <th>state_dc</th>\n",
              "      <th>state_de</th>\n",
              "      <th>state_fl</th>\n",
              "      <th>state_ga</th>\n",
              "      <th>state_hi</th>\n",
              "      <th>state_ia</th>\n",
              "      <th>state_id</th>\n",
              "      <th>state_il</th>\n",
              "      <th>state_in</th>\n",
              "      <th>state_ks</th>\n",
              "      <th>state_ky</th>\n",
              "      <th>state_la</th>\n",
              "      <th>state_ma</th>\n",
              "      <th>state_md</th>\n",
              "      <th>state_me</th>\n",
              "      <th>state_mi</th>\n",
              "      <th>state_mn</th>\n",
              "      <th>state_mo</th>\n",
              "      <th>state_ms</th>\n",
              "      <th>state_mt</th>\n",
              "      <th>state_nc</th>\n",
              "      <th>state_nd</th>\n",
              "      <th>state_ne</th>\n",
              "      <th>state_nh</th>\n",
              "      <th>state_nj</th>\n",
              "      <th>state_nm</th>\n",
              "      <th>state_nv</th>\n",
              "      <th>state_ny</th>\n",
              "      <th>state_oh</th>\n",
              "      <th>state_ok</th>\n",
              "      <th>state_or</th>\n",
              "      <th>state_pa</th>\n",
              "      <th>state_ri</th>\n",
              "      <th>state_sc</th>\n",
              "      <th>state_sd</th>\n",
              "      <th>state_tn</th>\n",
              "      <th>state_tx</th>\n",
              "      <th>state_ut</th>\n",
              "      <th>state_va</th>\n",
              "      <th>state_vt</th>\n",
              "      <th>state_wa</th>\n",
              "      <th>state_wi</th>\n",
              "      <th>state_wv</th>\n",
              "      <th>state_wy</th>\n",
              "      <th>region_0</th>\n",
              "      <th>region_1</th>\n",
              "      <th>region_2</th>\n",
              "      <th>region_3</th>\n",
              "      <th>region_4</th>\n",
              "      <th>region_5</th>\n",
              "      <th>region_6</th>\n",
              "      <th>region_7</th>\n",
              "      <th>region_8</th>\n",
              "      <th>region_url_0</th>\n",
              "      <th>region_url_1</th>\n",
              "      <th>region_url_2</th>\n",
              "      <th>region_url_3</th>\n",
              "      <th>region_url_4</th>\n",
              "      <th>region_url_5</th>\n",
              "      <th>region_url_6</th>\n",
              "      <th>region_url_7</th>\n",
              "      <th>region_url_8</th>\n",
              "      <th>model_0</th>\n",
              "      <th>model_1</th>\n",
              "      <th>model_2</th>\n",
              "      <th>model_3</th>\n",
              "      <th>model_4</th>\n",
              "      <th>model_5</th>\n",
              "      <th>model_6</th>\n",
              "      <th>model_7</th>\n",
              "      <th>model_8</th>\n",
              "      <th>model_9</th>\n",
              "      <th>model_10</th>\n",
              "      <th>model_11</th>\n",
              "      <th>model_12</th>\n",
              "      <th>model_13</th>\n",
              "      <th>model_14</th>\n",
              "    </tr>\n",
              "  </thead>\n",
              "  <tbody>\n",
              "    <tr>\n",
              "      <th>0</th>\n",
              "      <td>0.794413</td>\n",
              "      <td>0.565257</td>\n",
              "      <td>0.435888</td>\n",
              "      <td>0</td>\n",
              "      <td>0</td>\n",
              "      <td>0</td>\n",
              "      <td>0</td>\n",
              "      <td>0</td>\n",
              "      <td>0</td>\n",
              "      <td>0</td>\n",
              "      <td>0</td>\n",
              "      <td>0</td>\n",
              "      <td>0</td>\n",
              "      <td>0</td>\n",
              "      <td>0</td>\n",
              "      <td>1</td>\n",
              "      <td>0</td>\n",
              "      <td>0</td>\n",
              "      <td>0</td>\n",
              "      <td>0</td>\n",
              "      <td>0</td>\n",
              "      <td>0</td>\n",
              "      <td>0</td>\n",
              "      <td>0</td>\n",
              "      <td>0</td>\n",
              "      <td>0</td>\n",
              "      <td>0</td>\n",
              "      <td>0</td>\n",
              "      <td>0</td>\n",
              "      <td>0</td>\n",
              "      <td>0</td>\n",
              "      <td>0</td>\n",
              "      <td>0</td>\n",
              "      <td>0</td>\n",
              "      <td>0</td>\n",
              "      <td>0</td>\n",
              "      <td>0</td>\n",
              "      <td>0</td>\n",
              "      <td>0</td>\n",
              "      <td>0</td>\n",
              "      <td>0</td>\n",
              "      <td>0</td>\n",
              "      <td>0</td>\n",
              "      <td>1</td>\n",
              "      <td>0</td>\n",
              "      <td>0</td>\n",
              "      <td>0</td>\n",
              "      <td>0</td>\n",
              "      <td>0</td>\n",
              "      <td>0</td>\n",
              "      <td>0</td>\n",
              "      <td>0</td>\n",
              "      <td>1</td>\n",
              "      <td>0</td>\n",
              "      <td>0</td>\n",
              "      <td>0</td>\n",
              "      <td>0</td>\n",
              "      <td>0</td>\n",
              "      <td>0</td>\n",
              "      <td>0</td>\n",
              "      <td>1</td>\n",
              "      <td>0</td>\n",
              "      <td>0</td>\n",
              "      <td>0</td>\n",
              "      <td>0</td>\n",
              "      <td>1</td>\n",
              "      <td>0</td>\n",
              "      <td>0</td>\n",
              "      <td>0</td>\n",
              "      <td>0</td>\n",
              "      <td>0</td>\n",
              "      <td>0</td>\n",
              "      <td>0</td>\n",
              "      <td>0</td>\n",
              "      <td>0</td>\n",
              "      <td>0</td>\n",
              "      <td>0</td>\n",
              "      <td>0</td>\n",
              "      <td>0</td>\n",
              "      <td>0</td>\n",
              "      <td>0</td>\n",
              "      <td>0</td>\n",
              "      <td>0</td>\n",
              "      <td>0</td>\n",
              "      <td>0</td>\n",
              "      <td>0</td>\n",
              "      <td>0</td>\n",
              "      <td>0</td>\n",
              "      <td>0</td>\n",
              "      <td>0</td>\n",
              "      <td>0</td>\n",
              "      <td>0</td>\n",
              "      <td>0</td>\n",
              "      <td>0</td>\n",
              "      <td>0</td>\n",
              "      <td>0</td>\n",
              "      <td>0</td>\n",
              "      <td>0</td>\n",
              "      <td>0</td>\n",
              "      <td>0</td>\n",
              "      <td>0</td>\n",
              "      <td>0</td>\n",
              "      <td>0</td>\n",
              "      <td>0</td>\n",
              "      <td>0</td>\n",
              "      <td>0</td>\n",
              "      <td>0</td>\n",
              "      <td>0</td>\n",
              "      <td>0</td>\n",
              "      <td>0</td>\n",
              "      <td>0</td>\n",
              "      <td>0</td>\n",
              "      <td>0</td>\n",
              "      <td>0</td>\n",
              "      <td>0</td>\n",
              "      <td>0</td>\n",
              "      <td>0</td>\n",
              "      <td>0</td>\n",
              "      <td>0</td>\n",
              "      <td>0</td>\n",
              "      <td>0</td>\n",
              "      <td>0</td>\n",
              "      <td>0</td>\n",
              "      <td>1</td>\n",
              "      <td>0</td>\n",
              "      <td>0</td>\n",
              "      <td>0</td>\n",
              "      <td>0</td>\n",
              "      <td>0</td>\n",
              "      <td>0</td>\n",
              "      <td>0</td>\n",
              "      <td>0</td>\n",
              "      <td>1</td>\n",
              "      <td>0</td>\n",
              "      <td>0</td>\n",
              "      <td>0</td>\n",
              "      <td>0</td>\n",
              "      <td>0</td>\n",
              "      <td>0</td>\n",
              "      <td>0</td>\n",
              "      <td>0</td>\n",
              "      <td>0</td>\n",
              "      <td>0</td>\n",
              "      <td>0</td>\n",
              "      <td>0</td>\n",
              "      <td>0</td>\n",
              "      <td>0</td>\n",
              "      <td>1</td>\n",
              "    </tr>\n",
              "    <tr>\n",
              "      <th>1</th>\n",
              "      <td>0.669900</td>\n",
              "      <td>0.699813</td>\n",
              "      <td>0.486465</td>\n",
              "      <td>0</td>\n",
              "      <td>0</td>\n",
              "      <td>0</td>\n",
              "      <td>0</td>\n",
              "      <td>0</td>\n",
              "      <td>0</td>\n",
              "      <td>1</td>\n",
              "      <td>0</td>\n",
              "      <td>0</td>\n",
              "      <td>0</td>\n",
              "      <td>0</td>\n",
              "      <td>0</td>\n",
              "      <td>0</td>\n",
              "      <td>0</td>\n",
              "      <td>0</td>\n",
              "      <td>0</td>\n",
              "      <td>0</td>\n",
              "      <td>0</td>\n",
              "      <td>0</td>\n",
              "      <td>0</td>\n",
              "      <td>0</td>\n",
              "      <td>0</td>\n",
              "      <td>0</td>\n",
              "      <td>0</td>\n",
              "      <td>0</td>\n",
              "      <td>0</td>\n",
              "      <td>0</td>\n",
              "      <td>0</td>\n",
              "      <td>0</td>\n",
              "      <td>0</td>\n",
              "      <td>0</td>\n",
              "      <td>0</td>\n",
              "      <td>0</td>\n",
              "      <td>0</td>\n",
              "      <td>0</td>\n",
              "      <td>0</td>\n",
              "      <td>0</td>\n",
              "      <td>0</td>\n",
              "      <td>0</td>\n",
              "      <td>0</td>\n",
              "      <td>1</td>\n",
              "      <td>0</td>\n",
              "      <td>0</td>\n",
              "      <td>0</td>\n",
              "      <td>0</td>\n",
              "      <td>0</td>\n",
              "      <td>0</td>\n",
              "      <td>0</td>\n",
              "      <td>0</td>\n",
              "      <td>1</td>\n",
              "      <td>0</td>\n",
              "      <td>0</td>\n",
              "      <td>0</td>\n",
              "      <td>0</td>\n",
              "      <td>0</td>\n",
              "      <td>0</td>\n",
              "      <td>0</td>\n",
              "      <td>1</td>\n",
              "      <td>0</td>\n",
              "      <td>0</td>\n",
              "      <td>0</td>\n",
              "      <td>0</td>\n",
              "      <td>1</td>\n",
              "      <td>0</td>\n",
              "      <td>0</td>\n",
              "      <td>0</td>\n",
              "      <td>0</td>\n",
              "      <td>0</td>\n",
              "      <td>0</td>\n",
              "      <td>0</td>\n",
              "      <td>0</td>\n",
              "      <td>0</td>\n",
              "      <td>0</td>\n",
              "      <td>0</td>\n",
              "      <td>0</td>\n",
              "      <td>0</td>\n",
              "      <td>0</td>\n",
              "      <td>0</td>\n",
              "      <td>0</td>\n",
              "      <td>0</td>\n",
              "      <td>0</td>\n",
              "      <td>0</td>\n",
              "      <td>0</td>\n",
              "      <td>0</td>\n",
              "      <td>0</td>\n",
              "      <td>0</td>\n",
              "      <td>0</td>\n",
              "      <td>0</td>\n",
              "      <td>0</td>\n",
              "      <td>0</td>\n",
              "      <td>0</td>\n",
              "      <td>0</td>\n",
              "      <td>0</td>\n",
              "      <td>0</td>\n",
              "      <td>0</td>\n",
              "      <td>0</td>\n",
              "      <td>0</td>\n",
              "      <td>0</td>\n",
              "      <td>0</td>\n",
              "      <td>0</td>\n",
              "      <td>0</td>\n",
              "      <td>0</td>\n",
              "      <td>0</td>\n",
              "      <td>0</td>\n",
              "      <td>0</td>\n",
              "      <td>0</td>\n",
              "      <td>0</td>\n",
              "      <td>0</td>\n",
              "      <td>0</td>\n",
              "      <td>0</td>\n",
              "      <td>0</td>\n",
              "      <td>0</td>\n",
              "      <td>0</td>\n",
              "      <td>0</td>\n",
              "      <td>0</td>\n",
              "      <td>0</td>\n",
              "      <td>0</td>\n",
              "      <td>0</td>\n",
              "      <td>0</td>\n",
              "      <td>0</td>\n",
              "      <td>1</td>\n",
              "      <td>0</td>\n",
              "      <td>0</td>\n",
              "      <td>0</td>\n",
              "      <td>0</td>\n",
              "      <td>0</td>\n",
              "      <td>0</td>\n",
              "      <td>0</td>\n",
              "      <td>0</td>\n",
              "      <td>1</td>\n",
              "      <td>0</td>\n",
              "      <td>0</td>\n",
              "      <td>0</td>\n",
              "      <td>0</td>\n",
              "      <td>0</td>\n",
              "      <td>0</td>\n",
              "      <td>0</td>\n",
              "      <td>0</td>\n",
              "      <td>0</td>\n",
              "      <td>0</td>\n",
              "      <td>0</td>\n",
              "      <td>0</td>\n",
              "      <td>0</td>\n",
              "      <td>1</td>\n",
              "      <td>0</td>\n",
              "    </tr>\n",
              "    <tr>\n",
              "      <th>2</th>\n",
              "      <td>0.852455</td>\n",
              "      <td>0.222541</td>\n",
              "      <td>0.242097</td>\n",
              "      <td>0</td>\n",
              "      <td>0</td>\n",
              "      <td>0</td>\n",
              "      <td>0</td>\n",
              "      <td>0</td>\n",
              "      <td>0</td>\n",
              "      <td>1</td>\n",
              "      <td>0</td>\n",
              "      <td>0</td>\n",
              "      <td>0</td>\n",
              "      <td>0</td>\n",
              "      <td>0</td>\n",
              "      <td>0</td>\n",
              "      <td>0</td>\n",
              "      <td>0</td>\n",
              "      <td>0</td>\n",
              "      <td>0</td>\n",
              "      <td>0</td>\n",
              "      <td>0</td>\n",
              "      <td>0</td>\n",
              "      <td>0</td>\n",
              "      <td>0</td>\n",
              "      <td>0</td>\n",
              "      <td>0</td>\n",
              "      <td>0</td>\n",
              "      <td>0</td>\n",
              "      <td>0</td>\n",
              "      <td>0</td>\n",
              "      <td>0</td>\n",
              "      <td>0</td>\n",
              "      <td>0</td>\n",
              "      <td>0</td>\n",
              "      <td>0</td>\n",
              "      <td>0</td>\n",
              "      <td>0</td>\n",
              "      <td>0</td>\n",
              "      <td>0</td>\n",
              "      <td>0</td>\n",
              "      <td>0</td>\n",
              "      <td>0</td>\n",
              "      <td>1</td>\n",
              "      <td>0</td>\n",
              "      <td>0</td>\n",
              "      <td>0</td>\n",
              "      <td>0</td>\n",
              "      <td>0</td>\n",
              "      <td>0</td>\n",
              "      <td>0</td>\n",
              "      <td>0</td>\n",
              "      <td>1</td>\n",
              "      <td>0</td>\n",
              "      <td>0</td>\n",
              "      <td>0</td>\n",
              "      <td>0</td>\n",
              "      <td>0</td>\n",
              "      <td>0</td>\n",
              "      <td>0</td>\n",
              "      <td>1</td>\n",
              "      <td>0</td>\n",
              "      <td>0</td>\n",
              "      <td>0</td>\n",
              "      <td>0</td>\n",
              "      <td>1</td>\n",
              "      <td>0</td>\n",
              "      <td>0</td>\n",
              "      <td>0</td>\n",
              "      <td>0</td>\n",
              "      <td>0</td>\n",
              "      <td>0</td>\n",
              "      <td>0</td>\n",
              "      <td>0</td>\n",
              "      <td>0</td>\n",
              "      <td>0</td>\n",
              "      <td>0</td>\n",
              "      <td>0</td>\n",
              "      <td>0</td>\n",
              "      <td>0</td>\n",
              "      <td>0</td>\n",
              "      <td>0</td>\n",
              "      <td>0</td>\n",
              "      <td>0</td>\n",
              "      <td>0</td>\n",
              "      <td>0</td>\n",
              "      <td>0</td>\n",
              "      <td>0</td>\n",
              "      <td>0</td>\n",
              "      <td>0</td>\n",
              "      <td>0</td>\n",
              "      <td>0</td>\n",
              "      <td>0</td>\n",
              "      <td>0</td>\n",
              "      <td>0</td>\n",
              "      <td>0</td>\n",
              "      <td>0</td>\n",
              "      <td>0</td>\n",
              "      <td>0</td>\n",
              "      <td>0</td>\n",
              "      <td>0</td>\n",
              "      <td>0</td>\n",
              "      <td>0</td>\n",
              "      <td>0</td>\n",
              "      <td>0</td>\n",
              "      <td>0</td>\n",
              "      <td>0</td>\n",
              "      <td>0</td>\n",
              "      <td>0</td>\n",
              "      <td>0</td>\n",
              "      <td>0</td>\n",
              "      <td>0</td>\n",
              "      <td>0</td>\n",
              "      <td>0</td>\n",
              "      <td>0</td>\n",
              "      <td>0</td>\n",
              "      <td>0</td>\n",
              "      <td>0</td>\n",
              "      <td>0</td>\n",
              "      <td>0</td>\n",
              "      <td>0</td>\n",
              "      <td>0</td>\n",
              "      <td>0</td>\n",
              "      <td>1</td>\n",
              "      <td>0</td>\n",
              "      <td>0</td>\n",
              "      <td>0</td>\n",
              "      <td>0</td>\n",
              "      <td>0</td>\n",
              "      <td>0</td>\n",
              "      <td>0</td>\n",
              "      <td>0</td>\n",
              "      <td>1</td>\n",
              "      <td>0</td>\n",
              "      <td>0</td>\n",
              "      <td>0</td>\n",
              "      <td>0</td>\n",
              "      <td>0</td>\n",
              "      <td>0</td>\n",
              "      <td>0</td>\n",
              "      <td>0</td>\n",
              "      <td>0</td>\n",
              "      <td>0</td>\n",
              "      <td>0</td>\n",
              "      <td>0</td>\n",
              "      <td>0</td>\n",
              "      <td>1</td>\n",
              "      <td>1</td>\n",
              "    </tr>\n",
              "    <tr>\n",
              "      <th>3</th>\n",
              "      <td>0.767405</td>\n",
              "      <td>0.426949</td>\n",
              "      <td>0.363384</td>\n",
              "      <td>0</td>\n",
              "      <td>0</td>\n",
              "      <td>0</td>\n",
              "      <td>0</td>\n",
              "      <td>0</td>\n",
              "      <td>0</td>\n",
              "      <td>0</td>\n",
              "      <td>0</td>\n",
              "      <td>0</td>\n",
              "      <td>0</td>\n",
              "      <td>0</td>\n",
              "      <td>0</td>\n",
              "      <td>0</td>\n",
              "      <td>0</td>\n",
              "      <td>0</td>\n",
              "      <td>0</td>\n",
              "      <td>0</td>\n",
              "      <td>0</td>\n",
              "      <td>0</td>\n",
              "      <td>0</td>\n",
              "      <td>0</td>\n",
              "      <td>0</td>\n",
              "      <td>0</td>\n",
              "      <td>0</td>\n",
              "      <td>0</td>\n",
              "      <td>0</td>\n",
              "      <td>0</td>\n",
              "      <td>0</td>\n",
              "      <td>0</td>\n",
              "      <td>0</td>\n",
              "      <td>0</td>\n",
              "      <td>0</td>\n",
              "      <td>0</td>\n",
              "      <td>0</td>\n",
              "      <td>0</td>\n",
              "      <td>0</td>\n",
              "      <td>1</td>\n",
              "      <td>0</td>\n",
              "      <td>0</td>\n",
              "      <td>0</td>\n",
              "      <td>1</td>\n",
              "      <td>0</td>\n",
              "      <td>0</td>\n",
              "      <td>0</td>\n",
              "      <td>0</td>\n",
              "      <td>0</td>\n",
              "      <td>0</td>\n",
              "      <td>0</td>\n",
              "      <td>0</td>\n",
              "      <td>1</td>\n",
              "      <td>0</td>\n",
              "      <td>0</td>\n",
              "      <td>0</td>\n",
              "      <td>0</td>\n",
              "      <td>0</td>\n",
              "      <td>0</td>\n",
              "      <td>0</td>\n",
              "      <td>1</td>\n",
              "      <td>0</td>\n",
              "      <td>0</td>\n",
              "      <td>0</td>\n",
              "      <td>0</td>\n",
              "      <td>1</td>\n",
              "      <td>0</td>\n",
              "      <td>0</td>\n",
              "      <td>0</td>\n",
              "      <td>0</td>\n",
              "      <td>0</td>\n",
              "      <td>0</td>\n",
              "      <td>0</td>\n",
              "      <td>0</td>\n",
              "      <td>0</td>\n",
              "      <td>0</td>\n",
              "      <td>0</td>\n",
              "      <td>0</td>\n",
              "      <td>0</td>\n",
              "      <td>0</td>\n",
              "      <td>0</td>\n",
              "      <td>0</td>\n",
              "      <td>0</td>\n",
              "      <td>0</td>\n",
              "      <td>0</td>\n",
              "      <td>0</td>\n",
              "      <td>0</td>\n",
              "      <td>0</td>\n",
              "      <td>0</td>\n",
              "      <td>0</td>\n",
              "      <td>0</td>\n",
              "      <td>0</td>\n",
              "      <td>0</td>\n",
              "      <td>0</td>\n",
              "      <td>0</td>\n",
              "      <td>0</td>\n",
              "      <td>0</td>\n",
              "      <td>0</td>\n",
              "      <td>0</td>\n",
              "      <td>0</td>\n",
              "      <td>0</td>\n",
              "      <td>0</td>\n",
              "      <td>0</td>\n",
              "      <td>0</td>\n",
              "      <td>0</td>\n",
              "      <td>0</td>\n",
              "      <td>0</td>\n",
              "      <td>0</td>\n",
              "      <td>0</td>\n",
              "      <td>0</td>\n",
              "      <td>0</td>\n",
              "      <td>0</td>\n",
              "      <td>0</td>\n",
              "      <td>0</td>\n",
              "      <td>0</td>\n",
              "      <td>0</td>\n",
              "      <td>0</td>\n",
              "      <td>0</td>\n",
              "      <td>0</td>\n",
              "      <td>0</td>\n",
              "      <td>0</td>\n",
              "      <td>0</td>\n",
              "      <td>0</td>\n",
              "      <td>1</td>\n",
              "      <td>0</td>\n",
              "      <td>0</td>\n",
              "      <td>0</td>\n",
              "      <td>0</td>\n",
              "      <td>0</td>\n",
              "      <td>0</td>\n",
              "      <td>0</td>\n",
              "      <td>0</td>\n",
              "      <td>1</td>\n",
              "      <td>0</td>\n",
              "      <td>0</td>\n",
              "      <td>0</td>\n",
              "      <td>0</td>\n",
              "      <td>0</td>\n",
              "      <td>0</td>\n",
              "      <td>0</td>\n",
              "      <td>0</td>\n",
              "      <td>0</td>\n",
              "      <td>0</td>\n",
              "      <td>0</td>\n",
              "      <td>0</td>\n",
              "      <td>1</td>\n",
              "      <td>0</td>\n",
              "      <td>0</td>\n",
              "    </tr>\n",
              "    <tr>\n",
              "      <th>4</th>\n",
              "      <td>0.561575</td>\n",
              "      <td>0.603020</td>\n",
              "      <td>0.663928</td>\n",
              "      <td>0</td>\n",
              "      <td>0</td>\n",
              "      <td>0</td>\n",
              "      <td>0</td>\n",
              "      <td>0</td>\n",
              "      <td>0</td>\n",
              "      <td>0</td>\n",
              "      <td>0</td>\n",
              "      <td>0</td>\n",
              "      <td>0</td>\n",
              "      <td>0</td>\n",
              "      <td>1</td>\n",
              "      <td>0</td>\n",
              "      <td>0</td>\n",
              "      <td>0</td>\n",
              "      <td>0</td>\n",
              "      <td>0</td>\n",
              "      <td>0</td>\n",
              "      <td>0</td>\n",
              "      <td>0</td>\n",
              "      <td>0</td>\n",
              "      <td>0</td>\n",
              "      <td>0</td>\n",
              "      <td>0</td>\n",
              "      <td>0</td>\n",
              "      <td>0</td>\n",
              "      <td>0</td>\n",
              "      <td>0</td>\n",
              "      <td>0</td>\n",
              "      <td>0</td>\n",
              "      <td>0</td>\n",
              "      <td>0</td>\n",
              "      <td>0</td>\n",
              "      <td>0</td>\n",
              "      <td>0</td>\n",
              "      <td>0</td>\n",
              "      <td>0</td>\n",
              "      <td>0</td>\n",
              "      <td>0</td>\n",
              "      <td>0</td>\n",
              "      <td>1</td>\n",
              "      <td>0</td>\n",
              "      <td>0</td>\n",
              "      <td>0</td>\n",
              "      <td>0</td>\n",
              "      <td>0</td>\n",
              "      <td>0</td>\n",
              "      <td>0</td>\n",
              "      <td>0</td>\n",
              "      <td>0</td>\n",
              "      <td>0</td>\n",
              "      <td>0</td>\n",
              "      <td>0</td>\n",
              "      <td>0</td>\n",
              "      <td>0</td>\n",
              "      <td>0</td>\n",
              "      <td>0</td>\n",
              "      <td>0</td>\n",
              "      <td>0</td>\n",
              "      <td>1</td>\n",
              "      <td>0</td>\n",
              "      <td>0</td>\n",
              "      <td>1</td>\n",
              "      <td>0</td>\n",
              "      <td>0</td>\n",
              "      <td>0</td>\n",
              "      <td>0</td>\n",
              "      <td>0</td>\n",
              "      <td>0</td>\n",
              "      <td>0</td>\n",
              "      <td>0</td>\n",
              "      <td>0</td>\n",
              "      <td>0</td>\n",
              "      <td>0</td>\n",
              "      <td>0</td>\n",
              "      <td>0</td>\n",
              "      <td>0</td>\n",
              "      <td>0</td>\n",
              "      <td>0</td>\n",
              "      <td>0</td>\n",
              "      <td>0</td>\n",
              "      <td>0</td>\n",
              "      <td>0</td>\n",
              "      <td>0</td>\n",
              "      <td>0</td>\n",
              "      <td>0</td>\n",
              "      <td>0</td>\n",
              "      <td>0</td>\n",
              "      <td>0</td>\n",
              "      <td>0</td>\n",
              "      <td>0</td>\n",
              "      <td>0</td>\n",
              "      <td>0</td>\n",
              "      <td>0</td>\n",
              "      <td>0</td>\n",
              "      <td>0</td>\n",
              "      <td>0</td>\n",
              "      <td>0</td>\n",
              "      <td>0</td>\n",
              "      <td>0</td>\n",
              "      <td>0</td>\n",
              "      <td>0</td>\n",
              "      <td>0</td>\n",
              "      <td>0</td>\n",
              "      <td>0</td>\n",
              "      <td>0</td>\n",
              "      <td>0</td>\n",
              "      <td>0</td>\n",
              "      <td>0</td>\n",
              "      <td>0</td>\n",
              "      <td>0</td>\n",
              "      <td>0</td>\n",
              "      <td>0</td>\n",
              "      <td>0</td>\n",
              "      <td>0</td>\n",
              "      <td>0</td>\n",
              "      <td>0</td>\n",
              "      <td>0</td>\n",
              "      <td>0</td>\n",
              "      <td>0</td>\n",
              "      <td>1</td>\n",
              "      <td>0</td>\n",
              "      <td>0</td>\n",
              "      <td>0</td>\n",
              "      <td>0</td>\n",
              "      <td>0</td>\n",
              "      <td>0</td>\n",
              "      <td>0</td>\n",
              "      <td>0</td>\n",
              "      <td>1</td>\n",
              "      <td>0</td>\n",
              "      <td>0</td>\n",
              "      <td>0</td>\n",
              "      <td>0</td>\n",
              "      <td>0</td>\n",
              "      <td>0</td>\n",
              "      <td>0</td>\n",
              "      <td>0</td>\n",
              "      <td>0</td>\n",
              "      <td>0</td>\n",
              "      <td>0</td>\n",
              "      <td>0</td>\n",
              "      <td>1</td>\n",
              "      <td>0</td>\n",
              "      <td>1</td>\n",
              "    </tr>\n",
              "  </tbody>\n",
              "</table>\n",
              "</div>"
            ],
            "text/plain": [
              "      price       age  odometer  manufacturer_alfa-romeo  \\\n",
              "0  0.794413  0.565257  0.435888                        0   \n",
              "1  0.669900  0.699813  0.486465                        0   \n",
              "2  0.852455  0.222541  0.242097                        0   \n",
              "3  0.767405  0.426949  0.363384                        0   \n",
              "4  0.561575  0.603020  0.663928                        0   \n",
              "\n",
              "   manufacturer_aston-martin  manufacturer_audi  manufacturer_bmw  \\\n",
              "0                          0                  0                 0   \n",
              "1                          0                  0                 0   \n",
              "2                          0                  0                 0   \n",
              "3                          0                  0                 0   \n",
              "4                          0                  0                 0   \n",
              "\n",
              "   manufacturer_buick  manufacturer_cadillac  manufacturer_chevrolet  \\\n",
              "0                   0                      0                       0   \n",
              "1                   0                      0                       1   \n",
              "2                   0                      0                       1   \n",
              "3                   0                      0                       0   \n",
              "4                   0                      0                       0   \n",
              "\n",
              "   manufacturer_chrysler  manufacturer_dodge  manufacturer_ferrari  \\\n",
              "0                      0                   0                     0   \n",
              "1                      0                   0                     0   \n",
              "2                      0                   0                     0   \n",
              "3                      0                   0                     0   \n",
              "4                      0                   0                     0   \n",
              "\n",
              "   manufacturer_fiat  manufacturer_ford  manufacturer_gmc  \\\n",
              "0                  0                  0                 1   \n",
              "1                  0                  0                 0   \n",
              "2                  0                  0                 0   \n",
              "3                  0                  0                 0   \n",
              "4                  0                  1                 0   \n",
              "\n",
              "   manufacturer_harley-davidson  manufacturer_honda  manufacturer_hyundai  \\\n",
              "0                             0                   0                     0   \n",
              "1                             0                   0                     0   \n",
              "2                             0                   0                     0   \n",
              "3                             0                   0                     0   \n",
              "4                             0                   0                     0   \n",
              "\n",
              "   manufacturer_infiniti  manufacturer_jaguar  manufacturer_jeep  \\\n",
              "0                      0                    0                  0   \n",
              "1                      0                    0                  0   \n",
              "2                      0                    0                  0   \n",
              "3                      0                    0                  0   \n",
              "4                      0                    0                  0   \n",
              "\n",
              "   manufacturer_kia  manufacturer_land rover  manufacturer_lexus  \\\n",
              "0                 0                        0                   0   \n",
              "1                 0                        0                   0   \n",
              "2                 0                        0                   0   \n",
              "3                 0                        0                   0   \n",
              "4                 0                        0                   0   \n",
              "\n",
              "   manufacturer_lincoln  manufacturer_mazda  manufacturer_mercedes-benz  \\\n",
              "0                     0                   0                           0   \n",
              "1                     0                   0                           0   \n",
              "2                     0                   0                           0   \n",
              "3                     0                   0                           0   \n",
              "4                     0                   0                           0   \n",
              "\n",
              "   manufacturer_mercury  manufacturer_mini  manufacturer_mitsubishi  \\\n",
              "0                     0                  0                        0   \n",
              "1                     0                  0                        0   \n",
              "2                     0                  0                        0   \n",
              "3                     0                  0                        0   \n",
              "4                     0                  0                        0   \n",
              "\n",
              "   manufacturer_nissan  manufacturer_pontiac  manufacturer_porsche  \\\n",
              "0                    0                     0                     0   \n",
              "1                    0                     0                     0   \n",
              "2                    0                     0                     0   \n",
              "3                    0                     0                     0   \n",
              "4                    0                     0                     0   \n",
              "\n",
              "   manufacturer_ram  manufacturer_rover  manufacturer_saturn  \\\n",
              "0                 0                   0                    0   \n",
              "1                 0                   0                    0   \n",
              "2                 0                   0                    0   \n",
              "3                 0                   0                    0   \n",
              "4                 0                   0                    0   \n",
              "\n",
              "   manufacturer_subaru  manufacturer_tesla  manufacturer_toyota  \\\n",
              "0                    0                   0                    0   \n",
              "1                    0                   0                    0   \n",
              "2                    0                   0                    0   \n",
              "3                    0                   0                    1   \n",
              "4                    0                   0                    0   \n",
              "\n",
              "   manufacturer_volkswagen  manufacturer_volvo  fuel_electric  fuel_gas  \\\n",
              "0                        0                   0              0         1   \n",
              "1                        0                   0              0         1   \n",
              "2                        0                   0              0         1   \n",
              "3                        0                   0              0         1   \n",
              "4                        0                   0              0         1   \n",
              "\n",
              "   fuel_hybrid  fuel_other  title_status_lien  title_status_missing  \\\n",
              "0            0           0                  0                     0   \n",
              "1            0           0                  0                     0   \n",
              "2            0           0                  0                     0   \n",
              "3            0           0                  0                     0   \n",
              "4            0           0                  0                     0   \n",
              "\n",
              "   title_status_parts only  title_status_rebuilt  title_status_salvage  \\\n",
              "0                        0                     0                     0   \n",
              "1                        0                     0                     0   \n",
              "2                        0                     0                     0   \n",
              "3                        0                     0                     0   \n",
              "4                        0                     0                     0   \n",
              "\n",
              "   transmission_manual  transmission_other  type_bus  type_convertible  \\\n",
              "0                    0                   1         0                 0   \n",
              "1                    0                   1         0                 0   \n",
              "2                    0                   1         0                 0   \n",
              "3                    0                   1         0                 0   \n",
              "4                    0                   0         0                 0   \n",
              "\n",
              "   type_coupe  type_hatchback  type_mini-van  type_offroad  type_other  \\\n",
              "0           0               0              0             0           0   \n",
              "1           0               0              0             0           0   \n",
              "2           0               0              0             0           0   \n",
              "3           0               0              0             0           0   \n",
              "4           0               0              0             0           0   \n",
              "\n",
              "   type_pickup  type_sedan  type_truck  type_van  type_wagon  state_al  \\\n",
              "0            1           0           0         0           0         1   \n",
              "1            1           0           0         0           0         1   \n",
              "2            1           0           0         0           0         1   \n",
              "3            1           0           0         0           0         1   \n",
              "4            0           0           1         0           0         1   \n",
              "\n",
              "   state_ar  state_az  state_ca  state_co  state_ct  state_dc  state_de  \\\n",
              "0         0         0         0         0         0         0         0   \n",
              "1         0         0         0         0         0         0         0   \n",
              "2         0         0         0         0         0         0         0   \n",
              "3         0         0         0         0         0         0         0   \n",
              "4         0         0         0         0         0         0         0   \n",
              "\n",
              "   state_fl  state_ga  state_hi  state_ia  state_id  state_il  state_in  \\\n",
              "0         0         0         0         0         0         0         0   \n",
              "1         0         0         0         0         0         0         0   \n",
              "2         0         0         0         0         0         0         0   \n",
              "3         0         0         0         0         0         0         0   \n",
              "4         0         0         0         0         0         0         0   \n",
              "\n",
              "   state_ks  state_ky  state_la  state_ma  state_md  state_me  state_mi  \\\n",
              "0         0         0         0         0         0         0         0   \n",
              "1         0         0         0         0         0         0         0   \n",
              "2         0         0         0         0         0         0         0   \n",
              "3         0         0         0         0         0         0         0   \n",
              "4         0         0         0         0         0         0         0   \n",
              "\n",
              "   state_mn  state_mo  state_ms  state_mt  state_nc  state_nd  state_ne  \\\n",
              "0         0         0         0         0         0         0         0   \n",
              "1         0         0         0         0         0         0         0   \n",
              "2         0         0         0         0         0         0         0   \n",
              "3         0         0         0         0         0         0         0   \n",
              "4         0         0         0         0         0         0         0   \n",
              "\n",
              "   state_nh  state_nj  state_nm  state_nv  state_ny  state_oh  state_ok  \\\n",
              "0         0         0         0         0         0         0         0   \n",
              "1         0         0         0         0         0         0         0   \n",
              "2         0         0         0         0         0         0         0   \n",
              "3         0         0         0         0         0         0         0   \n",
              "4         0         0         0         0         0         0         0   \n",
              "\n",
              "   state_or  state_pa  state_ri  state_sc  state_sd  state_tn  state_tx  \\\n",
              "0         0         0         0         0         0         0         0   \n",
              "1         0         0         0         0         0         0         0   \n",
              "2         0         0         0         0         0         0         0   \n",
              "3         0         0         0         0         0         0         0   \n",
              "4         0         0         0         0         0         0         0   \n",
              "\n",
              "   state_ut  state_va  state_vt  state_wa  state_wi  state_wv  state_wy  \\\n",
              "0         0         0         0         0         0         0         0   \n",
              "1         0         0         0         0         0         0         0   \n",
              "2         0         0         0         0         0         0         0   \n",
              "3         0         0         0         0         0         0         0   \n",
              "4         0         0         0         0         0         0         0   \n",
              "\n",
              "   region_0  region_1  region_2  region_3  region_4  region_5  region_6  \\\n",
              "0         0         0         0         0         0         0         0   \n",
              "1         0         0         0         0         0         0         0   \n",
              "2         0         0         0         0         0         0         0   \n",
              "3         0         0         0         0         0         0         0   \n",
              "4         0         0         0         0         0         0         0   \n",
              "\n",
              "   region_7  region_8  region_url_0  region_url_1  region_url_2  region_url_3  \\\n",
              "0         0         1             0             0             0             0   \n",
              "1         0         1             0             0             0             0   \n",
              "2         0         1             0             0             0             0   \n",
              "3         0         1             0             0             0             0   \n",
              "4         0         1             0             0             0             0   \n",
              "\n",
              "   region_url_4  region_url_5  region_url_6  region_url_7  region_url_8  \\\n",
              "0             0             0             0             0             1   \n",
              "1             0             0             0             0             1   \n",
              "2             0             0             0             0             1   \n",
              "3             0             0             0             0             1   \n",
              "4             0             0             0             0             1   \n",
              "\n",
              "   model_0  model_1  model_2  model_3  model_4  model_5  model_6  model_7  \\\n",
              "0        0        0        0        0        0        0        0        0   \n",
              "1        0        0        0        0        0        0        0        0   \n",
              "2        0        0        0        0        0        0        0        0   \n",
              "3        0        0        0        0        0        0        0        0   \n",
              "4        0        0        0        0        0        0        0        0   \n",
              "\n",
              "   model_8  model_9  model_10  model_11  model_12  model_13  model_14  \n",
              "0        0        0         0         0         0         0         1  \n",
              "1        0        0         0         0         0         1         0  \n",
              "2        0        0         0         0         0         1         1  \n",
              "3        0        0         0         0         1         0         0  \n",
              "4        0        0         0         0         1         0         1  "
            ]
          },
          "execution_count": 57,
          "metadata": {},
          "output_type": "execute_result"
        }
      ],
      "source": [
        "minmax_df.reset_index(drop=True, inplace=True)\n",
        "onehot_df.reset_index(drop=True, inplace=True)\n",
        "binary_df.reset_index(drop=True, inplace=True)\n",
        "\n",
        "final_df = pd.concat([minmax_df, onehot_df, binary_df], axis=1)\n",
        "\n",
        "# Verificar el DataFrame final\n",
        "print(\"DataFrame final después de la concatenación:\")\n",
        "final_df.head()"
      ]
    },
    {
      "cell_type": "code",
      "execution_count": null,
      "metadata": {
        "id": "XALke4mV5aka",
        "outputId": "43332976-d78d-4b41-98d0-5af526b004d0"
      },
      "outputs": [
        {
          "data": {
            "text/plain": [
              "(368433, 148)"
            ]
          },
          "execution_count": 58,
          "metadata": {},
          "output_type": "execute_result"
        }
      ],
      "source": [
        "final_df.shape"
      ]
    }
  ],
  "metadata": {
    "accelerator": "GPU",
    "colab": {
      "gpuType": "T4",
      "provenance": []
    },
    "kernelspec": {
      "display_name": "Python 3 (ipykernel)",
      "language": "python",
      "name": "python3"
    },
    "language_info": {
      "codemirror_mode": {
        "name": "ipython",
        "version": 3
      },
      "file_extension": ".py",
      "mimetype": "text/x-python",
      "name": "python",
      "nbconvert_exporter": "python",
      "pygments_lexer": "ipython3",
      "version": "3.9.12"
    }
  },
  "nbformat": 4,
  "nbformat_minor": 0
}